{
  "cells": [
    {
      "cell_type": "markdown",
      "metadata": {
        "id": "Hvs9fm1tIvyq"
      },
      "source": [
        "# Марковский процесс принятия решений\n",
        "\n",
        "#### дедлайн задания: 2 апреля, 23:59 GMT+3\n",
        "\n",
        "В данной работе рассматриваются методы, разработанные для решения Марковских процессов принятия решений,__M__arkov __D__ecision __P__rocesses, MDP. В самом широком смысле, MDP определяется тем, как он изменяет состояния и как вычисляются награды.\n",
        "\n",
        "Переход состояний определяется распределением $P(s' |s,a)$ &mdash; насколько вероятно перейти в состояние $s'$, если производится действие $a$ в состоянии $s$. Существует несколько способов определить функцию вознаграждений, однако ради удобства будет использована следующая сигнатура: $r(s,a,s')$.\n",
        "\n",
        "_Данный ноутбук вдохновлён заданием из курса_ [CS294](https://github.com/berkeleydeeprlcourse/homework/blob/36a0b58261acde756abd55306fbe63df226bf62b/hw2/HW2.ipynb) _от Калифорнийского университета в Беркли_"
      ]
    },
    {
      "cell_type": "markdown",
      "metadata": {
        "id": "zUd6I2EwIvyt"
      },
      "source": [
        "# Работа выполнена: Астанова Камилла, Б05-903."
      ]
    },
    {
      "cell_type": "markdown",
      "metadata": {
        "id": "v5LwmGmlIvyt"
      },
      "source": [
        "Для начала, давайте определим простой MDP, изображённый на рисунке ниже:\n",
        "\n",
        "<img src=\"https://upload.wikimedia.org/wikipedia/commons/a/ad/Markov_Decision_Process.svg\" width=\"400px\" alt=\"Diagram by Waldoalvarez via Wikimedia Commons, CC BY-SA 4.0\"/>"
      ]
    },
    {
      "cell_type": "code",
      "execution_count": 5,
      "metadata": {
        "id": "l3vMyD-FIvyt"
      },
      "outputs": [],
      "source": [
        "transition_probs = {\n",
        "    's0': {\n",
        "        'a0': {'s0': 0.5, 's2': 0.5},\n",
        "        'a1': {'s2': 1}\n",
        "    },\n",
        "    's1': {\n",
        "        'a0': {'s0': 0.7, 's1': 0.1, 's2': 0.2},\n",
        "        'a1': {'s1': 0.95, 's2': 0.05}\n",
        "    },\n",
        "    's2': {\n",
        "        'a0': {'s0': 0.4, 's2': 0.6},\n",
        "        'a1': {'s0': 0.3, 's1': 0.3, 's2': 0.4}\n",
        "    }\n",
        "}\n",
        "rewards = {\n",
        "    's1': {'a0': {'s0': +5}},\n",
        "    's2': {'a1': {'s0': -1}}\n",
        "}\n",
        "\n",
        "\n",
        "from mdp import MDP\n",
        "mdp = MDP(transition_probs, rewards, initial_state='s0')"
      ]
    },
    {
      "cell_type": "markdown",
      "metadata": {
        "id": "twOZY-9bIvyu"
      },
      "source": [
        "Теперь можно использовать MDP как и другие среды от Open AI Gym:"
      ]
    },
    {
      "cell_type": "code",
      "execution_count": 6,
      "metadata": {
        "id": "-V5QYLsqIvyv",
        "colab": {
          "base_uri": "https://localhost:8080/"
        },
        "outputId": "1576a174-c12a-4f8b-8855-d52a79525290"
      },
      "outputs": [
        {
          "output_type": "stream",
          "name": "stdout",
          "text": [
            "initial state = s0\n",
            "next_state = s2, reward = 0.0, done = False\n"
          ]
        }
      ],
      "source": [
        "print('initial state =', mdp.reset())\n",
        "next_state, reward, done, info = mdp.step('a1')\n",
        "print('next_state = %s, reward = %s, done = %s' % (next_state, reward, done))"
      ]
    },
    {
      "cell_type": "markdown",
      "metadata": {
        "id": "hJafm3ptIvyv"
      },
      "source": [
        "но также есть и другие методы, необходимые для имплементации алгоритма итерацонной оптимизации ценности (Value Iteration)"
      ]
    },
    {
      "cell_type": "code",
      "execution_count": 7,
      "metadata": {
        "id": "tJQ1hEJMIvyv",
        "colab": {
          "base_uri": "https://localhost:8080/"
        },
        "outputId": "fe9ef14f-f55e-4fd7-e90a-acb5ed7d475b"
      },
      "outputs": [
        {
          "output_type": "stream",
          "name": "stdout",
          "text": [
            "mdp.get_all_states = ('s0', 's1', 's2')\n",
            "mdp.get_possible_actions('s1') =  ('a0', 'a1')\n",
            "mdp.get_next_states('s1', 'a0') =  {'s0': 0.7, 's1': 0.1, 's2': 0.2}\n",
            "mdp.get_reward('s1', 'a0', 's0') =  5\n",
            "mdp.get_transition_prob('s1', 'a0', 's0') =  0.7\n"
          ]
        }
      ],
      "source": [
        "print(\"mdp.get_all_states =\", mdp.get_all_states())\n",
        "print(\"mdp.get_possible_actions('s1') = \", mdp.get_possible_actions('s1'))\n",
        "print(\"mdp.get_next_states('s1', 'a0') = \", mdp.get_next_states('s1', 'a0'))\n",
        "print(\"mdp.get_reward('s1', 'a0', 's0') = \", mdp.get_reward('s1', 'a0', 's0'))\n",
        "print(\"mdp.get_transition_prob('s1', 'a0', 's0') = \",\n",
        "      mdp.get_transition_prob('s1', 'a0', 's0'))"
      ]
    },
    {
      "cell_type": "markdown",
      "metadata": {
        "id": "Lb-2tORhIvyw"
      },
      "source": [
        "### Опционально: визуализация MDP\n",
        "\n",
        "Вы можете визуализировать MDP с помощью функции отрисовки, написанной [neer201](https://github.com/neer201).\n",
        "\n",
        "Для этого требуется установить graphviz системно и для Python. На Unix-подобных системах (Ubuntu) для этого достатчно выполнить следующие команды:\n",
        "\n",
        "1. `sudo apt-get install graphviz`\n",
        "2. `pip install graphviz`\n",
        "3. перезагрузить этот ноутбук\n",
        "\n",
        "__Замечание:__ Установка graphviz на некоторые ОС (особенно Windows) может быть нетривиальной. Поэтому можно пропусить данный шаг и использовать стандартную визуализацию."
      ]
    },
    {
      "cell_type": "code",
      "execution_count": 8,
      "metadata": {
        "id": "2mLN79DtIvyw",
        "colab": {
          "base_uri": "https://localhost:8080/"
        },
        "outputId": "f18aafae-0d4d-402a-97ab-3ff1e7c2082f"
      },
      "outputs": [
        {
          "output_type": "stream",
          "name": "stdout",
          "text": [
            "Graphviz доступен: True\n"
          ]
        }
      ],
      "source": [
        "from mdp import has_graphviz\n",
        "from IPython.display import display\n",
        "print(\"Graphviz доступен:\", has_graphviz)"
      ]
    },
    {
      "cell_type": "code",
      "execution_count": 9,
      "metadata": {
        "scrolled": false,
        "id": "0lgzjZ5EIvyx",
        "colab": {
          "base_uri": "https://localhost:8080/",
          "height": 472
        },
        "outputId": "036d8b67-262e-43e5-ad96-a38293bf05f1"
      },
      "outputs": [
        {
          "output_type": "display_data",
          "data": {
            "image/svg+xml": "<?xml version=\"1.0\" encoding=\"UTF-8\" standalone=\"no\"?>\n<!DOCTYPE svg PUBLIC \"-//W3C//DTD SVG 1.1//EN\"\n \"http://www.w3.org/Graphics/SVG/1.1/DTD/svg11.dtd\">\n<!-- Generated by graphviz version 2.43.0 (0)\n -->\n<!-- Title: MDP Pages: 1 -->\n<svg width=\"1027pt\" height=\"323pt\"\n viewBox=\"0.00 0.00 1027.46 323.00\" xmlns=\"http://www.w3.org/2000/svg\" xmlns:xlink=\"http://www.w3.org/1999/xlink\">\n<g id=\"graph0\" class=\"graph\" transform=\"scale(1 1) rotate(0) translate(4 319)\">\n<title>MDP</title>\n<polygon fill=\"white\" stroke=\"transparent\" points=\"-4,4 -4,-319 1023.46,-319 1023.46,4 -4,4\"/>\n<!-- s0 -->\n<g id=\"node1\" class=\"node\">\n<title>s0</title>\n<ellipse fill=\"#85ff75\" stroke=\"#85ff75\" cx=\"40\" cy=\"-116\" rx=\"36\" ry=\"36\"/>\n<ellipse fill=\"none\" stroke=\"#85ff75\" cx=\"40\" cy=\"-116\" rx=\"40\" ry=\"40\"/>\n<text text-anchor=\"middle\" x=\"40\" y=\"-109.8\" font-family=\"Arial\" font-size=\"24.00\">s0</text>\n</g>\n<!-- s0&#45;a0 -->\n<g id=\"node2\" class=\"node\">\n<title>s0&#45;a0</title>\n<ellipse fill=\"lightpink\" stroke=\"lightpink\" cx=\"193.58\" cy=\"-160\" rx=\"27.65\" ry=\"27.65\"/>\n<text text-anchor=\"middle\" x=\"193.58\" y=\"-155\" font-family=\"Arial\" font-size=\"20.00\">a0</text>\n</g>\n<!-- s0&#45;&gt;s0&#45;a0 -->\n<g id=\"edge1\" class=\"edge\">\n<title>s0&#45;&gt;s0&#45;a0</title>\n<path fill=\"none\" stroke=\"red\" stroke-width=\"2\" d=\"M79.19,-124.49C99.74,-129.34 125.44,-135.88 148,-143 151.34,-144.05 154.79,-145.22 158.23,-146.44\"/>\n<polygon fill=\"red\" stroke=\"red\" stroke-width=\"2\" points=\"157.17,-149.78 167.77,-149.95 159.59,-143.21 157.17,-149.78\"/>\n</g>\n<!-- s0&#45;a1 -->\n<g id=\"node4\" class=\"node\">\n<title>s0&#45;a1</title>\n<ellipse fill=\"lightpink\" stroke=\"lightpink\" cx=\"193.58\" cy=\"-233\" rx=\"27.65\" ry=\"27.65\"/>\n<text text-anchor=\"middle\" x=\"193.58\" y=\"-228\" font-family=\"Arial\" font-size=\"20.00\">a1</text>\n</g>\n<!-- s0&#45;&gt;s0&#45;a1 -->\n<g id=\"edge4\" class=\"edge\">\n<title>s0&#45;&gt;s0&#45;a1</title>\n<path fill=\"none\" stroke=\"red\" stroke-width=\"2\" d=\"M66.9,-145.7C76.21,-155.57 87.12,-166.26 98,-175 117.23,-190.44 140.89,-204.94 159.73,-215.59\"/>\n<polygon fill=\"red\" stroke=\"red\" stroke-width=\"2\" points=\"158.11,-218.69 168.55,-220.49 161.51,-212.57 158.11,-218.69\"/>\n</g>\n<!-- s0&#45;a0&#45;&gt;s0 -->\n<g id=\"edge2\" class=\"edge\">\n<title>s0&#45;a0&#45;&gt;s0</title>\n<path fill=\"none\" stroke=\"blue\" stroke-dasharray=\"5,2\" d=\"M166.14,-155.8C146.98,-152.42 120.58,-147.07 98,-140 94.19,-138.81 90.28,-137.45 86.39,-136.01\"/>\n<polygon fill=\"blue\" stroke=\"blue\" points=\"87.39,-132.65 76.8,-132.29 84.85,-139.17 87.39,-132.65\"/>\n<text text-anchor=\"middle\" x=\"123\" y=\"-158.2\" font-family=\"Arial\" font-size=\"16.00\">p = 0.5</text>\n</g>\n<!-- s2 -->\n<g id=\"node3\" class=\"node\">\n<title>s2</title>\n<ellipse fill=\"#85ff75\" stroke=\"#85ff75\" cx=\"433.15\" cy=\"-183\" rx=\"36\" ry=\"36\"/>\n<ellipse fill=\"none\" stroke=\"#85ff75\" cx=\"433.15\" cy=\"-183\" rx=\"40\" ry=\"40\"/>\n<text text-anchor=\"middle\" x=\"433.15\" y=\"-176.8\" font-family=\"Arial\" font-size=\"24.00\">s2</text>\n</g>\n<!-- s0&#45;a0&#45;&gt;s2 -->\n<g id=\"edge3\" class=\"edge\">\n<title>s0&#45;a0&#45;&gt;s2</title>\n<path fill=\"none\" stroke=\"blue\" stroke-dasharray=\"5,2\" d=\"M221.37,-162.59C260.57,-166.39 334.21,-173.52 383.23,-178.26\"/>\n<polygon fill=\"blue\" stroke=\"blue\" points=\"383,-181.76 393.29,-179.24 383.67,-174.79 383,-181.76\"/>\n<text text-anchor=\"middle\" x=\"307.15\" y=\"-183.2\" font-family=\"Arial\" font-size=\"16.00\">p = 0.5</text>\n</g>\n<!-- s2&#45;a0 -->\n<g id=\"node8\" class=\"node\">\n<title>s2&#45;a0</title>\n<ellipse fill=\"lightpink\" stroke=\"lightpink\" cx=\"666.73\" cy=\"-162\" rx=\"27.65\" ry=\"27.65\"/>\n<text text-anchor=\"middle\" x=\"666.73\" y=\"-157\" font-family=\"Arial\" font-size=\"20.00\">a0</text>\n</g>\n<!-- s2&#45;&gt;s2&#45;a0 -->\n<g id=\"edge13\" class=\"edge\">\n<title>s2&#45;&gt;s2&#45;a0</title>\n<path fill=\"none\" stroke=\"red\" stroke-width=\"2\" d=\"M473.31,-186.98C511.48,-189.83 570.95,-191.53 621.15,-181 624.83,-180.23 628.58,-179.15 632.26,-177.89\"/>\n<polygon fill=\"red\" stroke=\"red\" stroke-width=\"2\" points=\"633.69,-181.09 641.77,-174.24 631.18,-174.56 633.69,-181.09\"/>\n</g>\n<!-- s2&#45;a1 -->\n<g id=\"node9\" class=\"node\">\n<title>s2&#45;a1</title>\n<ellipse fill=\"lightpink\" stroke=\"lightpink\" cx=\"666.73\" cy=\"-80\" rx=\"27.65\" ry=\"27.65\"/>\n<text text-anchor=\"middle\" x=\"666.73\" y=\"-75\" font-family=\"Arial\" font-size=\"20.00\">a1</text>\n</g>\n<!-- s2&#45;&gt;s2&#45;a1 -->\n<g id=\"edge16\" class=\"edge\">\n<title>s2&#45;&gt;s2&#45;a1</title>\n<path fill=\"none\" stroke=\"red\" stroke-width=\"2\" d=\"M467.41,-161.94C475.08,-157.43 483.3,-152.87 491.15,-149 538.2,-125.86 595.06,-104.55 630.82,-91.92\"/>\n<polygon fill=\"red\" stroke=\"red\" stroke-width=\"2\" points=\"632.04,-95.2 640.32,-88.59 629.73,-88.59 632.04,-95.2\"/>\n</g>\n<!-- s0&#45;a1&#45;&gt;s2 -->\n<g id=\"edge5\" class=\"edge\">\n<title>s0&#45;a1&#45;&gt;s2</title>\n<path fill=\"none\" stroke=\"blue\" stroke-dasharray=\"5,2\" d=\"M221.08,-229.08C256.45,-223.65 320.92,-213 375.15,-200 378.37,-199.23 381.67,-198.39 384.98,-197.5\"/>\n<polygon fill=\"blue\" stroke=\"blue\" points=\"386.21,-200.79 394.91,-194.74 384.33,-194.05 386.21,-200.79\"/>\n<text text-anchor=\"middle\" x=\"307.15\" y=\"-230.2\" font-family=\"Arial\" font-size=\"16.00\">p = 1</text>\n</g>\n<!-- s1 -->\n<g id=\"node5\" class=\"node\">\n<title>s1</title>\n<ellipse fill=\"#85ff75\" stroke=\"#85ff75\" cx=\"829.31\" cy=\"-116\" rx=\"36\" ry=\"36\"/>\n<ellipse fill=\"none\" stroke=\"#85ff75\" cx=\"829.31\" cy=\"-116\" rx=\"40\" ry=\"40\"/>\n<text text-anchor=\"middle\" x=\"829.31\" y=\"-109.8\" font-family=\"Arial\" font-size=\"24.00\">s1</text>\n</g>\n<!-- s1&#45;a0 -->\n<g id=\"node6\" class=\"node\">\n<title>s1&#45;a0</title>\n<ellipse fill=\"lightpink\" stroke=\"lightpink\" cx=\"991.89\" cy=\"-92\" rx=\"27.65\" ry=\"27.65\"/>\n<text text-anchor=\"middle\" x=\"991.89\" y=\"-87\" font-family=\"Arial\" font-size=\"20.00\">a0</text>\n</g>\n<!-- s1&#45;&gt;s1&#45;a0 -->\n<g id=\"edge6\" class=\"edge\">\n<title>s1&#45;&gt;s1&#45;a0</title>\n<path fill=\"none\" stroke=\"red\" stroke-width=\"2\" d=\"M869.38,-112.27C891.95,-109.88 920.82,-106.39 946.31,-102 949,-101.54 951.77,-101.02 954.56,-100.47\"/>\n<polygon fill=\"red\" stroke=\"red\" stroke-width=\"2\" points=\"955.51,-103.84 964.57,-98.36 954.07,-96.99 955.51,-103.84\"/>\n</g>\n<!-- s1&#45;a1 -->\n<g id=\"node7\" class=\"node\">\n<title>s1&#45;a1</title>\n<ellipse fill=\"lightpink\" stroke=\"lightpink\" cx=\"991.89\" cy=\"-174\" rx=\"27.65\" ry=\"27.65\"/>\n<text text-anchor=\"middle\" x=\"991.89\" y=\"-169\" font-family=\"Arial\" font-size=\"20.00\">a1</text>\n</g>\n<!-- s1&#45;&gt;s1&#45;a1 -->\n<g id=\"edge10\" class=\"edge\">\n<title>s1&#45;&gt;s1&#45;a1</title>\n<path fill=\"none\" stroke=\"red\" stroke-width=\"2\" d=\"M867.66,-127.73C890.53,-135.12 920.3,-145.1 946.31,-155 949.82,-156.34 953.46,-157.78 957.08,-159.26\"/>\n<polygon fill=\"red\" stroke=\"red\" stroke-width=\"2\" points=\"955.93,-162.57 966.5,-163.2 958.62,-156.11 955.93,-162.57\"/>\n</g>\n<!-- s1&#45;a0&#45;&gt;s0 -->\n<g id=\"edge7\" class=\"edge\">\n<title>s1&#45;a0&#45;&gt;s0</title>\n<path fill=\"none\" stroke=\"blue\" stroke-dasharray=\"5,2\" d=\"M972.12,-72.49C944.03,-45.48 888.14,0 830.31,0 192.58,0 192.58,0 192.58,0 141.5,0 96.98,-42.06 69.63,-75.52\"/>\n<polygon fill=\"blue\" stroke=\"blue\" points=\"66.87,-73.37 63.4,-83.38 72.35,-77.72 66.87,-73.37\"/>\n<text text-anchor=\"middle\" x=\"556.15\" y=\"-5.2\" font-family=\"Arial\" font-size=\"16.00\">p = 0.7 &#160;reward =5</text>\n</g>\n<!-- s1&#45;a0&#45;&gt;s2 -->\n<g id=\"edge9\" class=\"edge\">\n<title>s1&#45;a0&#45;&gt;s2</title>\n<path fill=\"none\" stroke=\"blue\" stroke-dasharray=\"5,2\" d=\"M976.15,-114.86C972.01,-121.81 967.72,-129.58 964.31,-137 953.93,-159.61 966.27,-175.15 946.31,-190 783.96,-310.76 691.37,-229.22 491.15,-200 487.88,-199.52 484.54,-198.9 481.19,-198.17\"/>\n<polygon fill=\"blue\" stroke=\"blue\" points=\"481.76,-194.71 471.21,-195.73 480.1,-201.51 481.76,-194.71\"/>\n<text text-anchor=\"middle\" x=\"741.81\" y=\"-259.2\" font-family=\"Arial\" font-size=\"16.00\">p = 0.2</text>\n</g>\n<!-- s1&#45;a0&#45;&gt;s1 -->\n<g id=\"edge8\" class=\"edge\">\n<title>s1&#45;a0&#45;&gt;s1</title>\n<path fill=\"none\" stroke=\"blue\" stroke-dasharray=\"5,2\" d=\"M965.31,-83.53C944.06,-77.8 913.22,-72.5 887.31,-80 881.62,-81.65 875.95,-84.05 870.52,-86.84\"/>\n<polygon fill=\"blue\" stroke=\"blue\" points=\"868.63,-83.89 861.64,-91.85 872.07,-89.99 868.63,-83.89\"/>\n<text text-anchor=\"middle\" x=\"916.81\" y=\"-85.2\" font-family=\"Arial\" font-size=\"16.00\">p = 0.1</text>\n</g>\n<!-- s1&#45;a1&#45;&gt;s2 -->\n<g id=\"edge12\" class=\"edge\">\n<title>s1&#45;a1&#45;&gt;s2</title>\n<path fill=\"none\" stroke=\"blue\" stroke-dasharray=\"5,2\" d=\"M979.29,-198.86C971.84,-211.79 960.81,-226.45 946.31,-234 766.9,-327.45 679.29,-308.33 491.15,-234 482.81,-230.7 474.9,-225.59 467.78,-219.86\"/>\n<polygon fill=\"blue\" stroke=\"blue\" points=\"469.64,-216.84 459.8,-212.91 465.04,-222.12 469.64,-216.84\"/>\n<text text-anchor=\"middle\" x=\"741.81\" y=\"-302.2\" font-family=\"Arial\" font-size=\"16.00\">p = 0.05</text>\n</g>\n<!-- s1&#45;a1&#45;&gt;s1 -->\n<g id=\"edge11\" class=\"edge\">\n<title>s1&#45;a1&#45;&gt;s1</title>\n<path fill=\"none\" stroke=\"blue\" stroke-dasharray=\"5,2\" d=\"M964.16,-170.97C942.78,-167.92 912.34,-162.18 887.31,-152 881.89,-149.8 876.42,-147.08 871.11,-144.14\"/>\n<polygon fill=\"blue\" stroke=\"blue\" points=\"872.79,-141.06 862.39,-139.02 869.25,-147.1 872.79,-141.06\"/>\n<text text-anchor=\"middle\" x=\"916.81\" y=\"-173.2\" font-family=\"Arial\" font-size=\"16.00\">p = 0.95</text>\n</g>\n<!-- s2&#45;a0&#45;&gt;s0 -->\n<g id=\"edge14\" class=\"edge\">\n<title>s2&#45;a0&#45;&gt;s0</title>\n<path fill=\"none\" stroke=\"blue\" stroke-dasharray=\"5,2\" d=\"M640,-153.63C633.88,-151.88 627.33,-150.2 621.15,-149 446.29,-114.94 399.16,-130.34 221.15,-123 176.89,-121.17 126.51,-119.23 90.3,-117.85\"/>\n<polygon fill=\"blue\" stroke=\"blue\" points=\"90.14,-114.34 80.01,-117.46 89.87,-121.34 90.14,-114.34\"/>\n<text text-anchor=\"middle\" x=\"307.15\" y=\"-131.2\" font-family=\"Arial\" font-size=\"16.00\">p = 0.4</text>\n</g>\n<!-- s2&#45;a0&#45;&gt;s2 -->\n<g id=\"edge15\" class=\"edge\">\n<title>s2&#45;a0&#45;&gt;s2</title>\n<path fill=\"none\" stroke=\"blue\" stroke-dasharray=\"5,2\" d=\"M639.38,-158.06C604.93,-153.7 542.86,-148.56 491.15,-159 487.07,-159.82 482.91,-160.95 478.8,-162.27\"/>\n<polygon fill=\"blue\" stroke=\"blue\" points=\"477.59,-158.99 469.34,-165.64 479.93,-165.58 477.59,-158.99\"/>\n<text text-anchor=\"middle\" x=\"556.15\" y=\"-164.2\" font-family=\"Arial\" font-size=\"16.00\">p = 0.6</text>\n</g>\n<!-- s2&#45;a1&#45;&gt;s0 -->\n<g id=\"edge17\" class=\"edge\">\n<title>s2&#45;a1&#45;&gt;s0</title>\n<path fill=\"none\" stroke=\"blue\" stroke-dasharray=\"5,2\" d=\"M643.56,-64.64C636.68,-60.71 628.88,-57.02 621.15,-55 456.84,-12.07 407.97,-45.54 239.15,-64 175.74,-70.93 158.85,-70.84 98,-90 93.92,-91.29 89.74,-92.79 85.59,-94.42\"/>\n<polygon fill=\"blue\" stroke=\"blue\" points=\"83.93,-91.32 76.04,-98.39 86.62,-97.78 83.93,-91.32\"/>\n<text text-anchor=\"middle\" x=\"307.15\" y=\"-69.2\" font-family=\"Arial\" font-size=\"16.00\">p = 0.3 &#160;reward =&#45;1</text>\n</g>\n<!-- s2&#45;a1&#45;&gt;s2 -->\n<g id=\"edge19\" class=\"edge\">\n<title>s2&#45;a1&#45;&gt;s2</title>\n<path fill=\"none\" stroke=\"blue\" stroke-dasharray=\"5,2\" d=\"M640.47,-71.31C604.47,-60.59 537.63,-46.98 491.15,-75 469.57,-88.02 455.74,-112.24 447.11,-134.45\"/>\n<polygon fill=\"blue\" stroke=\"blue\" points=\"443.72,-133.54 443.62,-144.14 450.3,-135.92 443.72,-133.54\"/>\n<text text-anchor=\"middle\" x=\"556.15\" y=\"-80.2\" font-family=\"Arial\" font-size=\"16.00\">p = 0.4</text>\n</g>\n<!-- s2&#45;a1&#45;&gt;s1 -->\n<g id=\"edge18\" class=\"edge\">\n<title>s2&#45;a1&#45;&gt;s1</title>\n<path fill=\"none\" stroke=\"blue\" stroke-dasharray=\"5,2\" d=\"M693.89,-85.86C717.16,-91.08 751.78,-98.84 780.06,-105.18\"/>\n<polygon fill=\"blue\" stroke=\"blue\" points=\"779.64,-108.68 790.16,-107.45 781.17,-101.85 779.64,-108.68\"/>\n<text text-anchor=\"middle\" x=\"741.81\" y=\"-108.2\" font-family=\"Arial\" font-size=\"16.00\">p = 0.3</text>\n</g>\n</g>\n</svg>\n",
            "text/plain": [
              "<graphviz.graphs.Digraph at 0x7f679c19e0d0>"
            ]
          },
          "metadata": {}
        }
      ],
      "source": [
        "if has_graphviz:\n",
        "    from mdp import plot_graph, plot_graph_with_state_values, \\\n",
        "        plot_graph_optimal_strategy_and_state_values\n",
        "\n",
        "    display(plot_graph(mdp))"
      ]
    },
    {
      "cell_type": "markdown",
      "metadata": {
        "id": "kK9cFd86Ivyx"
      },
      "source": [
        "# Итерационная оптимизация ценности, Value Iteration (вплоть до 4 баллов)\n",
        "\n",
        "Теперь построим первый способ решения MDP. Простейший на данный момент алгоритм называется итерационной оптимизацией ценности или __V__alue __I__teration\n",
        "\n",
        "Ниже представлен псевдокод VI:\n",
        "\n",
        "---\n",
        "\n",
        "`1.` Инициализация $V^{(0)}(s)=0$, for all $s$\n",
        "\n",
        "`2.` Для $i=0, 1, 2, \\dots$\n",
        " \n",
        "`3.` $ \\quad V_{(i+1)}(s) = \\max_a \\sum_{s'} P(s' | s,a) \\cdot [ r(s,a,s') + \\gamma V_{i}(s')]$, для всех $s$\n",
        "\n",
        "---"
      ]
    },
    {
      "cell_type": "markdown",
      "metadata": {
        "id": "-iNfDRXsIvyx"
      },
      "source": [
        "Для начала выпишем функцию вычисления $Q$-функции ценности $Q^{\\pi}$, определив следующим образом\n",
        "\n",
        "$$Q_i(s, a) = \\sum_{s'} P(s' | s,a) \\cdot [ r(s,a,s') + \\gamma V_{i}(s')]$$\n"
      ]
    },
    {
      "cell_type": "code",
      "execution_count": 10,
      "metadata": {
        "id": "XxdrYlCoIvyy",
        "colab": {
          "base_uri": "https://localhost:8080/"
        },
        "outputId": "edd5f1f6-91d1-46fe-8f10-feed07bd016e"
      },
      "outputs": [
        {
          "output_type": "stream",
          "name": "stdout",
          "text": [
            "Writing mdp_get_action_value.py\n"
          ]
        }
      ],
      "source": [
        "%%writefile mdp_get_action_value.py\n",
        "def get_action_value(mdp, state_values, state, action, gamma):\n",
        "    \"\"\" Вычисляет Q(s,a) согласно формуле выше \"\"\"\n",
        "    \n",
        "    q = 0\n",
        "    for next_state in mdp.get_next_states(state, action):\n",
        "      q += mdp.get_transition_prob(state, action, next_state) * (mdp.get_reward(state, action, next_state) + \n",
        "      gamma * state_values[next_state])\n",
        "    \n",
        "    return q"
      ]
    },
    {
      "cell_type": "code",
      "execution_count": 11,
      "metadata": {
        "id": "wkXUjHAzIvyy"
      },
      "outputs": [],
      "source": [
        "from mdp_get_action_value import *"
      ]
    },
    {
      "cell_type": "code",
      "execution_count": 12,
      "metadata": {
        "id": "4koYlWjeIvyy"
      },
      "outputs": [],
      "source": [
        "import numpy as np\n",
        "test_Vs = {s: i for i, s in enumerate(sorted(mdp.get_all_states()))}\n",
        "assert np.isclose(get_action_value(mdp, test_Vs, 's2', 'a1', 0.9), 0.69)\n",
        "assert np.isclose(get_action_value(mdp, test_Vs, 's1', 'a0', 0.9), 3.95)"
      ]
    },
    {
      "cell_type": "markdown",
      "metadata": {
        "id": "_Kp3SCZcIvyy"
      },
      "source": [
        "Используя $Q(s,a)$ можно определить \"следующее\" $V(s)$ для итерационной оптимизации ценности.\n",
        " $$V_{(i+1)}(s) = \\max_a \\sum_{s'} P(s' | s,a) \\cdot [ r(s,a,s') + \\gamma V_{i}(s')] = \\max_a Q_i(s,a)$$"
      ]
    },
    {
      "cell_type": "code",
      "source": [
        "# state = 's0'\n",
        "# actions = mdp.get_possible_actions('s0')\n",
        "# state_values = {s: 0 for s in mdp.get_all_states()}\n",
        "# action_values = []\n",
        "# for action in actions:\n",
        "#   action_values.append(get_action_value(mdp, state_values, state, action, gamma=0.95))\n",
        "# np.max(action_values)"
      ],
      "metadata": {
        "id": "w-79eOpGaxR8"
      },
      "execution_count": 13,
      "outputs": []
    },
    {
      "cell_type": "code",
      "execution_count": 14,
      "metadata": {
        "id": "DuTKtEHMIvyz"
      },
      "outputs": [],
      "source": [
        "def get_new_state_value(mdp, state_values, state, gamma):\n",
        "    \"\"\" Вычисляет следующее V(s) согласно формуле выше. Просьба не изменять state_values в процессе. \"\"\"\n",
        "    if mdp.is_terminal(state):\n",
        "        return 0\n",
        "    \n",
        "    action_values = []\n",
        "    for action in mdp.get_possible_actions(state):\n",
        "      action_values.append(get_action_value(mdp, state_values, state, action, gamma))\n",
        "    \n",
        "    return np.max(action_values)"
      ]
    },
    {
      "cell_type": "code",
      "execution_count": 15,
      "metadata": {
        "id": "6xdJo_L_Ivyz"
      },
      "outputs": [],
      "source": [
        "test_Vs_copy = dict(test_Vs)\n",
        "assert np.isclose(get_new_state_value(mdp, test_Vs, 's0', 0.9), 1.8)\n",
        "assert np.isclose(get_new_state_value(mdp, test_Vs, 's2', 0.9), 1.08)\n",
        "assert test_Vs == test_Vs_copy, \"просьба не изменять state_values в get_new_state_value\""
      ]
    },
    {
      "cell_type": "markdown",
      "metadata": {
        "id": "XwWx3DEsIvyz"
      },
      "source": [
        "Наконец-то можно скомбинировать написанное в работающий алгоритм."
      ]
    },
    {
      "cell_type": "code",
      "execution_count": 16,
      "metadata": {
        "id": "jkTHZYPKIvyz",
        "colab": {
          "base_uri": "https://localhost:8080/",
          "height": 1000
        },
        "outputId": "b98be575-e71c-4de4-82ef-4643619719cf"
      },
      "outputs": [
        {
          "output_type": "display_data",
          "data": {
            "image/svg+xml": "<?xml version=\"1.0\" encoding=\"UTF-8\" standalone=\"no\"?>\n<!DOCTYPE svg PUBLIC \"-//W3C//DTD SVG 1.1//EN\"\n \"http://www.w3.org/Graphics/SVG/1.1/DTD/svg11.dtd\">\n<!-- Generated by graphviz version 2.43.0 (0)\n -->\n<!-- Title: MDP Pages: 1 -->\n<svg width=\"1096pt\" height=\"327pt\"\n viewBox=\"0.00 0.00 1095.72 327.00\" xmlns=\"http://www.w3.org/2000/svg\" xmlns:xlink=\"http://www.w3.org/1999/xlink\">\n<g id=\"graph0\" class=\"graph\" transform=\"scale(1 1) rotate(0) translate(4 323)\">\n<title>MDP</title>\n<polygon fill=\"white\" stroke=\"transparent\" points=\"-4,4 -4,-323 1091.72,-323 1091.72,4 -4,4\"/>\n<!-- s0 -->\n<g id=\"node1\" class=\"node\">\n<title>s0</title>\n<ellipse fill=\"#85ff75\" stroke=\"#85ff75\" cx=\"51.38\" cy=\"-116\" rx=\"47.26\" ry=\"47.26\"/>\n<ellipse fill=\"none\" stroke=\"#85ff75\" cx=\"51.38\" cy=\"-116\" rx=\"51.25\" ry=\"51.25\"/>\n<text text-anchor=\"middle\" x=\"51.38\" y=\"-122.8\" font-family=\"Arial\" font-size=\"24.00\">s0</text>\n<text text-anchor=\"middle\" x=\"51.38\" y=\"-96.8\" font-family=\"Arial\" font-size=\"24.00\">V =0</text>\n</g>\n<!-- s0&#45;a0 -->\n<g id=\"node2\" class=\"node\">\n<title>s0&#45;a0</title>\n<ellipse fill=\"lightpink\" stroke=\"lightpink\" cx=\"216.33\" cy=\"-160\" rx=\"27.65\" ry=\"27.65\"/>\n<text text-anchor=\"middle\" x=\"216.33\" y=\"-155\" font-family=\"Arial\" font-size=\"20.00\">a0</text>\n</g>\n<!-- s0&#45;&gt;s0&#45;a0 -->\n<g id=\"edge1\" class=\"edge\">\n<title>s0&#45;&gt;s0&#45;a0</title>\n<path fill=\"none\" stroke=\"red\" stroke-width=\"2\" d=\"M102.02,-125.7C123.36,-130.29 148.46,-136.24 170.75,-143 174.1,-144.02 177.56,-145.16 181.01,-146.36\"/>\n<polygon fill=\"red\" stroke=\"red\" stroke-width=\"2\" points=\"179.96,-149.71 190.55,-149.85 182.36,-143.13 179.96,-149.71\"/>\n</g>\n<!-- s0&#45;a1 -->\n<g id=\"node4\" class=\"node\">\n<title>s0&#45;a1</title>\n<ellipse fill=\"lightpink\" stroke=\"lightpink\" cx=\"216.33\" cy=\"-233\" rx=\"27.65\" ry=\"27.65\"/>\n<text text-anchor=\"middle\" x=\"216.33\" y=\"-228\" font-family=\"Arial\" font-size=\"20.00\">a1</text>\n</g>\n<!-- s0&#45;&gt;s0&#45;a1 -->\n<g id=\"edge4\" class=\"edge\">\n<title>s0&#45;&gt;s0&#45;a1</title>\n<path fill=\"none\" stroke=\"red\" stroke-width=\"2\" d=\"M90.27,-149.83C99.98,-158.03 110.57,-166.57 120.75,-174 140.77,-188.61 164.42,-203.37 183.07,-214.47\"/>\n<polygon fill=\"red\" stroke=\"red\" stroke-width=\"2\" points=\"181.39,-217.54 191.78,-219.61 184.94,-211.51 181.39,-217.54\"/>\n</g>\n<!-- s0&#45;a0&#45;&gt;s0 -->\n<g id=\"edge2\" class=\"edge\">\n<title>s0&#45;a0&#45;&gt;s0</title>\n<path fill=\"none\" stroke=\"blue\" stroke-dasharray=\"5,2\" d=\"M189.02,-155.38C169.92,-151.8 143.54,-146.38 120.75,-140 117.15,-138.99 113.46,-137.89 109.75,-136.74\"/>\n<polygon fill=\"blue\" stroke=\"blue\" points=\"110.54,-133.31 99.95,-133.58 108.39,-139.98 110.54,-133.31\"/>\n<text text-anchor=\"middle\" x=\"145.75\" y=\"-157.2\" font-family=\"Arial\" font-size=\"16.00\">p = 0.5</text>\n</g>\n<!-- s2 -->\n<g id=\"node3\" class=\"node\">\n<title>s2</title>\n<ellipse fill=\"#85ff75\" stroke=\"#85ff75\" cx=\"467.28\" cy=\"-189\" rx=\"47.26\" ry=\"47.26\"/>\n<ellipse fill=\"none\" stroke=\"#85ff75\" cx=\"467.28\" cy=\"-189\" rx=\"51.25\" ry=\"51.25\"/>\n<text text-anchor=\"middle\" x=\"467.28\" y=\"-195.8\" font-family=\"Arial\" font-size=\"24.00\">s2</text>\n<text text-anchor=\"middle\" x=\"467.28\" y=\"-169.8\" font-family=\"Arial\" font-size=\"24.00\">V =0</text>\n</g>\n<!-- s0&#45;a0&#45;&gt;s2 -->\n<g id=\"edge3\" class=\"edge\">\n<title>s0&#45;a0&#45;&gt;s2</title>\n<path fill=\"none\" stroke=\"blue\" stroke-dasharray=\"5,2\" d=\"M243.97,-163.1C282.31,-167.57 354.09,-175.93 405.73,-181.95\"/>\n<polygon fill=\"blue\" stroke=\"blue\" points=\"405.43,-185.44 415.77,-183.12 406.24,-178.48 405.43,-185.44\"/>\n<text text-anchor=\"middle\" x=\"329.91\" y=\"-186.2\" font-family=\"Arial\" font-size=\"16.00\">p = 0.5</text>\n</g>\n<!-- s2&#45;a0 -->\n<g id=\"node8\" class=\"node\">\n<title>s2&#45;a0</title>\n<ellipse fill=\"lightpink\" stroke=\"lightpink\" cx=\"712.24\" cy=\"-162\" rx=\"27.65\" ry=\"27.65\"/>\n<text text-anchor=\"middle\" x=\"712.24\" y=\"-157\" font-family=\"Arial\" font-size=\"20.00\">a0</text>\n</g>\n<!-- s2&#45;&gt;s2&#45;a0 -->\n<g id=\"edge13\" class=\"edge\">\n<title>s2&#45;&gt;s2&#45;a0</title>\n<path fill=\"none\" stroke=\"red\" stroke-width=\"2\" d=\"M518.67,-191.94C559.16,-193.12 617.23,-192.14 666.66,-181 670.32,-180.17 674.06,-179.06 677.74,-177.78\"/>\n<polygon fill=\"red\" stroke=\"red\" stroke-width=\"2\" points=\"679.18,-180.98 687.24,-174.1 676.65,-174.45 679.18,-180.98\"/>\n</g>\n<!-- s2&#45;a1 -->\n<g id=\"node9\" class=\"node\">\n<title>s2&#45;a1</title>\n<ellipse fill=\"lightpink\" stroke=\"lightpink\" cx=\"712.24\" cy=\"-77\" rx=\"27.65\" ry=\"27.65\"/>\n<text text-anchor=\"middle\" x=\"712.24\" y=\"-72\" font-family=\"Arial\" font-size=\"20.00\">a1</text>\n</g>\n<!-- s2&#45;&gt;s2&#45;a1 -->\n<g id=\"edge16\" class=\"edge\">\n<title>s2&#45;&gt;s2&#45;a1</title>\n<path fill=\"none\" stroke=\"red\" stroke-width=\"2\" d=\"M511.56,-162.48C519.79,-157.78 528.4,-153.09 536.66,-149 584.05,-125.51 641.04,-103.03 676.71,-89.62\"/>\n<polygon fill=\"red\" stroke=\"red\" stroke-width=\"2\" points=\"678.04,-92.86 686.18,-86.08 675.59,-86.3 678.04,-92.86\"/>\n</g>\n<!-- s0&#45;a1&#45;&gt;s2 -->\n<g id=\"edge5\" class=\"edge\">\n<title>s0&#45;a1&#45;&gt;s2</title>\n<path fill=\"none\" stroke=\"blue\" stroke-dasharray=\"5,2\" d=\"M243.7,-228.93C278.92,-223.43 343.22,-213.14 397.91,-203 400.75,-202.47 403.67,-201.92 406.61,-201.35\"/>\n<polygon fill=\"blue\" stroke=\"blue\" points=\"407.51,-204.74 416.66,-199.39 406.17,-197.87 407.51,-204.74\"/>\n<text text-anchor=\"middle\" x=\"329.91\" y=\"-230.2\" font-family=\"Arial\" font-size=\"16.00\">p = 1</text>\n</g>\n<!-- s1 -->\n<g id=\"node5\" class=\"node\">\n<title>s1</title>\n<ellipse fill=\"#85ff75\" stroke=\"#85ff75\" cx=\"886.19\" cy=\"-86\" rx=\"47.26\" ry=\"47.26\"/>\n<ellipse fill=\"none\" stroke=\"#85ff75\" cx=\"886.19\" cy=\"-86\" rx=\"51.25\" ry=\"51.25\"/>\n<text text-anchor=\"middle\" x=\"886.19\" y=\"-92.8\" font-family=\"Arial\" font-size=\"24.00\">s1</text>\n<text text-anchor=\"middle\" x=\"886.19\" y=\"-66.8\" font-family=\"Arial\" font-size=\"24.00\">V =0</text>\n</g>\n<!-- s1&#45;a0 -->\n<g id=\"node6\" class=\"node\">\n<title>s1&#45;a0</title>\n<ellipse fill=\"lightpink\" stroke=\"lightpink\" cx=\"1060.14\" cy=\"-62\" rx=\"27.65\" ry=\"27.65\"/>\n<text text-anchor=\"middle\" x=\"1060.14\" y=\"-57\" font-family=\"Arial\" font-size=\"20.00\">a0</text>\n</g>\n<!-- s1&#45;&gt;s1&#45;a0 -->\n<g id=\"edge6\" class=\"edge\">\n<title>s1&#45;&gt;s1&#45;a0</title>\n<path fill=\"none\" stroke=\"red\" stroke-width=\"2\" d=\"M937.58,-81.76C961.06,-79.46 989.33,-76.2 1014.57,-72 1017.26,-71.55 1020.04,-71.04 1022.82,-70.5\"/>\n<polygon fill=\"red\" stroke=\"red\" stroke-width=\"2\" points=\"1023.76,-73.88 1032.84,-68.41 1022.33,-67.02 1023.76,-73.88\"/>\n</g>\n<!-- s1&#45;a1 -->\n<g id=\"node7\" class=\"node\">\n<title>s1&#45;a1</title>\n<ellipse fill=\"lightpink\" stroke=\"lightpink\" cx=\"1060.14\" cy=\"-144\" rx=\"27.65\" ry=\"27.65\"/>\n<text text-anchor=\"middle\" x=\"1060.14\" y=\"-139\" font-family=\"Arial\" font-size=\"20.00\">a1</text>\n</g>\n<!-- s1&#45;&gt;s1&#45;a1 -->\n<g id=\"edge10\" class=\"edge\">\n<title>s1&#45;&gt;s1&#45;a1</title>\n<path fill=\"none\" stroke=\"red\" stroke-width=\"2\" d=\"M935.98,-99.62C959.86,-106.62 988.93,-115.64 1014.57,-125 1018.09,-126.29 1021.74,-127.7 1025.37,-129.16\"/>\n<polygon fill=\"red\" stroke=\"red\" stroke-width=\"2\" points=\"1024.23,-132.48 1034.8,-133.08 1026.91,-126.01 1024.23,-132.48\"/>\n</g>\n<!-- s1&#45;a0&#45;&gt;s0 -->\n<g id=\"edge7\" class=\"edge\">\n<title>s1&#45;a0&#45;&gt;s0</title>\n<path fill=\"none\" stroke=\"blue\" stroke-dasharray=\"5,2\" d=\"M1036.17,-47.93C1004.06,-29.64 943.36,0 887.19,0 215.33,0 215.33,0 215.33,0 165.66,0 120.62,-36.21 90.55,-68.17\"/>\n<polygon fill=\"blue\" stroke=\"blue\" points=\"87.78,-66.01 83.61,-75.75 92.94,-70.74 87.78,-66.01\"/>\n<text text-anchor=\"middle\" x=\"601.66\" y=\"-5.2\" font-family=\"Arial\" font-size=\"16.00\">p = 0.7 &#160;reward =5</text>\n</g>\n<!-- s1&#45;a0&#45;&gt;s2 -->\n<g id=\"edge9\" class=\"edge\">\n<title>s1&#45;a0&#45;&gt;s2</title>\n<path fill=\"none\" stroke=\"blue\" stroke-dasharray=\"5,2\" d=\"M1044.41,-84.86C1040.27,-91.81 1035.97,-99.58 1032.57,-107 1022.19,-129.61 1033.72,-144.12 1014.57,-160 873.83,-276.68 635.88,-234.29 526.48,-206.07\"/>\n<polygon fill=\"blue\" stroke=\"blue\" points=\"527.18,-202.64 516.62,-203.48 525.4,-209.41 527.18,-202.64\"/>\n<text text-anchor=\"middle\" x=\"787.31\" y=\"-242.2\" font-family=\"Arial\" font-size=\"16.00\">p = 0.2</text>\n</g>\n<!-- s1&#45;a0&#45;&gt;s1 -->\n<g id=\"edge8\" class=\"edge\">\n<title>s1&#45;a0&#45;&gt;s1</title>\n<path fill=\"none\" stroke=\"blue\" stroke-dasharray=\"5,2\" d=\"M1033.71,-54.07C1012.54,-48.65 981.75,-43.53 955.57,-50 950.27,-51.31 944.94,-53.11 939.71,-55.21\"/>\n<polygon fill=\"blue\" stroke=\"blue\" points=\"938.19,-52.05 930.44,-59.28 941.01,-58.46 938.19,-52.05\"/>\n<text text-anchor=\"middle\" x=\"985.07\" y=\"-55.2\" font-family=\"Arial\" font-size=\"16.00\">p = 0.1</text>\n</g>\n<!-- s1&#45;a1&#45;&gt;s2 -->\n<g id=\"edge12\" class=\"edge\">\n<title>s1&#45;a1&#45;&gt;s2</title>\n<path fill=\"none\" stroke=\"blue\" stroke-dasharray=\"5,2\" d=\"M1053.65,-171.13C1047.82,-192.2 1036.32,-220.12 1014.57,-234 835.53,-348.28 739.43,-297.24 536.66,-234 530.01,-231.92 523.39,-228.99 517.05,-225.61\"/>\n<polygon fill=\"blue\" stroke=\"blue\" points=\"518.38,-222.34 507.97,-220.37 514.88,-228.4 518.38,-222.34\"/>\n<text text-anchor=\"middle\" x=\"787.31\" y=\"-306.2\" font-family=\"Arial\" font-size=\"16.00\">p = 0.05</text>\n</g>\n<!-- s1&#45;a1&#45;&gt;s1 -->\n<g id=\"edge11\" class=\"edge\">\n<title>s1&#45;a1&#45;&gt;s1</title>\n<path fill=\"none\" stroke=\"blue\" stroke-dasharray=\"5,2\" d=\"M1032.62,-140.43C1011.36,-137.08 980.98,-131.19 955.57,-122 950.52,-120.18 945.38,-118.04 940.3,-115.74\"/>\n<polygon fill=\"blue\" stroke=\"blue\" points=\"941.79,-112.57 931.26,-111.45 938.79,-118.9 941.79,-112.57\"/>\n<text text-anchor=\"middle\" x=\"985.07\" y=\"-143.2\" font-family=\"Arial\" font-size=\"16.00\">p = 0.95</text>\n</g>\n<!-- s2&#45;a0&#45;&gt;s0 -->\n<g id=\"edge14\" class=\"edge\">\n<title>s2&#45;a0&#45;&gt;s0</title>\n<path fill=\"none\" stroke=\"blue\" stroke-dasharray=\"5,2\" d=\"M685.47,-153.78C679.35,-152.02 672.81,-150.3 666.66,-149 601.73,-135.23 584.82,-134.38 518.66,-129 373.47,-117.2 202.1,-115.56 113.03,-115.63\"/>\n<polygon fill=\"blue\" stroke=\"blue\" points=\"112.84,-112.13 102.84,-115.65 112.85,-119.13 112.84,-112.13\"/>\n<text text-anchor=\"middle\" x=\"329.91\" y=\"-127.2\" font-family=\"Arial\" font-size=\"16.00\">p = 0.4</text>\n</g>\n<!-- s2&#45;a0&#45;&gt;s2 -->\n<g id=\"edge15\" class=\"edge\">\n<title>s2&#45;a0&#45;&gt;s2</title>\n<path fill=\"none\" stroke=\"blue\" stroke-dasharray=\"5,2\" d=\"M684.86,-157.94C650.38,-153.45 588.28,-148.17 536.66,-159 532.18,-159.94 527.65,-161.19 523.14,-162.64\"/>\n<polygon fill=\"blue\" stroke=\"blue\" points=\"521.63,-159.47 513.39,-166.12 523.99,-166.06 521.63,-159.47\"/>\n<text text-anchor=\"middle\" x=\"601.66\" y=\"-164.2\" font-family=\"Arial\" font-size=\"16.00\">p = 0.6</text>\n</g>\n<!-- s2&#45;a1&#45;&gt;s0 -->\n<g id=\"edge17\" class=\"edge\">\n<title>s2&#45;a1&#45;&gt;s0</title>\n<path fill=\"none\" stroke=\"blue\" stroke-dasharray=\"5,2\" d=\"M688.53,-62C681.77,-58.32 674.16,-54.89 666.66,-53 610.63,-38.88 594.43,-51.84 536.66,-53 351.12,-56.71 299.47,-40.01 120.75,-90 116.94,-91.07 113.04,-92.26 109.14,-93.53\"/>\n<polygon fill=\"blue\" stroke=\"blue\" points=\"107.79,-90.29 99.45,-96.83 110.05,-96.92 107.79,-90.29\"/>\n<text text-anchor=\"middle\" x=\"329.91\" y=\"-65.2\" font-family=\"Arial\" font-size=\"16.00\">p = 0.3 &#160;reward =&#45;1</text>\n</g>\n<!-- s2&#45;a1&#45;&gt;s2 -->\n<g id=\"edge19\" class=\"edge\">\n<title>s2&#45;a1&#45;&gt;s2</title>\n<path fill=\"none\" stroke=\"blue\" stroke-dasharray=\"5,2\" d=\"M685.84,-68.74C649.98,-58.69 583.65,-46.15 536.66,-73 514.45,-85.69 498.73,-108.73 488.02,-130.94\"/>\n<polygon fill=\"blue\" stroke=\"blue\" points=\"484.83,-129.5 483.87,-140.05 491.2,-132.4 484.83,-129.5\"/>\n<text text-anchor=\"middle\" x=\"601.66\" y=\"-78.2\" font-family=\"Arial\" font-size=\"16.00\">p = 0.4</text>\n</g>\n<!-- s2&#45;a1&#45;&gt;s1 -->\n<g id=\"edge18\" class=\"edge\">\n<title>s2&#45;a1&#45;&gt;s1</title>\n<path fill=\"none\" stroke=\"blue\" stroke-dasharray=\"5,2\" d=\"M740.1,-78.41C762.66,-79.59 795.75,-81.32 824.63,-82.83\"/>\n<polygon fill=\"blue\" stroke=\"blue\" points=\"824.47,-86.33 834.64,-83.35 824.84,-79.34 824.47,-86.33\"/>\n<text text-anchor=\"middle\" x=\"787.31\" y=\"-88.2\" font-family=\"Arial\" font-size=\"16.00\">p = 0.3</text>\n</g>\n</g>\n</svg>\n",
            "text/plain": [
              "<graphviz.graphs.Digraph at 0x7f679c125fd0>"
            ]
          },
          "metadata": {}
        },
        {
          "output_type": "stream",
          "name": "stdout",
          "text": [
            "Итерация    0   |   разность max_s|V_new(s) - V_old(s)|: 3.50000   |   V(s0) = 0.000   V(s1) = 0.000   V(s2) = 0.000\n",
            "Итерация    1   |   разность max_s|V_new(s) - V_old(s)|: 0.64500   |   V(s0) = 0.000   V(s1) = 3.500   V(s2) = 0.000\n",
            "Итерация    2   |   разность max_s|V_new(s) - V_old(s)|: 0.58050   |   V(s0) = 0.000   V(s1) = 3.815   V(s2) = 0.645\n",
            "Итерация    3   |   разность max_s|V_new(s) - V_old(s)|: 0.43582   |   V(s0) = 0.581   V(s1) = 3.959   V(s2) = 0.962\n",
            "Итерация    4   |   разность max_s|V_new(s) - V_old(s)|: 0.30634   |   V(s0) = 0.866   V(s1) = 4.395   V(s2) = 1.272\n",
            "Итерация    5   |   разность max_s|V_new(s) - V_old(s)|: 0.27571   |   V(s0) = 1.145   V(s1) = 4.670   V(s2) = 1.579\n",
            "Итерация    6   |   разность max_s|V_new(s) - V_old(s)|: 0.24347   |   V(s0) = 1.421   V(s1) = 4.926   V(s2) = 1.838\n",
            "Итерация    7   |   разность max_s|V_new(s) - V_old(s)|: 0.21419   |   V(s0) = 1.655   V(s1) = 5.169   V(s2) = 2.075\n",
            "Итерация    8   |   разность max_s|V_new(s) - V_old(s)|: 0.19277   |   V(s0) = 1.868   V(s1) = 5.381   V(s2) = 2.290\n",
            "Итерация    9   |   разность max_s|V_new(s) - V_old(s)|: 0.17327   |   V(s0) = 2.061   V(s1) = 5.573   V(s2) = 2.481\n",
            "Итерация   10   |   разность max_s|V_new(s) - V_old(s)|: 0.15569   |   V(s0) = 2.233   V(s1) = 5.746   V(s2) = 2.654\n",
            "Итерация   11   |   разность max_s|V_new(s) - V_old(s)|: 0.14012   |   V(s0) = 2.389   V(s1) = 5.902   V(s2) = 2.810\n",
            "Итерация   12   |   разность max_s|V_new(s) - V_old(s)|: 0.12610   |   V(s0) = 2.529   V(s1) = 6.042   V(s2) = 2.950\n",
            "Итерация   13   |   разность max_s|V_new(s) - V_old(s)|: 0.11348   |   V(s0) = 2.655   V(s1) = 6.168   V(s2) = 3.076\n",
            "Итерация   14   |   разность max_s|V_new(s) - V_old(s)|: 0.10213   |   V(s0) = 2.769   V(s1) = 6.282   V(s2) = 3.190\n",
            "Итерация   15   |   разность max_s|V_new(s) - V_old(s)|: 0.09192   |   V(s0) = 2.871   V(s1) = 6.384   V(s2) = 3.292\n",
            "Итерация   16   |   разность max_s|V_new(s) - V_old(s)|: 0.08272   |   V(s0) = 2.963   V(s1) = 6.476   V(s2) = 3.384\n",
            "Итерация   17   |   разность max_s|V_new(s) - V_old(s)|: 0.07445   |   V(s0) = 3.045   V(s1) = 6.558   V(s2) = 3.467\n",
            "Итерация   18   |   разность max_s|V_new(s) - V_old(s)|: 0.06701   |   V(s0) = 3.120   V(s1) = 6.633   V(s2) = 3.541\n",
            "Итерация   19   |   разность max_s|V_new(s) - V_old(s)|: 0.06031   |   V(s0) = 3.187   V(s1) = 6.700   V(s2) = 3.608\n",
            "Итерация   20   |   разность max_s|V_new(s) - V_old(s)|: 0.05428   |   V(s0) = 3.247   V(s1) = 6.760   V(s2) = 3.668\n",
            "Итерация   21   |   разность max_s|V_new(s) - V_old(s)|: 0.04885   |   V(s0) = 3.301   V(s1) = 6.814   V(s2) = 3.723\n",
            "Итерация   22   |   разность max_s|V_new(s) - V_old(s)|: 0.04396   |   V(s0) = 3.350   V(s1) = 6.863   V(s2) = 3.771\n",
            "Итерация   23   |   разность max_s|V_new(s) - V_old(s)|: 0.03957   |   V(s0) = 3.394   V(s1) = 6.907   V(s2) = 3.815\n",
            "Итерация   24   |   разность max_s|V_new(s) - V_old(s)|: 0.03561   |   V(s0) = 3.434   V(s1) = 6.947   V(s2) = 3.855\n",
            "Итерация   25   |   разность max_s|V_new(s) - V_old(s)|: 0.03205   |   V(s0) = 3.469   V(s1) = 6.982   V(s2) = 3.891\n",
            "Итерация   26   |   разность max_s|V_new(s) - V_old(s)|: 0.02884   |   V(s0) = 3.502   V(s1) = 7.014   V(s2) = 3.923\n",
            "Итерация   27   |   разность max_s|V_new(s) - V_old(s)|: 0.02596   |   V(s0) = 3.530   V(s1) = 7.043   V(s2) = 3.951\n",
            "Итерация   28   |   разность max_s|V_new(s) - V_old(s)|: 0.02336   |   V(s0) = 3.556   V(s1) = 7.069   V(s2) = 3.977\n",
            "Итерация   29   |   разность max_s|V_new(s) - V_old(s)|: 0.02103   |   V(s0) = 3.580   V(s1) = 7.093   V(s2) = 4.001\n",
            "Итерация   30   |   разность max_s|V_new(s) - V_old(s)|: 0.01892   |   V(s0) = 3.601   V(s1) = 7.114   V(s2) = 4.022\n",
            "Итерация   31   |   разность max_s|V_new(s) - V_old(s)|: 0.01703   |   V(s0) = 3.620   V(s1) = 7.133   V(s2) = 4.041\n",
            "Итерация   32   |   разность max_s|V_new(s) - V_old(s)|: 0.01533   |   V(s0) = 3.637   V(s1) = 7.150   V(s2) = 4.058\n",
            "Итерация   33   |   разность max_s|V_new(s) - V_old(s)|: 0.01380   |   V(s0) = 3.652   V(s1) = 7.165   V(s2) = 4.073\n",
            "Итерация   34   |   разность max_s|V_new(s) - V_old(s)|: 0.01242   |   V(s0) = 3.666   V(s1) = 7.179   V(s2) = 4.087\n",
            "Итерация   35   |   разность max_s|V_new(s) - V_old(s)|: 0.01117   |   V(s0) = 3.678   V(s1) = 7.191   V(s2) = 4.099\n",
            "Итерация   36   |   разность max_s|V_new(s) - V_old(s)|: 0.01006   |   V(s0) = 3.689   V(s1) = 7.202   V(s2) = 4.110\n",
            "Итерация   37   |   разность max_s|V_new(s) - V_old(s)|: 0.00905   |   V(s0) = 3.699   V(s1) = 7.212   V(s2) = 4.121\n",
            "Итерация   38   |   разность max_s|V_new(s) - V_old(s)|: 0.00815   |   V(s0) = 3.708   V(s1) = 7.221   V(s2) = 4.130\n",
            "Итерация   39   |   разность max_s|V_new(s) - V_old(s)|: 0.00733   |   V(s0) = 3.717   V(s1) = 7.230   V(s2) = 4.138\n",
            "Итерация   40   |   разность max_s|V_new(s) - V_old(s)|: 0.00660   |   V(s0) = 3.724   V(s1) = 7.237   V(s2) = 4.145\n",
            "Итерация   41   |   разность max_s|V_new(s) - V_old(s)|: 0.00594   |   V(s0) = 3.731   V(s1) = 7.244   V(s2) = 4.152\n",
            "Итерация   42   |   разность max_s|V_new(s) - V_old(s)|: 0.00534   |   V(s0) = 3.736   V(s1) = 7.249   V(s2) = 4.158\n",
            "Итерация   43   |   разность max_s|V_new(s) - V_old(s)|: 0.00481   |   V(s0) = 3.742   V(s1) = 7.255   V(s2) = 4.163\n",
            "Итерация   44   |   разность max_s|V_new(s) - V_old(s)|: 0.00433   |   V(s0) = 3.747   V(s1) = 7.260   V(s2) = 4.168\n",
            "Итерация   45   |   разность max_s|V_new(s) - V_old(s)|: 0.00390   |   V(s0) = 3.751   V(s1) = 7.264   V(s2) = 4.172\n",
            "Итерация   46   |   разность max_s|V_new(s) - V_old(s)|: 0.00351   |   V(s0) = 3.755   V(s1) = 7.268   V(s2) = 4.176\n",
            "Итерация   47   |   разность max_s|V_new(s) - V_old(s)|: 0.00316   |   V(s0) = 3.758   V(s1) = 7.271   V(s2) = 4.179\n",
            "Итерация   48   |   разность max_s|V_new(s) - V_old(s)|: 0.00284   |   V(s0) = 3.762   V(s1) = 7.275   V(s2) = 4.183\n",
            "Итерация   49   |   разность max_s|V_new(s) - V_old(s)|: 0.00256   |   V(s0) = 3.764   V(s1) = 7.277   V(s2) = 4.185\n",
            "Итерация   50   |   разность max_s|V_new(s) - V_old(s)|: 0.00230   |   V(s0) = 3.767   V(s1) = 7.280   V(s2) = 4.188\n",
            "Итерация   51   |   разность max_s|V_new(s) - V_old(s)|: 0.00207   |   V(s0) = 3.769   V(s1) = 7.282   V(s2) = 4.190\n",
            "Итерация   52   |   разность max_s|V_new(s) - V_old(s)|: 0.00186   |   V(s0) = 3.771   V(s1) = 7.284   V(s2) = 4.192\n",
            "Итерация   53   |   разность max_s|V_new(s) - V_old(s)|: 0.00168   |   V(s0) = 3.773   V(s1) = 7.286   V(s2) = 4.194\n",
            "Итерация   54   |   разность max_s|V_new(s) - V_old(s)|: 0.00151   |   V(s0) = 3.775   V(s1) = 7.288   V(s2) = 4.196\n",
            "Итерация   55   |   разность max_s|V_new(s) - V_old(s)|: 0.00136   |   V(s0) = 3.776   V(s1) = 7.289   V(s2) = 4.197\n",
            "Итерация   56   |   разность max_s|V_new(s) - V_old(s)|: 0.00122   |   V(s0) = 3.778   V(s1) = 7.291   V(s2) = 4.199\n",
            "Итерация   57   |   разность max_s|V_new(s) - V_old(s)|: 0.00110   |   V(s0) = 3.779   V(s1) = 7.292   V(s2) = 4.200\n",
            "Итерация   58   |   разность max_s|V_new(s) - V_old(s)|: 0.00099   |   V(s0) = 3.780   V(s1) = 7.293   V(s2) = 4.201\n",
            "Останов\n",
            "CPU times: user 18.6 ms, sys: 5.27 ms, total: 23.9 ms\n",
            "Wall time: 46 ms\n"
          ]
        }
      ],
      "source": [
        "%%time\n",
        "\n",
        "# гиперпараметры\n",
        "gamma = 0.9            # фактор дисконтирования MDP\n",
        "num_iter = 100         # максимальное количество итераций, не включая инициализацию\n",
        "# останов VI, если новые значения V(s) настолько близки к старым (или ближе)\n",
        "min_difference = 0.001\n",
        "\n",
        "# инициализация V(s)\n",
        "state_values = {s: 0 for s in mdp.get_all_states()}\n",
        "\n",
        "if has_graphviz:\n",
        "    display(plot_graph_with_state_values(mdp, state_values))\n",
        "\n",
        "for i in range(num_iter):\n",
        "\n",
        "    # Вычисление новых V(s) используя определённые выше функции.\n",
        "    # Должен быть словарь {state : float V_new(state)}\n",
        "    new_state_values = {state: get_new_state_value(mdp, state_values, state, gamma) for state in mdp.get_all_states()}\n",
        "\n",
        "    assert isinstance(new_state_values, dict)\n",
        "\n",
        "    # Вычисление темпоральных различий V(s)\n",
        "    diff = max(abs(new_state_values[s] - state_values[s])\n",
        "               for s in mdp.get_all_states())\n",
        "    print(\"Итерация %4i   |   разность max_s|V_new(s) - V_old(s)|: %6.5f   |   \" % (i, diff), end=\"\")\n",
        "    print('   '.join(\"V(%s) = %.3f\" % (s, v) for s, v in state_values.items()))\n",
        "    state_values = new_state_values\n",
        "\n",
        "    if diff < min_difference:\n",
        "        print(\"Останов\")\n",
        "        break"
      ]
    },
    {
      "cell_type": "code",
      "execution_count": 17,
      "metadata": {
        "id": "m8eGU3j8Ivy0",
        "colab": {
          "base_uri": "https://localhost:8080/",
          "height": 454
        },
        "outputId": "8ddba4a6-571f-4192-a912-e908a84a9b27"
      },
      "outputs": [
        {
          "output_type": "display_data",
          "data": {
            "image/svg+xml": "<?xml version=\"1.0\" encoding=\"UTF-8\" standalone=\"no\"?>\n<!DOCTYPE svg PUBLIC \"-//W3C//DTD SVG 1.1//EN\"\n \"http://www.w3.org/Graphics/SVG/1.1/DTD/svg11.dtd\">\n<!-- Generated by graphviz version 2.43.0 (0)\n -->\n<!-- Title: MDP Pages: 1 -->\n<svg width=\"1240pt\" height=\"310pt\"\n viewBox=\"0.00 0.00 1239.97 310.00\" xmlns=\"http://www.w3.org/2000/svg\" xmlns:xlink=\"http://www.w3.org/1999/xlink\">\n<g id=\"graph0\" class=\"graph\" transform=\"scale(1 1) rotate(0) translate(4 306)\">\n<title>MDP</title>\n<polygon fill=\"white\" stroke=\"transparent\" points=\"-4,4 -4,-306 1235.97,-306 1235.97,4 -4,4\"/>\n<!-- s0 -->\n<g id=\"node1\" class=\"node\">\n<title>s0</title>\n<ellipse fill=\"#85ff75\" stroke=\"#85ff75\" cx=\"75.42\" cy=\"-110\" rx=\"71.34\" ry=\"71.34\"/>\n<ellipse fill=\"none\" stroke=\"#85ff75\" cx=\"75.42\" cy=\"-110\" rx=\"75.34\" ry=\"75.34\"/>\n<text text-anchor=\"middle\" x=\"75.42\" y=\"-116.8\" font-family=\"Arial\" font-size=\"24.00\">s0</text>\n<text text-anchor=\"middle\" x=\"75.42\" y=\"-90.8\" font-family=\"Arial\" font-size=\"24.00\">V =3.78</text>\n</g>\n<!-- s0&#45;a0 -->\n<g id=\"node2\" class=\"node\">\n<title>s0&#45;a0</title>\n<ellipse fill=\"lightpink\" stroke=\"lightpink\" cx=\"264.41\" cy=\"-154\" rx=\"27.65\" ry=\"27.65\"/>\n<text text-anchor=\"middle\" x=\"264.41\" y=\"-149\" font-family=\"Arial\" font-size=\"20.00\">a0</text>\n</g>\n<!-- s0&#45;&gt;s0&#45;a0 -->\n<g id=\"edge1\" class=\"edge\">\n<title>s0&#45;&gt;s0&#45;a0</title>\n<path fill=\"none\" stroke=\"red\" stroke-width=\"2\" d=\"M150.18,-121.42C172.44,-125.55 196.8,-130.76 218.84,-137 222.21,-137.95 225.68,-139.06 229.13,-140.23\"/>\n<polygon fill=\"red\" stroke=\"red\" stroke-width=\"2\" points=\"228.09,-143.58 238.68,-143.68 230.46,-136.99 228.09,-143.58\"/>\n</g>\n<!-- s0&#45;a1 -->\n<g id=\"node4\" class=\"node\">\n<title>s0&#45;a1</title>\n<ellipse fill=\"lightpink\" stroke=\"lightpink\" cx=\"264.41\" cy=\"-227\" rx=\"27.65\" ry=\"27.65\"/>\n<text text-anchor=\"middle\" x=\"264.41\" y=\"-222\" font-family=\"Arial\" font-size=\"20.00\">a1</text>\n</g>\n<!-- s0&#45;&gt;s0&#45;a1 -->\n<g id=\"edge4\" class=\"edge\">\n<title>s0&#45;&gt;s0&#45;a1</title>\n<path fill=\"none\" stroke=\"red\" stroke-width=\"2\" d=\"M139.73,-149.61C170.68,-168.98 206.57,-191.44 231.7,-207.16\"/>\n<polygon fill=\"red\" stroke=\"red\" stroke-width=\"2\" points=\"230.1,-210.29 240.44,-212.62 233.82,-204.35 230.1,-210.29\"/>\n</g>\n<!-- s0&#45;a0&#45;&gt;s0 -->\n<g id=\"edge2\" class=\"edge\">\n<title>s0&#45;a0&#45;&gt;s0</title>\n<path fill=\"none\" stroke=\"blue\" stroke-dasharray=\"5,2\" d=\"M237.25,-148.8C218.22,-144.94 191.87,-139.42 168.84,-134 165.42,-133.2 161.95,-132.36 158.44,-131.51\"/>\n<polygon fill=\"blue\" stroke=\"blue\" points=\"159.03,-128.05 148.48,-129.05 157.36,-134.85 159.03,-128.05\"/>\n<text text-anchor=\"middle\" x=\"193.84\" y=\"-150.2\" font-family=\"Arial\" font-size=\"16.00\">p = 0.5</text>\n</g>\n<!-- s2 -->\n<g id=\"node3\" class=\"node\">\n<title>s2</title>\n<ellipse fill=\"#85ff75\" stroke=\"#85ff75\" cx=\"539.41\" cy=\"-201\" rx=\"71.34\" ry=\"71.34\"/>\n<ellipse fill=\"none\" stroke=\"#85ff75\" cx=\"539.41\" cy=\"-201\" rx=\"75.34\" ry=\"75.34\"/>\n<text text-anchor=\"middle\" x=\"539.41\" y=\"-207.8\" font-family=\"Arial\" font-size=\"24.00\">s2</text>\n<text text-anchor=\"middle\" x=\"539.41\" y=\"-181.8\" font-family=\"Arial\" font-size=\"24.00\">V =4.20</text>\n</g>\n<!-- s0&#45;a0&#45;&gt;s2 -->\n<g id=\"edge3\" class=\"edge\">\n<title>s0&#45;a0&#45;&gt;s2</title>\n<path fill=\"none\" stroke=\"blue\" stroke-dasharray=\"5,2\" d=\"M292.09,-158.59C329.49,-165.03 399.18,-177.03 454.91,-186.63\"/>\n<polygon fill=\"blue\" stroke=\"blue\" points=\"454.34,-190.08 464.79,-188.33 455.53,-183.18 454.34,-190.08\"/>\n<text text-anchor=\"middle\" x=\"377.99\" y=\"-190.2\" font-family=\"Arial\" font-size=\"16.00\">p = 0.5</text>\n</g>\n<!-- s2&#45;a0 -->\n<g id=\"node8\" class=\"node\">\n<title>s2&#45;a0</title>\n<ellipse fill=\"lightpink\" stroke=\"lightpink\" cx=\"808.4\" cy=\"-162\" rx=\"27.65\" ry=\"27.65\"/>\n<text text-anchor=\"middle\" x=\"808.4\" y=\"-157\" font-family=\"Arial\" font-size=\"20.00\">a0</text>\n</g>\n<!-- s2&#45;&gt;s2&#45;a0 -->\n<g id=\"edge13\" class=\"edge\">\n<title>s2&#45;&gt;s2&#45;a0</title>\n<path fill=\"none\" stroke=\"red\" stroke-width=\"2\" d=\"M615.01,-200.1C658.66,-198.14 714.51,-193.15 762.83,-181 766.47,-180.08 770.19,-178.91 773.86,-177.6\"/>\n<polygon fill=\"red\" stroke=\"red\" stroke-width=\"2\" points=\"775.33,-180.78 783.36,-173.87 772.77,-174.27 775.33,-180.78\"/>\n</g>\n<!-- s2&#45;a1 -->\n<g id=\"node9\" class=\"node\">\n<title>s2&#45;a1</title>\n<ellipse fill=\"lightpink\" stroke=\"lightpink\" cx=\"808.4\" cy=\"-80\" rx=\"27.65\" ry=\"27.65\"/>\n<text text-anchor=\"middle\" x=\"808.4\" y=\"-75\" font-family=\"Arial\" font-size=\"20.00\">a1</text>\n</g>\n<!-- s2&#45;&gt;s2&#45;a1 -->\n<g id=\"edge16\" class=\"edge\">\n<title>s2&#45;&gt;s2&#45;a1</title>\n<path fill=\"none\" stroke=\"red\" stroke-width=\"2\" d=\"M604.95,-163.22C614.2,-158.24 623.68,-153.35 632.83,-149 680.16,-126.46 736.95,-105 772.61,-92.16\"/>\n<polygon fill=\"red\" stroke=\"red\" stroke-width=\"2\" points=\"773.84,-95.44 782.08,-88.78 771.49,-88.85 773.84,-95.44\"/>\n</g>\n<!-- s0&#45;a1&#45;&gt;s2 -->\n<g id=\"edge5\" class=\"edge\">\n<title>s0&#45;a1&#45;&gt;s2</title>\n<path fill=\"none\" stroke=\"blue\" stroke-dasharray=\"5,2\" d=\"M292.09,-224.46C329.28,-220.92 398.42,-214.33 454,-209.04\"/>\n<polygon fill=\"blue\" stroke=\"blue\" points=\"454.59,-212.5 464.21,-208.07 453.92,-205.53 454.59,-212.5\"/>\n<text text-anchor=\"middle\" x=\"377.99\" y=\"-227.2\" font-family=\"Arial\" font-size=\"16.00\">p = 1</text>\n</g>\n<!-- s1 -->\n<g id=\"node5\" class=\"node\">\n<title>s1</title>\n<ellipse fill=\"#85ff75\" stroke=\"#85ff75\" cx=\"1006.4\" cy=\"-110\" rx=\"71.34\" ry=\"71.34\"/>\n<ellipse fill=\"none\" stroke=\"#85ff75\" cx=\"1006.4\" cy=\"-110\" rx=\"75.34\" ry=\"75.34\"/>\n<text text-anchor=\"middle\" x=\"1006.4\" y=\"-116.8\" font-family=\"Arial\" font-size=\"24.00\">s1</text>\n<text text-anchor=\"middle\" x=\"1006.4\" y=\"-90.8\" font-family=\"Arial\" font-size=\"24.00\">V =7.29</text>\n</g>\n<!-- s1&#45;a0 -->\n<g id=\"node6\" class=\"node\">\n<title>s1&#45;a0</title>\n<ellipse fill=\"lightpink\" stroke=\"lightpink\" cx=\"1204.39\" cy=\"-86\" rx=\"27.65\" ry=\"27.65\"/>\n<text text-anchor=\"middle\" x=\"1204.39\" y=\"-81\" font-family=\"Arial\" font-size=\"20.00\">a0</text>\n</g>\n<!-- s1&#45;&gt;s1&#45;a0 -->\n<g id=\"edge6\" class=\"edge\">\n<title>s1&#45;&gt;s1&#45;a0</title>\n<path fill=\"none\" stroke=\"red\" stroke-width=\"2\" d=\"M1081.95,-105.02C1106.52,-102.87 1133.91,-99.93 1158.82,-96 1161.51,-95.57 1164.29,-95.08 1167.08,-94.55\"/>\n<polygon fill=\"red\" stroke=\"red\" stroke-width=\"2\" points=\"1168.01,-97.93 1177.1,-92.49 1166.6,-91.08 1168.01,-97.93\"/>\n</g>\n<!-- s1&#45;a1 -->\n<g id=\"node7\" class=\"node\">\n<title>s1&#45;a1</title>\n<ellipse fill=\"lightpink\" stroke=\"lightpink\" cx=\"1204.39\" cy=\"-168\" rx=\"27.65\" ry=\"27.65\"/>\n<text text-anchor=\"middle\" x=\"1204.39\" y=\"-163\" font-family=\"Arial\" font-size=\"20.00\">a1</text>\n</g>\n<!-- s1&#45;&gt;s1&#45;a1 -->\n<g id=\"edge10\" class=\"edge\">\n<title>s1&#45;&gt;s1&#45;a1</title>\n<path fill=\"none\" stroke=\"red\" stroke-width=\"2\" d=\"M1080.07,-126.35C1105.25,-132.64 1133.5,-140.4 1158.82,-149 1162.37,-150.21 1166.04,-151.57 1169.68,-153\"/>\n<polygon fill=\"red\" stroke=\"red\" stroke-width=\"2\" points=\"1168.55,-156.32 1179.13,-156.87 1171.2,-149.84 1168.55,-156.32\"/>\n</g>\n<!-- s1&#45;a0&#45;&gt;s0 -->\n<g id=\"edge7\" class=\"edge\">\n<title>s1&#45;a0&#45;&gt;s0</title>\n<path fill=\"none\" stroke=\"blue\" stroke-dasharray=\"5,2\" d=\"M1182.11,-69.62C1147.5,-44.67 1075.95,0 1007.4,0 263.41,0 263.41,0 263.41,0 217.21,0 172.35,-25.26 138.16,-51.56\"/>\n<polygon fill=\"blue\" stroke=\"blue\" points=\"135.82,-48.95 130.14,-57.9 140.16,-54.44 135.82,-48.95\"/>\n<text text-anchor=\"middle\" x=\"697.83\" y=\"-5.2\" font-family=\"Arial\" font-size=\"16.00\">p = 0.7 &#160;reward =5</text>\n</g>\n<!-- s1&#45;a0&#45;&gt;s2 -->\n<g id=\"edge9\" class=\"edge\">\n<title>s1&#45;a0&#45;&gt;s2</title>\n<path fill=\"none\" stroke=\"blue\" stroke-dasharray=\"5,2\" d=\"M1188.69,-108.88C1184.55,-115.83 1180.24,-123.59 1176.82,-131 1166.55,-153.2 1177.68,-167.44 1158.82,-183 1132.15,-205 1116.26,-191.06 1081.82,-194 920.76,-207.73 731.8,-206.17 625.08,-203.67\"/>\n<polygon fill=\"blue\" stroke=\"blue\" points=\"625.1,-200.17 615.01,-203.43 624.93,-207.17 625.1,-200.17\"/>\n<text text-anchor=\"middle\" x=\"883.48\" y=\"-209.2\" font-family=\"Arial\" font-size=\"16.00\">p = 0.2</text>\n</g>\n<!-- s1&#45;a0&#45;&gt;s1 -->\n<g id=\"edge8\" class=\"edge\">\n<title>s1&#45;a0&#45;&gt;s1</title>\n<path fill=\"none\" stroke=\"blue\" stroke-dasharray=\"5,2\" d=\"M1177.7,-77.85C1171.57,-76.25 1165.01,-74.82 1158.82,-74 1132.82,-70.56 1125.59,-69.16 1099.82,-74 1095.09,-74.89 1090.3,-76.01 1085.51,-77.3\"/>\n<polygon fill=\"blue\" stroke=\"blue\" points=\"1084.32,-74.01 1075.71,-80.18 1086.29,-80.72 1084.32,-74.01\"/>\n<text text-anchor=\"middle\" x=\"1129.32\" y=\"-79.2\" font-family=\"Arial\" font-size=\"16.00\">p = 0.1</text>\n</g>\n<!-- s1&#45;a1&#45;&gt;s2 -->\n<g id=\"edge12\" class=\"edge\">\n<title>s1&#45;a1&#45;&gt;s2</title>\n<path fill=\"none\" stroke=\"blue\" stroke-dasharray=\"5,2\" d=\"M1193.43,-193.31C1186.2,-208 1174.85,-225.27 1158.82,-234 985.97,-328.1 744.14,-270.76 620.34,-230.44\"/>\n<polygon fill=\"blue\" stroke=\"blue\" points=\"621.14,-227.02 610.55,-227.21 618.95,-233.67 621.14,-227.02\"/>\n<text text-anchor=\"middle\" x=\"883.48\" y=\"-289.2\" font-family=\"Arial\" font-size=\"16.00\">p = 0.05</text>\n</g>\n<!-- s1&#45;a1&#45;&gt;s1 -->\n<g id=\"edge11\" class=\"edge\">\n<title>s1&#45;a1&#45;&gt;s1</title>\n<path fill=\"none\" stroke=\"blue\" stroke-dasharray=\"5,2\" d=\"M1177.13,-163.64C1156.02,-159.84 1125.71,-153.74 1099.82,-146 1095.26,-144.64 1090.61,-143.15 1085.95,-141.58\"/>\n<polygon fill=\"blue\" stroke=\"blue\" points=\"1086.96,-138.23 1076.36,-138.26 1084.66,-144.84 1086.96,-138.23\"/>\n<text text-anchor=\"middle\" x=\"1129.32\" y=\"-166.2\" font-family=\"Arial\" font-size=\"16.00\">p = 0.95</text>\n</g>\n<!-- s2&#45;a0&#45;&gt;s0 -->\n<g id=\"edge14\" class=\"edge\">\n<title>s2&#45;a0&#45;&gt;s0</title>\n<path fill=\"none\" stroke=\"blue\" stroke-dasharray=\"5,2\" d=\"M781.88,-154.02C745.32,-143.06 675.72,-123.91 614.83,-117 455.33,-98.9 267.57,-101.93 161.21,-105.89\"/>\n<polygon fill=\"blue\" stroke=\"blue\" points=\"161.04,-102.4 151.18,-106.28 161.31,-109.39 161.04,-102.4\"/>\n<text text-anchor=\"middle\" x=\"377.99\" y=\"-111.2\" font-family=\"Arial\" font-size=\"16.00\">p = 0.4</text>\n</g>\n<!-- s2&#45;a0&#45;&gt;s2 -->\n<g id=\"edge15\" class=\"edge\">\n<title>s2&#45;a0&#45;&gt;s2</title>\n<path fill=\"none\" stroke=\"blue\" stroke-dasharray=\"5,2\" d=\"M781.01,-157.84C746.5,-153.23 684.38,-147.84 632.83,-159 627.44,-160.17 622,-161.67 616.58,-163.42\"/>\n<polygon fill=\"blue\" stroke=\"blue\" points=\"615.18,-160.2 606.9,-166.8 617.49,-166.81 615.18,-160.2\"/>\n<text text-anchor=\"middle\" x=\"697.83\" y=\"-164.2\" font-family=\"Arial\" font-size=\"16.00\">p = 0.6</text>\n</g>\n<!-- s2&#45;a1&#45;&gt;s0 -->\n<g id=\"edge17\" class=\"edge\">\n<title>s2&#45;a1&#45;&gt;s0</title>\n<path fill=\"none\" stroke=\"blue\" stroke-dasharray=\"5,2\" d=\"M784.63,-65.62C777.87,-62.09 770.27,-58.81 762.83,-57 706.68,-43.37 690.6,-56.91 632.83,-57 489.34,-57.22 452.86,-44.73 309.99,-58 246.47,-63.9 230.97,-69.57 168.84,-84 165.26,-84.83 161.61,-85.71 157.93,-86.63\"/>\n<polygon fill=\"blue\" stroke=\"blue\" points=\"156.97,-83.26 148.15,-89.12 158.7,-90.04 156.97,-83.26\"/>\n<text text-anchor=\"middle\" x=\"377.99\" y=\"-63.2\" font-family=\"Arial\" font-size=\"16.00\">p = 0.3 &#160;reward =&#45;1</text>\n</g>\n<!-- s2&#45;a1&#45;&gt;s2 -->\n<g id=\"edge19\" class=\"edge\">\n<title>s2&#45;a1&#45;&gt;s2</title>\n<path fill=\"none\" stroke=\"blue\" stroke-dasharray=\"5,2\" d=\"M781.77,-72.02C746.2,-62.49 680.83,-50.67 632.83,-75 611.02,-86.05 593.11,-104.94 579.06,-124.77\"/>\n<polygon fill=\"blue\" stroke=\"blue\" points=\"575.98,-123.07 573.27,-133.31 581.78,-127 575.98,-123.07\"/>\n<text text-anchor=\"middle\" x=\"697.83\" y=\"-80.2\" font-family=\"Arial\" font-size=\"16.00\">p = 0.4</text>\n</g>\n<!-- s2&#45;a1&#45;&gt;s1 -->\n<g id=\"edge18\" class=\"edge\">\n<title>s2&#45;a1&#45;&gt;s1</title>\n<path fill=\"none\" stroke=\"blue\" stroke-dasharray=\"5,2\" d=\"M835.84,-84.05C857.99,-87.44 890.88,-92.47 921.81,-97.21\"/>\n<polygon fill=\"blue\" stroke=\"blue\" points=\"921.35,-100.68 931.77,-98.73 922.41,-93.76 921.35,-100.68\"/>\n<text text-anchor=\"middle\" x=\"883.48\" y=\"-100.2\" font-family=\"Arial\" font-size=\"16.00\">p = 0.3</text>\n</g>\n</g>\n</svg>\n",
            "text/plain": [
              "<graphviz.graphs.Digraph at 0x7f679c126ac0>"
            ]
          },
          "metadata": {}
        }
      ],
      "source": [
        "if has_graphviz:\n",
        "    display(plot_graph_with_state_values(mdp, state_values))"
      ]
    },
    {
      "cell_type": "code",
      "execution_count": 18,
      "metadata": {
        "id": "wPawDEgIIvy0",
        "colab": {
          "base_uri": "https://localhost:8080/"
        },
        "outputId": "76b6723e-4bd7-44a7-c43b-429c4e4fa227"
      },
      "outputs": [
        {
          "output_type": "stream",
          "name": "stdout",
          "text": [
            "Финальные ценности состояний: {'s0': 3.7810348735476405, 's1': 7.294006423867229, 's2': 4.202140275227048}\n"
          ]
        }
      ],
      "source": [
        "print(\"Финальные ценности состояний:\", state_values)\n",
        "\n",
        "assert abs(state_values['s0'] - 3.781) < 0.01\n",
        "assert abs(state_values['s1'] - 7.294) < 0.01\n",
        "assert abs(state_values['s2'] - 4.202) < 0.01"
      ]
    },
    {
      "cell_type": "markdown",
      "metadata": {
        "id": "tjblA5r_Ivy0"
      },
      "source": [
        "Теперь используем полученные $V^{*}(s)$ для определения оптимальных действий в каждом состоянии\n",
        "\n",
        " $$\\pi^*(s) = argmax_a \\sum_{s'} P(s' | s,a) \\cdot [ r(s,a,s') + \\gamma V_{i}(s')] = argmax_a Q_i(s,a)$$\n",
        " \n",
        "Единственной отличие по сравнению с вычислением `V(s)` состоит в извлечение не `max`, а `argmax`: поиск действия с максимальной ценностью `Q(s,a)`."
      ]
    },
    {
      "cell_type": "code",
      "execution_count": 19,
      "metadata": {
        "id": "d1NH54sdIvy0"
      },
      "outputs": [],
      "source": [
        "def get_optimal_action(mdp, state_values, state, gamma=0.9):\n",
        "    \"\"\" Выбор оптимального действия, используя формулу выше. \"\"\"\n",
        "    if mdp.is_terminal(state):\n",
        "        return None\n",
        "    \n",
        "    actions = mdp.get_possible_actions(state)\n",
        "    action_values = []\n",
        "    for action in actions:\n",
        "      action_values.append(get_action_value(mdp, state_values, state, action, gamma))\n",
        "    \n",
        "    return actions[np.argmax(action_values)]"
      ]
    },
    {
      "cell_type": "code",
      "execution_count": 20,
      "metadata": {
        "id": "wHoJc4HlIvy1"
      },
      "outputs": [],
      "source": [
        "assert get_optimal_action(mdp, state_values, 's0', gamma) == 'a1'\n",
        "assert get_optimal_action(mdp, state_values, 's1', gamma) == 'a0'\n",
        "assert get_optimal_action(mdp, state_values, 's2', gamma) == 'a1'"
      ]
    },
    {
      "cell_type": "code",
      "execution_count": 21,
      "metadata": {
        "id": "TpQEY9lUIvy1",
        "colab": {
          "base_uri": "https://localhost:8080/",
          "height": 490
        },
        "outputId": "8d6a6e51-588e-40dc-e615-365e10e8ac54"
      },
      "outputs": [
        {
          "output_type": "display_data",
          "data": {
            "image/svg+xml": "<?xml version=\"1.0\" encoding=\"UTF-8\" standalone=\"no\"?>\n<!DOCTYPE svg PUBLIC \"-//W3C//DTD SVG 1.1//EN\"\n \"http://www.w3.org/Graphics/SVG/1.1/DTD/svg11.dtd\">\n<!-- Generated by graphviz version 2.43.0 (0)\n -->\n<!-- Title: MDP Pages: 1 -->\n<svg width=\"1240pt\" height=\"337pt\"\n viewBox=\"0.00 0.00 1239.97 337.00\" xmlns=\"http://www.w3.org/2000/svg\" xmlns:xlink=\"http://www.w3.org/1999/xlink\">\n<g id=\"graph0\" class=\"graph\" transform=\"scale(1 1) rotate(0) translate(4 333)\">\n<title>MDP</title>\n<polygon fill=\"white\" stroke=\"transparent\" points=\"-4,4 -4,-333 1235.97,-333 1235.97,4 -4,4\"/>\n<!-- s0 -->\n<g id=\"node1\" class=\"node\">\n<title>s0</title>\n<ellipse fill=\"#85ff75\" stroke=\"#85ff75\" cx=\"75.42\" cy=\"-129\" rx=\"71.34\" ry=\"71.34\"/>\n<ellipse fill=\"none\" stroke=\"#85ff75\" cx=\"75.42\" cy=\"-129\" rx=\"75.34\" ry=\"75.34\"/>\n<text text-anchor=\"middle\" x=\"75.42\" y=\"-135.8\" font-family=\"Arial\" font-size=\"24.00\">s0</text>\n<text text-anchor=\"middle\" x=\"75.42\" y=\"-109.8\" font-family=\"Arial\" font-size=\"24.00\">V =3.78</text>\n</g>\n<!-- s0&#45;a0 -->\n<g id=\"node2\" class=\"node\">\n<title>s0&#45;a0</title>\n<ellipse fill=\"lightpink\" stroke=\"lightpink\" cx=\"264.41\" cy=\"-160\" rx=\"27.65\" ry=\"27.65\"/>\n<text text-anchor=\"middle\" x=\"264.41\" y=\"-155\" font-family=\"Arial\" font-size=\"20.00\">a0</text>\n</g>\n<!-- s0&#45;&gt;s0&#45;a0 -->\n<g id=\"edge1\" class=\"edge\">\n<title>s0&#45;&gt;s0&#45;a0</title>\n<path fill=\"none\" stroke=\"red\" stroke-width=\"2\" d=\"M150.95,-132.56C173.01,-134.63 197.07,-137.88 218.84,-143 222.24,-143.8 225.74,-144.8 229.21,-145.92\"/>\n<polygon fill=\"red\" stroke=\"red\" stroke-width=\"2\" points=\"228.19,-149.27 238.79,-149.27 230.51,-142.66 228.19,-149.27\"/>\n</g>\n<!-- s0&#45;a1 -->\n<g id=\"node4\" class=\"node\">\n<title>s0&#45;a1</title>\n<ellipse fill=\"lightpink\" stroke=\"lightpink\" cx=\"264.41\" cy=\"-233\" rx=\"27.65\" ry=\"27.65\"/>\n<text text-anchor=\"middle\" x=\"264.41\" y=\"-228\" font-family=\"Arial\" font-size=\"20.00\">a1</text>\n</g>\n<!-- s0&#45;&gt;s0&#45;a1 -->\n<g id=\"edge4\" class=\"edge\">\n<title>s0&#45;&gt;s0&#45;a1</title>\n<path fill=\"none\" stroke=\"red\" stroke-width=\"2\" d=\"M144.19,-160.18C174.78,-176.62 209.34,-196.31 233.35,-211.16\"/>\n<polygon fill=\"red\" stroke=\"red\" stroke-width=\"2\" points=\"231.67,-214.25 242,-216.6 235.4,-208.32 231.67,-214.25\"/>\n</g>\n<!-- s0&#45;&gt;s0&#45;a1 -->\n<g id=\"edge20\" class=\"edge\">\n<title>s0&#45;&gt;s0&#45;a1</title>\n<path fill=\"none\" stroke=\"green\" stroke-width=\"6\" d=\"M138.94,-170.18C169.07,-187.63 204.03,-206.72 229.22,-219.34\"/>\n<polygon fill=\"green\" stroke=\"green\" stroke-width=\"6\" points=\"227.07,-224.14 238.36,-223.84 231.71,-214.72 227.07,-224.14\"/>\n</g>\n<!-- s0&#45;a0&#45;&gt;s0 -->\n<g id=\"edge2\" class=\"edge\">\n<title>s0&#45;a0&#45;&gt;s0</title>\n<path fill=\"none\" stroke=\"blue\" stroke-dasharray=\"5,2\" d=\"M236.97,-155.62C216.84,-152.28 187.94,-147.49 160.2,-142.89\"/>\n<polygon fill=\"blue\" stroke=\"blue\" points=\"160.49,-139.39 150.05,-141.21 159.35,-146.3 160.49,-139.39\"/>\n<text text-anchor=\"middle\" x=\"193.84\" y=\"-158.2\" font-family=\"Arial\" font-size=\"16.00\">p = 0.5</text>\n</g>\n<!-- s2 -->\n<g id=\"node3\" class=\"node\">\n<title>s2</title>\n<ellipse fill=\"#85ff75\" stroke=\"#85ff75\" cx=\"539.41\" cy=\"-207\" rx=\"71.34\" ry=\"71.34\"/>\n<ellipse fill=\"none\" stroke=\"#85ff75\" cx=\"539.41\" cy=\"-207\" rx=\"75.34\" ry=\"75.34\"/>\n<text text-anchor=\"middle\" x=\"539.41\" y=\"-213.8\" font-family=\"Arial\" font-size=\"24.00\">s2</text>\n<text text-anchor=\"middle\" x=\"539.41\" y=\"-187.8\" font-family=\"Arial\" font-size=\"24.00\">V =4.20</text>\n</g>\n<!-- s0&#45;a0&#45;&gt;s2 -->\n<g id=\"edge3\" class=\"edge\">\n<title>s0&#45;a0&#45;&gt;s2</title>\n<path fill=\"none\" stroke=\"blue\" stroke-dasharray=\"5,2\" d=\"M292.09,-164.59C329.49,-171.03 399.18,-183.03 454.91,-192.63\"/>\n<polygon fill=\"blue\" stroke=\"blue\" points=\"454.34,-196.08 464.79,-194.33 455.53,-189.18 454.34,-196.08\"/>\n<text text-anchor=\"middle\" x=\"377.99\" y=\"-196.2\" font-family=\"Arial\" font-size=\"16.00\">p = 0.5</text>\n</g>\n<!-- s2&#45;a0 -->\n<g id=\"node8\" class=\"node\">\n<title>s2&#45;a0</title>\n<ellipse fill=\"lightpink\" stroke=\"lightpink\" cx=\"808.4\" cy=\"-181\" rx=\"27.65\" ry=\"27.65\"/>\n<text text-anchor=\"middle\" x=\"808.4\" y=\"-176\" font-family=\"Arial\" font-size=\"20.00\">a0</text>\n</g>\n<!-- s2&#45;&gt;s2&#45;a0 -->\n<g id=\"edge13\" class=\"edge\">\n<title>s2&#45;&gt;s2&#45;a0</title>\n<path fill=\"none\" stroke=\"red\" stroke-width=\"2\" d=\"M614.83,-210.72C658.41,-211.32 714.26,-209.34 762.83,-199 766.28,-198.26 769.8,-197.28 773.29,-196.15\"/>\n<polygon fill=\"red\" stroke=\"red\" stroke-width=\"2\" points=\"774.69,-199.37 782.89,-192.67 772.3,-192.79 774.69,-199.37\"/>\n</g>\n<!-- s2&#45;a1 -->\n<g id=\"node9\" class=\"node\">\n<title>s2&#45;a1</title>\n<ellipse fill=\"lightpink\" stroke=\"lightpink\" cx=\"808.4\" cy=\"-108\" rx=\"27.65\" ry=\"27.65\"/>\n<text text-anchor=\"middle\" x=\"808.4\" y=\"-103\" font-family=\"Arial\" font-size=\"20.00\">a1</text>\n</g>\n<!-- s2&#45;&gt;s2&#45;a1 -->\n<g id=\"edge16\" class=\"edge\">\n<title>s2&#45;&gt;s2&#45;a1</title>\n<path fill=\"none\" stroke=\"red\" stroke-width=\"2\" d=\"M605.62,-170.76C614.72,-167.01 623.99,-163.36 632.83,-160 680.22,-141.99 735.57,-122.99 771.03,-113.18\"/>\n<polygon fill=\"red\" stroke=\"red\" stroke-width=\"2\" points=\"772.15,-116.51 780.92,-110.56 770.36,-109.74 772.15,-116.51\"/>\n</g>\n<!-- s2&#45;&gt;s2&#45;a1 -->\n<g id=\"edge22\" class=\"edge\">\n<title>s2&#45;&gt;s2&#45;a1</title>\n<path fill=\"none\" stroke=\"green\" stroke-width=\"6\" d=\"M611.9,-186.12C618.95,-183.35 626.01,-180.59 632.83,-178 681.93,-159.34 739.58,-139.62 774.79,-125.46\"/>\n<polygon fill=\"green\" stroke=\"green\" stroke-width=\"6\" points=\"776.86,-130.29 784.1,-121.62 772.86,-120.58 776.86,-130.29\"/>\n</g>\n<!-- s0&#45;a1&#45;&gt;s2 -->\n<g id=\"edge5\" class=\"edge\">\n<title>s0&#45;a1&#45;&gt;s2</title>\n<path fill=\"none\" stroke=\"blue\" stroke-dasharray=\"5,2\" d=\"M292.09,-230.46C329.28,-226.92 398.42,-220.33 454,-215.04\"/>\n<polygon fill=\"blue\" stroke=\"blue\" points=\"454.59,-218.5 464.21,-214.07 453.92,-211.53 454.59,-218.5\"/>\n<text text-anchor=\"middle\" x=\"377.99\" y=\"-233.2\" font-family=\"Arial\" font-size=\"16.00\">p = 1</text>\n</g>\n<!-- s1 -->\n<g id=\"node5\" class=\"node\">\n<title>s1</title>\n<ellipse fill=\"#85ff75\" stroke=\"#85ff75\" cx=\"1006.4\" cy=\"-127\" rx=\"71.34\" ry=\"71.34\"/>\n<ellipse fill=\"none\" stroke=\"#85ff75\" cx=\"1006.4\" cy=\"-127\" rx=\"75.34\" ry=\"75.34\"/>\n<text text-anchor=\"middle\" x=\"1006.4\" y=\"-133.8\" font-family=\"Arial\" font-size=\"24.00\">s1</text>\n<text text-anchor=\"middle\" x=\"1006.4\" y=\"-107.8\" font-family=\"Arial\" font-size=\"24.00\">V =7.29</text>\n</g>\n<!-- s1&#45;a0 -->\n<g id=\"node6\" class=\"node\">\n<title>s1&#45;a0</title>\n<ellipse fill=\"lightpink\" stroke=\"lightpink\" cx=\"1204.39\" cy=\"-126\" rx=\"27.65\" ry=\"27.65\"/>\n<text text-anchor=\"middle\" x=\"1204.39\" y=\"-121\" font-family=\"Arial\" font-size=\"20.00\">a0</text>\n</g>\n<!-- s1&#45;&gt;s1&#45;a0 -->\n<g id=\"edge6\" class=\"edge\">\n<title>s1&#45;&gt;s1&#45;a0</title>\n<path fill=\"none\" stroke=\"red\" stroke-width=\"2\" d=\"M1081.49,-120.05C1110.77,-119.45 1143.07,-119.68 1167.07,-120.8\"/>\n<polygon fill=\"red\" stroke=\"red\" stroke-width=\"2\" points=\"1166.96,-124.3 1177.13,-121.36 1167.34,-117.31 1166.96,-124.3\"/>\n</g>\n<!-- s1&#45;&gt;s1&#45;a0 -->\n<g id=\"edge21\" class=\"edge\">\n<title>s1&#45;&gt;s1&#45;a0</title>\n<path fill=\"none\" stroke=\"green\" stroke-width=\"6\" d=\"M1081.77,-133.19C1111.02,-133.49 1143.24,-132.93 1167.17,-131.56\"/>\n<polygon fill=\"green\" stroke=\"green\" stroke-width=\"6\" points=\"1167.58,-136.8 1177.21,-130.9 1166.89,-126.32 1167.58,-136.8\"/>\n</g>\n<!-- s1&#45;a1 -->\n<g id=\"node7\" class=\"node\">\n<title>s1&#45;a1</title>\n<ellipse fill=\"lightpink\" stroke=\"lightpink\" cx=\"1204.39\" cy=\"-199\" rx=\"27.65\" ry=\"27.65\"/>\n<text text-anchor=\"middle\" x=\"1204.39\" y=\"-194\" font-family=\"Arial\" font-size=\"20.00\">a1</text>\n</g>\n<!-- s1&#45;&gt;s1&#45;a1 -->\n<g id=\"edge10\" class=\"edge\">\n<title>s1&#45;&gt;s1&#45;a1</title>\n<path fill=\"none\" stroke=\"red\" stroke-width=\"2\" d=\"M1078.88,-149.2C1104.35,-157.6 1133.08,-167.64 1158.82,-178 1162.46,-179.47 1166.23,-181.08 1169.97,-182.75\"/>\n<polygon fill=\"red\" stroke=\"red\" stroke-width=\"2\" points=\"1168.54,-185.95 1179.09,-186.93 1171.46,-179.58 1168.54,-185.95\"/>\n</g>\n<!-- s1&#45;a0&#45;&gt;s0 -->\n<g id=\"edge7\" class=\"edge\">\n<title>s1&#45;a0&#45;&gt;s0</title>\n<path fill=\"none\" stroke=\"blue\" stroke-dasharray=\"5,2\" d=\"M1186.11,-104.91C1154.62,-69.04 1084.05,0 1007.4,0 263.41,0 263.41,0 263.41,0 213,0 166.3,-32.17 132.19,-64.37\"/>\n<polygon fill=\"blue\" stroke=\"blue\" points=\"129.41,-62.19 124.67,-71.67 134.28,-67.22 129.41,-62.19\"/>\n<text text-anchor=\"middle\" x=\"697.83\" y=\"-5.2\" font-family=\"Arial\" font-size=\"16.00\">p = 0.7 &#160;reward =5</text>\n</g>\n<!-- s1&#45;a0&#45;&gt;s2 -->\n<g id=\"edge9\" class=\"edge\">\n<title>s1&#45;a0&#45;&gt;s2</title>\n<path fill=\"none\" stroke=\"blue\" stroke-dasharray=\"5,2\" d=\"M1186.25,-147C1182.84,-151.76 1179.49,-156.91 1176.82,-162 1165.42,-183.64 1178.65,-199.69 1158.82,-214 1075.72,-273.95 772.78,-240.62 624,-219.77\"/>\n<polygon fill=\"blue\" stroke=\"blue\" points=\"624.38,-216.29 613.99,-218.36 623.4,-223.22 624.38,-216.29\"/>\n<text text-anchor=\"middle\" x=\"883.48\" y=\"-252.2\" font-family=\"Arial\" font-size=\"16.00\">p = 0.2</text>\n</g>\n<!-- s1&#45;a0&#45;&gt;s1 -->\n<g id=\"edge8\" class=\"edge\">\n<title>s1&#45;a0&#45;&gt;s1</title>\n<path fill=\"none\" stroke=\"blue\" stroke-dasharray=\"5,2\" d=\"M1180.03,-112.64C1173.38,-109.5 1166,-106.61 1158.82,-105 1136.35,-99.97 1111.74,-100.87 1089.01,-104.26\"/>\n<polygon fill=\"blue\" stroke=\"blue\" points=\"1088.35,-100.82 1079.06,-105.92 1089.49,-107.73 1088.35,-100.82\"/>\n<text text-anchor=\"middle\" x=\"1129.32\" y=\"-110.2\" font-family=\"Arial\" font-size=\"16.00\">p = 0.1</text>\n</g>\n<!-- s1&#45;a1&#45;&gt;s2 -->\n<g id=\"edge12\" class=\"edge\">\n<title>s1&#45;a1&#45;&gt;s2</title>\n<path fill=\"none\" stroke=\"blue\" stroke-dasharray=\"5,2\" d=\"M1190.04,-222.71C1182.44,-233.74 1171.83,-245.78 1158.82,-252 947.9,-352.82 860.02,-307.08 632.83,-252 627.05,-250.6 621.21,-248.8 615.42,-246.73\"/>\n<polygon fill=\"blue\" stroke=\"blue\" points=\"616.34,-243.34 605.75,-243.02 613.83,-249.87 616.34,-243.34\"/>\n<text text-anchor=\"middle\" x=\"883.48\" y=\"-316.2\" font-family=\"Arial\" font-size=\"16.00\">p = 0.05</text>\n</g>\n<!-- s1&#45;a1&#45;&gt;s1 -->\n<g id=\"edge11\" class=\"edge\">\n<title>s1&#45;a1&#45;&gt;s1</title>\n<path fill=\"none\" stroke=\"blue\" stroke-dasharray=\"5,2\" d=\"M1176.87,-195.13C1155.6,-191.56 1125.22,-185.36 1099.82,-176 1093.83,-173.8 1087.75,-171.27 1081.71,-168.56\"/>\n<polygon fill=\"blue\" stroke=\"blue\" points=\"1082.82,-165.22 1072.28,-164.17 1079.87,-171.56 1082.82,-165.22\"/>\n<text text-anchor=\"middle\" x=\"1129.32\" y=\"-197.2\" font-family=\"Arial\" font-size=\"16.00\">p = 0.95</text>\n</g>\n<!-- s2&#45;a0&#45;&gt;s0 -->\n<g id=\"edge14\" class=\"edge\">\n<title>s2&#45;a0&#45;&gt;s0</title>\n<path fill=\"none\" stroke=\"blue\" stroke-dasharray=\"5,2\" d=\"M782.4,-170.89C746.17,-156.84 676.66,-132.11 614.83,-123 455.58,-99.54 266.96,-110.35 160.54,-119.95\"/>\n<polygon fill=\"blue\" stroke=\"blue\" points=\"160.14,-116.47 150.5,-120.87 160.78,-123.44 160.14,-116.47\"/>\n<text text-anchor=\"middle\" x=\"377.99\" y=\"-116.2\" font-family=\"Arial\" font-size=\"16.00\">p = 0.4</text>\n</g>\n<!-- s2&#45;a0&#45;&gt;s2 -->\n<g id=\"edge15\" class=\"edge\">\n<title>s2&#45;a0&#45;&gt;s2</title>\n<path fill=\"none\" stroke=\"blue\" stroke-dasharray=\"5,2\" d=\"M780.88,-177.46C746.5,-173.54 684.78,-168.78 632.83,-177 628.7,-177.65 624.51,-178.46 620.31,-179.38\"/>\n<polygon fill=\"blue\" stroke=\"blue\" points=\"619.4,-176 610.49,-181.74 621.03,-182.81 619.4,-176\"/>\n<text text-anchor=\"middle\" x=\"697.83\" y=\"-182.2\" font-family=\"Arial\" font-size=\"16.00\">p = 0.6</text>\n</g>\n<!-- s2&#45;a1&#45;&gt;s0 -->\n<g id=\"edge17\" class=\"edge\">\n<title>s2&#45;a1&#45;&gt;s0</title>\n<path fill=\"none\" stroke=\"blue\" stroke-dasharray=\"5,2\" d=\"M784.02,-94.34C777.37,-91.05 769.99,-87.94 762.83,-86 568.3,-33.44 510.65,-45.67 309.99,-64 246.46,-69.8 229.95,-71.71 168.84,-90 163.96,-91.46 158.98,-93.1 154.01,-94.85\"/>\n<polygon fill=\"blue\" stroke=\"blue\" points=\"152.64,-91.62 144.45,-98.34 155.04,-98.2 152.64,-91.62\"/>\n<text text-anchor=\"middle\" x=\"377.99\" y=\"-69.2\" font-family=\"Arial\" font-size=\"16.00\">p = 0.3 &#160;reward =&#45;1</text>\n</g>\n<!-- s2&#45;a1&#45;&gt;s2 -->\n<g id=\"edge19\" class=\"edge\">\n<title>s2&#45;a1&#45;&gt;s2</title>\n<path fill=\"none\" stroke=\"blue\" stroke-dasharray=\"5,2\" d=\"M781.76,-100.32C746.47,-91.22 681.74,-79.89 632.83,-102 615.83,-109.68 600.72,-122.2 587.89,-135.96\"/>\n<polygon fill=\"blue\" stroke=\"blue\" points=\"585.03,-133.92 581,-143.71 590.26,-138.57 585.03,-133.92\"/>\n<text text-anchor=\"middle\" x=\"697.83\" y=\"-107.2\" font-family=\"Arial\" font-size=\"16.00\">p = 0.4</text>\n</g>\n<!-- s2&#45;a1&#45;&gt;s1 -->\n<g id=\"edge18\" class=\"edge\">\n<title>s2&#45;a1&#45;&gt;s1</title>\n<path fill=\"none\" stroke=\"blue\" stroke-dasharray=\"5,2\" d=\"M836.24,-110.6C858.19,-112.73 890.47,-115.86 920.96,-118.81\"/>\n<polygon fill=\"blue\" stroke=\"blue\" points=\"920.92,-122.33 931.21,-119.81 921.6,-115.36 920.92,-122.33\"/>\n<text text-anchor=\"middle\" x=\"883.48\" y=\"-123.2\" font-family=\"Arial\" font-size=\"16.00\">p = 0.3</text>\n</g>\n</g>\n</svg>\n",
            "text/plain": [
              "<graphviz.graphs.Digraph at 0x7f679c1b89a0>"
            ]
          },
          "metadata": {}
        }
      ],
      "source": [
        "if has_graphviz:\n",
        "    try:\n",
        "        display(plot_graph_optimal_strategy_and_state_values(mdp, state_values))\n",
        "    except ImportError:\n",
        "        raise ImportError(\"Запустите ячейку, начинающуюся с \\\"%%writefile mdp_get_action_value.py\\\"\")"
      ]
    },
    {
      "cell_type": "code",
      "execution_count": 22,
      "metadata": {
        "id": "ebcRgWFKIvy1",
        "colab": {
          "base_uri": "https://localhost:8080/"
        },
        "outputId": "490a5113-b0b4-424e-89e6-d63cbf0a97fd"
      },
      "outputs": [
        {
          "output_type": "stream",
          "name": "stdout",
          "text": [
            "средняя награда:  0.4677\n",
            "CPU times: user 531 ms, sys: 585 µs, total: 532 ms\n",
            "Wall time: 537 ms\n"
          ]
        }
      ],
      "source": [
        "%%time\n",
        "\n",
        "# Оценка средней награды агента\n",
        "\n",
        "s = mdp.reset()\n",
        "rewards = []\n",
        "for _ in range(10000):\n",
        "    s, r, done, _ = mdp.step(get_optimal_action(mdp, state_values, s, gamma))\n",
        "    rewards.append(r)\n",
        "\n",
        "print(\"средняя награда: \", np.mean(rewards))\n",
        "\n",
        "assert(0.40 < np.mean(rewards) < 0.55)"
      ]
    },
    {
      "cell_type": "markdown",
      "metadata": {
        "id": "6uRl4AhfIvy1"
      },
      "source": [
        "### Frozen lake"
      ]
    },
    {
      "cell_type": "code",
      "execution_count": 23,
      "metadata": {
        "id": "s_ZD3EO_Ivy1",
        "colab": {
          "base_uri": "https://localhost:8080/"
        },
        "outputId": "8085fe0c-8124-4783-fce2-c2c5671959fe"
      },
      "outputs": [
        {
          "output_type": "stream",
          "name": "stdout",
          "text": [
            "*FFF\n",
            "FHFH\n",
            "FFFH\n",
            "HFFG\n",
            "\n"
          ]
        }
      ],
      "source": [
        "from mdp import FrozenLakeEnv\n",
        "mdp = FrozenLakeEnv(slip_chance=0)\n",
        "\n",
        "mdp.render()"
      ]
    },
    {
      "cell_type": "code",
      "execution_count": 24,
      "metadata": {
        "id": "0ZRNmc2_Ivy2"
      },
      "outputs": [],
      "source": [
        "def value_iteration(mdp, state_values=None, gamma=0.9, num_iter=1000, min_difference=1e-5, verbose=True):\n",
        "    \"\"\" Выполняет num_iter шагов итерационной оптимизации ценности, начиная с state_values.\n",
        "         То же, что и ранее, но в формате функции \"\"\"\n",
        "    state_values = state_values or {s: 0 for s in mdp.get_all_states()}\n",
        "    for i in range(num_iter):\n",
        "\n",
        "        # Вычислить новые ценности состояний, используя определённые выше функции.\n",
        "        # В результате должен получиться словарь формата {state : new_V(state)}\n",
        "        new_state_values = {state: get_new_state_value(mdp, state_values, state, gamma) for state in mdp.get_all_states()}\n",
        "\n",
        "        assert isinstance(new_state_values, dict)\n",
        "\n",
        "        # Вычислить темпоральную разность по значениям ценности\n",
        "        diff = max(abs(new_state_values[s] - state_values[s])\n",
        "                   for s in mdp.get_all_states())\n",
        "        \n",
        "        if verbose:\n",
        "            print(\"Итерация %4i   |   разность max_s|V_new(s) - V_old(s)|: %6.5f   |   V(start): %.3f \" %\n",
        "                  (i, diff, new_state_values[mdp._initial_state]))\n",
        "\n",
        "        state_values = new_state_values\n",
        "        if diff < min_difference:\n",
        "            break\n",
        "\n",
        "    return state_values"
      ]
    },
    {
      "cell_type": "code",
      "execution_count": 25,
      "metadata": {
        "id": "xmYC0GHgIvy2",
        "colab": {
          "base_uri": "https://localhost:8080/"
        },
        "outputId": "dad88036-a894-4d64-ff4f-485da807ec74"
      },
      "outputs": [
        {
          "output_type": "stream",
          "name": "stdout",
          "text": [
            "Итерация    0   |   разность max_s|V_new(s) - V_old(s)|: 1.00000   |   V(start): 0.000 \n",
            "Итерация    1   |   разность max_s|V_new(s) - V_old(s)|: 0.90000   |   V(start): 0.000 \n",
            "Итерация    2   |   разность max_s|V_new(s) - V_old(s)|: 0.81000   |   V(start): 0.000 \n",
            "Итерация    3   |   разность max_s|V_new(s) - V_old(s)|: 0.72900   |   V(start): 0.000 \n",
            "Итерация    4   |   разность max_s|V_new(s) - V_old(s)|: 0.65610   |   V(start): 0.000 \n",
            "Итерация    5   |   разность max_s|V_new(s) - V_old(s)|: 0.59049   |   V(start): 0.590 \n",
            "Итерация    6   |   разность max_s|V_new(s) - V_old(s)|: 0.00000   |   V(start): 0.590 \n",
            "CPU times: user 2.27 ms, sys: 35 µs, total: 2.3 ms\n",
            "Wall time: 2.14 ms\n"
          ]
        }
      ],
      "source": [
        "%%time\n",
        "\n",
        "state_values = value_iteration(mdp)"
      ]
    },
    {
      "cell_type": "code",
      "execution_count": 26,
      "metadata": {
        "id": "G-MngDRnIvy2",
        "colab": {
          "base_uri": "https://localhost:8080/"
        },
        "outputId": "1fcc1a5e-790a-4276-f588-dbc8c93fc023"
      },
      "outputs": [
        {
          "output_type": "stream",
          "name": "stdout",
          "text": [
            "*FFF\n",
            "FHFH\n",
            "FFFH\n",
            "HFFG\n",
            "\n",
            "down\n",
            "\n",
            "SFFF\n",
            "*HFH\n",
            "FFFH\n",
            "HFFG\n",
            "\n",
            "down\n",
            "\n",
            "SFFF\n",
            "FHFH\n",
            "*FFH\n",
            "HFFG\n",
            "\n",
            "right\n",
            "\n",
            "SFFF\n",
            "FHFH\n",
            "F*FH\n",
            "HFFG\n",
            "\n",
            "down\n",
            "\n",
            "SFFF\n",
            "FHFH\n",
            "FFFH\n",
            "H*FG\n",
            "\n",
            "right\n",
            "\n",
            "SFFF\n",
            "FHFH\n",
            "FFFH\n",
            "HF*G\n",
            "\n",
            "right\n",
            "\n",
            "SFFF\n",
            "FHFH\n",
            "FFFH\n",
            "HFF*\n",
            "\n",
            "CPU times: user 7.73 ms, sys: 954 µs, total: 8.68 ms\n",
            "Wall time: 10.9 ms\n"
          ]
        }
      ],
      "source": [
        "%%time\n",
        "\n",
        "s = mdp.reset()\n",
        "mdp.render()\n",
        "for t in range(100):\n",
        "    a = get_optimal_action(mdp, state_values, s, gamma)\n",
        "    print(a, end='\\n\\n')\n",
        "    s, r, done, _ = mdp.step(a)\n",
        "    mdp.render()\n",
        "    if done:\n",
        "        break"
      ]
    },
    {
      "cell_type": "markdown",
      "metadata": {
        "id": "H7_rP-p6Ivy2"
      },
      "source": [
        "### Время визуализаций!\n",
        "\n",
        "Обычно полезно и интересно видеть, что в действительности Ваш алгоритм выучивает под капотом. Для этого можно изобразить V-функцию и оптимальные действия на каждом шаге алгоритма VI."
      ]
    },
    {
      "cell_type": "code",
      "execution_count": 27,
      "metadata": {
        "id": "iCVpFJ8dIvy3"
      },
      "outputs": [],
      "source": [
        "import matplotlib.pyplot as plt\n",
        "%matplotlib inline\n",
        "\n",
        "\n",
        "def draw_policy(mdp, state_values):\n",
        "    plt.figure(figsize=(3, 3))\n",
        "    h, w = mdp.desc.shape\n",
        "    states = sorted(mdp.get_all_states())\n",
        "    V = np.array([state_values[s] for s in states])\n",
        "    Pi = {s: get_optimal_action(mdp, state_values, s, gamma) for s in states}\n",
        "    plt.imshow(V.reshape(w, h), cmap='gray', interpolation='none', clim=(0, 1))\n",
        "    ax = plt.gca()\n",
        "    ax.set_xticks(np.arange(h)-.5)\n",
        "    ax.set_yticks(np.arange(w)-.5)\n",
        "    ax.set_xticklabels([])\n",
        "    ax.set_yticklabels([])\n",
        "    Y, X = np.mgrid[0:4, 0:4]\n",
        "    a2uv = {'left': (-1, 0), 'down': (0, -1), 'right': (1, 0), 'up': (-1, 0)}\n",
        "    for y in range(h):\n",
        "        for x in range(w):\n",
        "            plt.text(x, y, str(mdp.desc[y, x].item()),\n",
        "                     color='g', size=12,  verticalalignment='center',\n",
        "                     horizontalalignment='center', fontweight='bold')\n",
        "            a = Pi[y, x]\n",
        "            if a is None:\n",
        "                continue\n",
        "            u, v = a2uv[a]\n",
        "            plt.arrow(x, y, u*.3, -v*.3, color='m',\n",
        "                      head_width=0.1, head_length=0.1)\n",
        "    plt.grid(color='b', lw=2, ls='-')\n",
        "    plt.show()"
      ]
    },
    {
      "cell_type": "code",
      "execution_count": 28,
      "metadata": {
        "id": "2X55QraLIvy3",
        "colab": {
          "base_uri": "https://localhost:8080/",
          "height": 1000
        },
        "outputId": "5e222be9-eb30-4409-af33-d4be561f3535"
      },
      "outputs": [
        {
          "output_type": "stream",
          "name": "stdout",
          "text": [
            "после итерации 0\n",
            "Итерация    0   |   разность max_s|V_new(s) - V_old(s)|: 1.00000   |   V(start): 0.000 \n"
          ]
        },
        {
          "output_type": "display_data",
          "data": {
            "text/plain": [
              "<Figure size 300x300 with 1 Axes>"
            ],
            "image/png": "[encoded data removed]"
          },
          "metadata": {}
        },
        {
          "output_type": "stream",
          "name": "stdout",
          "text": [
            "после итерации 1\n",
            "Итерация    0   |   разность max_s|V_new(s) - V_old(s)|: 0.90000   |   V(start): 0.000 \n"
          ]
        },
        {
          "output_type": "display_data",
          "data": {
            "text/plain": [
              "<Figure size 300x300 with 1 Axes>"
            ],
            "image/png": "[encoded data removed]"
          },
          "metadata": {}
        },
        {
          "output_type": "stream",
          "name": "stdout",
          "text": [
            "после итерации 2\n",
            "Итерация    0   |   разность max_s|V_new(s) - V_old(s)|: 0.81000   |   V(start): 0.000 \n"
          ]
        },
        {
          "output_type": "display_data",
          "data": {
            "text/plain": [
              "<Figure size 300x300 with 1 Axes>"
            ],
            "image/png": "[encoded data removed]"
          },
          "metadata": {}
        },
        {
          "output_type": "stream",
          "name": "stdout",
          "text": [
            "после итерации 3\n",
            "Итерация    0   |   разность max_s|V_new(s) - V_old(s)|: 0.72900   |   V(start): 0.000 \n"
          ]
        },
        {
          "output_type": "display_data",
          "data": {
            "text/plain": [
              "<Figure size 300x300 with 1 Axes>"
            ],
            "image/png": "[encoded data removed]"
          },
          "metadata": {}
        },
        {
          "output_type": "stream",
          "name": "stdout",
          "text": [
            "после итерации 4\n",
            "Итерация    0   |   разность max_s|V_new(s) - V_old(s)|: 0.65610   |   V(start): 0.000 \n"
          ]
        },
        {
          "output_type": "display_data",
          "data": {
            "text/plain": [
              "<Figure size 300x300 with 1 Axes>"
            ],
            "image/png": "[encoded data removed]"
          },
          "metadata": {}
        },
        {
          "output_type": "stream",
          "name": "stdout",
          "text": [
            "после итерации 5\n",
            "Итерация    0   |   разность max_s|V_new(s) - V_old(s)|: 0.59049   |   V(start): 0.590 \n"
          ]
        },
        {
          "output_type": "display_data",
          "data": {
            "text/plain": [
              "<Figure size 300x300 with 1 Axes>"
            ],
            "image/png": "[encoded data removed]"
          },
          "metadata": {}
        },
        {
          "output_type": "stream",
          "name": "stdout",
          "text": [
            "после итерации 6\n",
            "Итерация    0   |   разность max_s|V_new(s) - V_old(s)|: 0.00000   |   V(start): 0.590 \n"
          ]
        },
        {
          "output_type": "display_data",
          "data": {
            "text/plain": [
              "<Figure size 300x300 with 1 Axes>"
            ],
            "image/png": "[encoded data removed]"
          },
          "metadata": {}
        },
        {
          "output_type": "stream",
          "name": "stdout",
          "text": [
            "после итерации 7\n",
            "Итерация    0   |   разность max_s|V_new(s) - V_old(s)|: 0.00000   |   V(start): 0.590 \n"
          ]
        },
        {
          "output_type": "display_data",
          "data": {
            "text/plain": [
              "<Figure size 300x300 with 1 Axes>"
            ],
            "image/png": "[encoded data removed]"
          },
          "metadata": {}
        },
        {
          "output_type": "stream",
          "name": "stdout",
          "text": [
            "после итерации 8\n",
            "Итерация    0   |   разность max_s|V_new(s) - V_old(s)|: 0.00000   |   V(start): 0.590 \n"
          ]
        },
        {
          "output_type": "display_data",
          "data": {
            "text/plain": [
              "<Figure size 300x300 with 1 Axes>"
            ],
            "image/png": "[encoded data removed]"
          },
          "metadata": {}
        },
        {
          "output_type": "stream",
          "name": "stdout",
          "text": [
            "после итерации 9\n",
            "Итерация    0   |   разность max_s|V_new(s) - V_old(s)|: 0.00000   |   V(start): 0.590 \n"
          ]
        },
        {
          "output_type": "display_data",
          "data": {
            "text/plain": [
              "<Figure size 300x300 with 1 Axes>"
            ],
            "image/png": "[encoded data removed]"
          },
          "metadata": {}
        },
        {
          "output_type": "stream",
          "name": "stdout",
          "text": [
            "CPU times: user 1.56 s, sys: 906 ms, total: 2.46 s\n",
            "Wall time: 1.61 s\n"
          ]
        }
      ],
      "source": [
        "%%time\n",
        "\n",
        "state_values = {s: 0 for s in mdp.get_all_states()}\n",
        "\n",
        "for i in range(10):\n",
        "    print(\"после итерации %i\" % i)\n",
        "    state_values = value_iteration(mdp, state_values, num_iter=1)\n",
        "    draw_policy(mdp, state_values)\n",
        "# просьба игнорировать отладочный вывод \"Итерация 0\" на каждом шаге"
      ]
    },
    {
      "cell_type": "code",
      "execution_count": 29,
      "metadata": {
        "id": "9gcdnSDtIvy3",
        "colab": {
          "base_uri": "https://localhost:8080/",
          "height": 343
        },
        "outputId": "9acf354e-42ba-4abc-8f1d-de7e071e1494"
      },
      "outputs": [
        {
          "output_type": "stream",
          "name": "stdout",
          "text": [
            "после итерации 29\n",
            "Итерация    0   |   разность max_s|V_new(s) - V_old(s)|: 0.00000   |   V(start): 0.198 \n"
          ]
        },
        {
          "output_type": "display_data",
          "data": {
            "text/plain": [
              "<Figure size 300x300 with 1 Axes>"
            ],
            "image/png": "[encoded data removed]"
          },
          "metadata": {}
        },
        {
          "output_type": "stream",
          "name": "stdout",
          "text": [
            "CPU times: user 10.1 s, sys: 2.97 s, total: 13 s\n",
            "Wall time: 25.1 s\n"
          ]
        }
      ],
      "source": [
        "%%time\n",
        "\n",
        "from IPython.display import clear_output\n",
        "from time import sleep\n",
        "mdp = FrozenLakeEnv(map_name='8x8', slip_chance=0.1)\n",
        "state_values = {s: 0 for s in mdp.get_all_states()}\n",
        "\n",
        "for i in range(30):\n",
        "    clear_output(True)\n",
        "    print(\"после итерации %i\" % i)\n",
        "    state_values = value_iteration(mdp, state_values, num_iter=1)\n",
        "    draw_policy(mdp, state_values)\n",
        "    sleep(0.5)\n",
        "# просьба игнорировать отладочный вывод \"Итерация 0\" на каждом шаге"
      ]
    },
    {
      "cell_type": "markdown",
      "metadata": {
        "id": "FbS5QxJRIvy3"
      },
      "source": [
        "Массовые испытания"
      ]
    },
    {
      "cell_type": "code",
      "execution_count": 30,
      "metadata": {
        "id": "TdpNFgT1Ivy4",
        "colab": {
          "base_uri": "https://localhost:8080/"
        },
        "outputId": "302943dd-81a8-4d4c-f153-d31431baf242"
      },
      "outputs": [
        {
          "output_type": "stream",
          "name": "stdout",
          "text": [
            "Итерация    0   |   разность max_s|V_new(s) - V_old(s)|: 1.00000   |   V(start): 0.000 \n",
            "Итерация    1   |   разность max_s|V_new(s) - V_old(s)|: 0.90000   |   V(start): 0.000 \n",
            "Итерация    2   |   разность max_s|V_new(s) - V_old(s)|: 0.81000   |   V(start): 0.000 \n",
            "Итерация    3   |   разность max_s|V_new(s) - V_old(s)|: 0.72900   |   V(start): 0.000 \n",
            "Итерация    4   |   разность max_s|V_new(s) - V_old(s)|: 0.65610   |   V(start): 0.000 \n",
            "Итерация    5   |   разность max_s|V_new(s) - V_old(s)|: 0.59049   |   V(start): 0.590 \n",
            "Итерация    6   |   разность max_s|V_new(s) - V_old(s)|: 0.00000   |   V(start): 0.590 \n",
            "средняя награда:  1.0\n",
            "Отличная работа!\n",
            "CPU times: user 577 ms, sys: 143 µs, total: 577 ms\n",
            "Wall time: 603 ms\n"
          ]
        }
      ],
      "source": [
        "%%time\n",
        "\n",
        "mdp = FrozenLakeEnv(slip_chance=0)\n",
        "state_values = value_iteration(mdp)\n",
        "\n",
        "total_rewards = []\n",
        "for game_i in range(1000):\n",
        "    s = mdp.reset()\n",
        "    rewards = []\n",
        "    for t in range(100):\n",
        "        s, r, done, _ = mdp.step(\n",
        "            get_optimal_action(mdp, state_values, s, gamma))\n",
        "        rewards.append(r)\n",
        "        if done:\n",
        "            break\n",
        "    total_rewards.append(np.sum(rewards))\n",
        "\n",
        "print(\"средняя награда: \", np.mean(total_rewards))\n",
        "assert(1.0 <= np.mean(total_rewards) <= 1.0)\n",
        "print(\"Отличная работа!\")"
      ]
    },
    {
      "cell_type": "code",
      "execution_count": 31,
      "metadata": {
        "id": "MKwbxqg8Ivy4",
        "colab": {
          "base_uri": "https://localhost:8080/"
        },
        "outputId": "98574e8d-40de-48e6-c582-59a5f36d910f"
      },
      "outputs": [
        {
          "output_type": "stream",
          "name": "stdout",
          "text": [
            "Итерация    0   |   разность max_s|V_new(s) - V_old(s)|: 0.90000   |   V(start): 0.000 \n",
            "Итерация    1   |   разность max_s|V_new(s) - V_old(s)|: 0.72900   |   V(start): 0.000 \n",
            "Итерация    2   |   разность max_s|V_new(s) - V_old(s)|: 0.62330   |   V(start): 0.000 \n",
            "Итерация    3   |   разность max_s|V_new(s) - V_old(s)|: 0.50487   |   V(start): 0.000 \n",
            "Итерация    4   |   разность max_s|V_new(s) - V_old(s)|: 0.40894   |   V(start): 0.000 \n",
            "Итерация    5   |   разность max_s|V_new(s) - V_old(s)|: 0.34868   |   V(start): 0.349 \n",
            "Итерация    6   |   разность max_s|V_new(s) - V_old(s)|: 0.06529   |   V(start): 0.410 \n",
            "Итерация    7   |   разность max_s|V_new(s) - V_old(s)|: 0.05832   |   V(start): 0.468 \n",
            "Итерация    8   |   разность max_s|V_new(s) - V_old(s)|: 0.01139   |   V(start): 0.480 \n",
            "Итерация    9   |   разность max_s|V_new(s) - V_old(s)|: 0.00764   |   V(start): 0.487 \n",
            "Итерация   10   |   разность max_s|V_new(s) - V_old(s)|: 0.00164   |   V(start): 0.489 \n",
            "Итерация   11   |   разность max_s|V_new(s) - V_old(s)|: 0.00094   |   V(start): 0.490 \n",
            "Итерация   12   |   разность max_s|V_new(s) - V_old(s)|: 0.00022   |   V(start): 0.490 \n",
            "Итерация   13   |   разность max_s|V_new(s) - V_old(s)|: 0.00011   |   V(start): 0.490 \n",
            "Итерация   14   |   разность max_s|V_new(s) - V_old(s)|: 0.00003   |   V(start): 0.490 \n",
            "Итерация   15   |   разность max_s|V_new(s) - V_old(s)|: 0.00001   |   V(start): 0.490 \n",
            "Итерация   16   |   разность max_s|V_new(s) - V_old(s)|: 0.00000   |   V(start): 0.490 \n",
            "средняя награда:  0.885\n",
            "Отличная работа!\n",
            "CPU times: user 825 ms, sys: 948 µs, total: 826 ms\n",
            "Wall time: 852 ms\n"
          ]
        }
      ],
      "source": [
        "%%time\n",
        "\n",
        "# Оценка средней награды агента\n",
        "mdp = FrozenLakeEnv(slip_chance=0.1)\n",
        "state_values = value_iteration(mdp)\n",
        "\n",
        "total_rewards = []\n",
        "for game_i in range(1000):\n",
        "    s = mdp.reset()\n",
        "    rewards = []\n",
        "    for t in range(100):\n",
        "        s, r, done, _ = mdp.step(\n",
        "            get_optimal_action(mdp, state_values, s, gamma))\n",
        "        rewards.append(r)\n",
        "        if done:\n",
        "            break\n",
        "    total_rewards.append(np.sum(rewards))\n",
        "\n",
        "print(\"средняя награда: \", np.mean(total_rewards))\n",
        "assert(0.8 <= np.mean(total_rewards) <= 0.95)\n",
        "print(\"Отличная работа!\")"
      ]
    },
    {
      "cell_type": "code",
      "execution_count": 32,
      "metadata": {
        "id": "r7h4L_WaIvy6",
        "colab": {
          "base_uri": "https://localhost:8080/"
        },
        "outputId": "3edaefe4-69ec-4fc1-e177-35e20ace1a94"
      },
      "outputs": [
        {
          "output_type": "stream",
          "name": "stdout",
          "text": [
            "Итерация    0   |   разность max_s|V_new(s) - V_old(s)|: 0.75000   |   V(start): 0.000 \n",
            "Итерация    1   |   разность max_s|V_new(s) - V_old(s)|: 0.50625   |   V(start): 0.000 \n",
            "Итерация    2   |   разность max_s|V_new(s) - V_old(s)|: 0.39867   |   V(start): 0.000 \n",
            "Итерация    3   |   разность max_s|V_new(s) - V_old(s)|: 0.26910   |   V(start): 0.000 \n",
            "Итерация    4   |   разность max_s|V_new(s) - V_old(s)|: 0.18164   |   V(start): 0.000 \n",
            "Итерация    5   |   разность max_s|V_new(s) - V_old(s)|: 0.14013   |   V(start): 0.140 \n",
            "Итерация    6   |   разность max_s|V_new(s) - V_old(s)|: 0.07028   |   V(start): 0.199 \n",
            "Итерация    7   |   разность max_s|V_new(s) - V_old(s)|: 0.06030   |   V(start): 0.260 \n",
            "Итерация    8   |   разность max_s|V_new(s) - V_old(s)|: 0.02594   |   V(start): 0.285 \n",
            "Итерация    9   |   разность max_s|V_new(s) - V_old(s)|: 0.01918   |   V(start): 0.305 \n",
            "Итерация   10   |   разность max_s|V_new(s) - V_old(s)|: 0.00858   |   V(start): 0.313 \n",
            "Итерация   11   |   разность max_s|V_new(s) - V_old(s)|: 0.00560   |   V(start): 0.319 \n",
            "Итерация   12   |   разность max_s|V_new(s) - V_old(s)|: 0.00260   |   V(start): 0.321 \n",
            "Итерация   13   |   разность max_s|V_new(s) - V_old(s)|: 0.00159   |   V(start): 0.323 \n",
            "Итерация   14   |   разность max_s|V_new(s) - V_old(s)|: 0.00076   |   V(start): 0.324 \n",
            "Итерация   15   |   разность max_s|V_new(s) - V_old(s)|: 0.00045   |   V(start): 0.324 \n",
            "Итерация   16   |   разность max_s|V_new(s) - V_old(s)|: 0.00022   |   V(start): 0.324 \n",
            "Итерация   17   |   разность max_s|V_new(s) - V_old(s)|: 0.00012   |   V(start): 0.325 \n",
            "Итерация   18   |   разность max_s|V_new(s) - V_old(s)|: 0.00006   |   V(start): 0.325 \n",
            "Итерация   19   |   разность max_s|V_new(s) - V_old(s)|: 0.00003   |   V(start): 0.325 \n",
            "Итерация   20   |   разность max_s|V_new(s) - V_old(s)|: 0.00002   |   V(start): 0.325 \n",
            "Итерация   21   |   разность max_s|V_new(s) - V_old(s)|: 0.00001   |   V(start): 0.325 \n",
            "средняя награда:  0.649\n",
            "Отличная работа!\n",
            "CPU times: user 577 ms, sys: 1.18 ms, total: 578 ms\n",
            "Wall time: 588 ms\n"
          ]
        }
      ],
      "source": [
        "%%time\n",
        "\n",
        "# Оценка средней награды агента\n",
        "mdp = FrozenLakeEnv(slip_chance=0.25)\n",
        "state_values = value_iteration(mdp)\n",
        "\n",
        "total_rewards = []\n",
        "for game_i in range(1000):\n",
        "    s = mdp.reset()\n",
        "    rewards = []\n",
        "    for t in range(100):\n",
        "        s, r, done, _ = mdp.step(\n",
        "            get_optimal_action(mdp, state_values, s, gamma))\n",
        "        rewards.append(r)\n",
        "        if done:\n",
        "            break\n",
        "    total_rewards.append(np.sum(rewards))\n",
        "\n",
        "print(\"средняя награда: \", np.mean(total_rewards))\n",
        "assert(0.6 <= np.mean(total_rewards) <= 0.7)\n",
        "print(\"Отличная работа!\")"
      ]
    },
    {
      "cell_type": "code",
      "execution_count": 33,
      "metadata": {
        "id": "ko2ZWuaPIvy7",
        "colab": {
          "base_uri": "https://localhost:8080/"
        },
        "outputId": "d877c776-22b0-4929-dfbc-2f0167051f54"
      },
      "outputs": [
        {
          "output_type": "stream",
          "name": "stdout",
          "text": [
            "Итерация    0   |   разность max_s|V_new(s) - V_old(s)|: 0.80000   |   V(start): 0.000 \n",
            "Итерация    1   |   разность max_s|V_new(s) - V_old(s)|: 0.57600   |   V(start): 0.000 \n",
            "Итерация    2   |   разность max_s|V_new(s) - V_old(s)|: 0.41472   |   V(start): 0.000 \n",
            "Итерация    3   |   разность max_s|V_new(s) - V_old(s)|: 0.29860   |   V(start): 0.000 \n",
            "Итерация    4   |   разность max_s|V_new(s) - V_old(s)|: 0.24186   |   V(start): 0.000 \n",
            "Итерация    5   |   разность max_s|V_new(s) - V_old(s)|: 0.19349   |   V(start): 0.000 \n",
            "Итерация    6   |   разность max_s|V_new(s) - V_old(s)|: 0.15325   |   V(start): 0.000 \n",
            "Итерация    7   |   разность max_s|V_new(s) - V_old(s)|: 0.12288   |   V(start): 0.000 \n",
            "Итерация    8   |   разность max_s|V_new(s) - V_old(s)|: 0.09930   |   V(start): 0.000 \n",
            "Итерация    9   |   разность max_s|V_new(s) - V_old(s)|: 0.08037   |   V(start): 0.000 \n",
            "Итерация   10   |   разность max_s|V_new(s) - V_old(s)|: 0.06426   |   V(start): 0.000 \n",
            "Итерация   11   |   разность max_s|V_new(s) - V_old(s)|: 0.05129   |   V(start): 0.000 \n",
            "Итерация   12   |   разность max_s|V_new(s) - V_old(s)|: 0.04330   |   V(start): 0.000 \n",
            "Итерация   13   |   разность max_s|V_new(s) - V_old(s)|: 0.03802   |   V(start): 0.033 \n",
            "Итерация   14   |   разность max_s|V_new(s) - V_old(s)|: 0.03332   |   V(start): 0.058 \n",
            "Итерация   15   |   разность max_s|V_new(s) - V_old(s)|: 0.02910   |   V(start): 0.087 \n",
            "Итерация   16   |   разность max_s|V_new(s) - V_old(s)|: 0.01855   |   V(start): 0.106 \n",
            "Итерация   17   |   разность max_s|V_new(s) - V_old(s)|: 0.01403   |   V(start): 0.120 \n",
            "Итерация   18   |   разность max_s|V_new(s) - V_old(s)|: 0.00810   |   V(start): 0.128 \n",
            "Итерация   19   |   разность max_s|V_new(s) - V_old(s)|: 0.00555   |   V(start): 0.133 \n",
            "Итерация   20   |   разность max_s|V_new(s) - V_old(s)|: 0.00321   |   V(start): 0.137 \n",
            "Итерация   21   |   разность max_s|V_new(s) - V_old(s)|: 0.00247   |   V(start): 0.138 \n",
            "Итерация   22   |   разность max_s|V_new(s) - V_old(s)|: 0.00147   |   V(start): 0.139 \n",
            "Итерация   23   |   разность max_s|V_new(s) - V_old(s)|: 0.00104   |   V(start): 0.140 \n",
            "Итерация   24   |   разность max_s|V_new(s) - V_old(s)|: 0.00058   |   V(start): 0.140 \n",
            "Итерация   25   |   разность max_s|V_new(s) - V_old(s)|: 0.00036   |   V(start): 0.141 \n",
            "Итерация   26   |   разность max_s|V_new(s) - V_old(s)|: 0.00024   |   V(start): 0.141 \n",
            "Итерация   27   |   разность max_s|V_new(s) - V_old(s)|: 0.00018   |   V(start): 0.141 \n",
            "Итерация   28   |   разность max_s|V_new(s) - V_old(s)|: 0.00012   |   V(start): 0.141 \n",
            "Итерация   29   |   разность max_s|V_new(s) - V_old(s)|: 0.00007   |   V(start): 0.141 \n",
            "Итерация   30   |   разность max_s|V_new(s) - V_old(s)|: 0.00004   |   V(start): 0.141 \n",
            "Итерация   31   |   разность max_s|V_new(s) - V_old(s)|: 0.00003   |   V(start): 0.141 \n",
            "Итерация   32   |   разность max_s|V_new(s) - V_old(s)|: 0.00001   |   V(start): 0.141 \n",
            "Итерация   33   |   разность max_s|V_new(s) - V_old(s)|: 0.00001   |   V(start): 0.141 \n",
            "средняя награда:  0.764\n",
            "Отличная работа!\n",
            "CPU times: user 1.36 s, sys: 11.5 ms, total: 1.37 s\n",
            "Wall time: 1.37 s\n"
          ]
        }
      ],
      "source": [
        "%%time\n",
        "\n",
        "# Оценка средней награды агента\n",
        "mdp = FrozenLakeEnv(slip_chance=0.2, map_name='8x8')\n",
        "state_values = value_iteration(mdp)\n",
        "\n",
        "total_rewards = []\n",
        "for game_i in range(1000):\n",
        "    s = mdp.reset()\n",
        "    rewards = []\n",
        "    for t in range(100):\n",
        "        s, r, done, _ = mdp.step(\n",
        "            get_optimal_action(mdp, state_values, s, gamma))\n",
        "        rewards.append(r)\n",
        "        if done:\n",
        "            break\n",
        "    total_rewards.append(np.sum(rewards))\n",
        "\n",
        "print(\"средняя награда: \", np.mean(total_rewards))\n",
        "assert(0.6 <= np.mean(total_rewards) <= 0.8)\n",
        "print(\"Отличная работа!\")"
      ]
    },
    {
      "cell_type": "markdown",
      "metadata": {
        "id": "RZEku8vaIvy7"
      },
      "source": [
        "# Итерационная оптимизация политики, Policy Iteration (вплоть до 4 баллов)\n",
        "\n",
        "Требуется имплементировать явную итерационную оптимизацию политики, Policy Iteration (PI) согласно следующему псевдокоду:\n",
        "\n",
        "---\n",
        "Инициализация $\\pi_0$   `// случайная или константная`\n",
        "\n",
        "Для $n=0, 1, 2, \\dots$\n",
        "- Вычислить функцию $V^{\\pi_{n}}$\n",
        "- С помощью $V^{\\pi_{n}}$, вычислить функцию $Q^{\\pi_{n}}$\n",
        "- Вычислить новую политику $\\pi_{n+1}(s) = \\operatorname*{argmax}_a Q^{\\pi_{n}}(s,a)$\n",
        "---\n",
        "\n",
        "В отличие от VI, Policy Iteration требует явное вычисление политики &mdash; выбранное действие для каждого состояния &mdash; и оценку $V^{\\pi_{n}}$ на основе данной политики. Обновление политики происходит после (итеративного) вычисления V-функции.\n",
        "\n",
        "\n",
        "Ниже представлены несколько функций-помощников, которые могут оказаться полезными при имплементации методов."
      ]
    },
    {
      "cell_type": "code",
      "execution_count": 34,
      "metadata": {
        "id": "d1qiNpViIvy7"
      },
      "outputs": [],
      "source": [
        "transition_probs = {\n",
        "    's0': {\n",
        "        'a0': {'s0': 0.5, 's2': 0.5},\n",
        "        'a1': {'s2': 1}\n",
        "    },\n",
        "    's1': {\n",
        "        'a0': {'s0': 0.7, 's1': 0.1, 's2': 0.2},\n",
        "        'a1': {'s1': 0.95, 's2': 0.05}\n",
        "    },\n",
        "    's2': {\n",
        "        'a0': {'s0': 0.4, 's1': 0.6},\n",
        "        'a1': {'s0': 0.3, 's1': 0.3, 's2': 0.4}\n",
        "    }\n",
        "}\n",
        "rewards = {\n",
        "    's1': {'a0': {'s0': +5}},\n",
        "    's2': {'a1': {'s0': -1}}\n",
        "}\n",
        "\n",
        "from mdp import MDP\n",
        "mdp = MDP(transition_probs, rewards, initial_state='s0')"
      ]
    },
    {
      "cell_type": "markdown",
      "metadata": {
        "id": "y2byn28GIvy8"
      },
      "source": [
        "Настало время написать функцию под названием `compute_vpi`, которая вычисляет функцию $V^{\\pi}$ для произвольной политики $\\pi$.\n",
        "\n",
        "В отличие от VI, в этот раз требуется точное решение, не просто одна итерация.\n",
        "\n",
        "Напоминаем, что $V^{\\pi}$ удовлетворяет следующему линейному соотношению:\n",
        "$$V^{\\pi}(s) = \\sum_{s'} P(s,\\pi(s),s')[ R(s,\\pi(s),s') + \\gamma V^{\\pi}(s')]$$\n",
        "\n",
        "Вам потребуется решить систему линейных алгебраических уравнений в коде. (Найдите точное решение, например, С помощью `np.linalg.solve` или метода простых итераций.)"
      ]
    },
    {
      "cell_type": "code",
      "source": [],
      "metadata": {
        "id": "ZreQMcJydFoR"
      },
      "execution_count": 34,
      "outputs": []
    },
    {
      "cell_type": "code",
      "execution_count": 35,
      "metadata": {
        "id": "OzG__Q6qIvy8"
      },
      "outputs": [],
      "source": [
        "def compute_vpi(mdp, policy, gamma):\n",
        "    \"\"\"\n",
        "    Вычисляет V^pi(s) ДЛЯ ВСЕХ СОСТОЯНИЙ при текущей политике.\n",
        "    :параметр policy: словарь выбранных на данный момент действий {s : a}\n",
        "    :возвращает: словарь {state : V^pi(state) для всех state}\n",
        "    \"\"\"\n",
        "    states = mdp.get_all_states()\n",
        "    num = len(states)\n",
        "    P = np.zeros((num, num))\n",
        "    b = np.zeros(num) #столбец свободных членов b = \\sum_{s'} P(s,\\pi(s),s') * R(s,\\pi(s),s')\n",
        "\n",
        "    for i, state in enumerate(states):\n",
        "      if mdp.is_terminal(state):\n",
        "        continue\n",
        "      #action = polisy[state]\n",
        "      for next_state in mdp.get_next_states(state, policy[state]):\n",
        "        probability = mdp.get_transition_prob(state, policy[state], next_state)\n",
        "        reward = mdp.get_reward(state, policy[state], next_state)\n",
        "        P[i, states.index(next_state)] += probability\n",
        "        b[i] += probability * reward\n",
        "      \n",
        "    I = np.eye(num)\n",
        "    V_pi = np.linalg.solve(I - gamma * P, b)\n",
        "    vpi = {state: V_pi[states.index(state)] for state in states}\n",
        "    # Ваша имплементация ниже\n",
        "    return vpi"
      ]
    },
    {
      "cell_type": "code",
      "execution_count": 36,
      "metadata": {
        "id": "8q9AzezWIvy8",
        "colab": {
          "base_uri": "https://localhost:8080/"
        },
        "outputId": "c038890d-0853-4212-d0a2-bc318dbdda83"
      },
      "outputs": [
        {
          "output_type": "stream",
          "name": "stdout",
          "text": [
            "{'s0': -0.8620499834856328, 's1': -0.29725861499504586, 's2': -0.9578333149840365}\n",
            "CPU times: user 1.06 ms, sys: 13 µs, total: 1.07 ms\n",
            "Wall time: 3.63 ms\n"
          ]
        }
      ],
      "source": [
        "%%time\n",
        "\n",
        "test_policy = {s: np.random.choice(\n",
        "    mdp.get_possible_actions(s)) for s in mdp.get_all_states()}\n",
        "new_vpi = compute_vpi(mdp, test_policy, gamma)\n",
        "\n",
        "print(new_vpi)\n",
        "\n",
        "assert type(\n",
        "    new_vpi) is dict, \"compute_vpi должен возвращать словарь {state : V^pi(state) для всех state}\""
      ]
    },
    {
      "cell_type": "code",
      "source": [
        "states = mdp.get_all_states()\n",
        "states"
      ],
      "metadata": {
        "colab": {
          "base_uri": "https://localhost:8080/"
        },
        "id": "ujDCSsfiwgP8",
        "outputId": "910bf92b-469c-4797-f56e-1fd3bed02b80"
      },
      "execution_count": 37,
      "outputs": [
        {
          "output_type": "execute_result",
          "data": {
            "text/plain": [
              "('s0', 's1', 's2')"
            ]
          },
          "metadata": {},
          "execution_count": 37
        }
      ]
    },
    {
      "cell_type": "markdown",
      "metadata": {
        "id": "8AHfoI3IIvy8"
      },
      "source": [
        "Как только получены новые ценности состояний, время обновить текущую политику."
      ]
    },
    {
      "cell_type": "code",
      "execution_count": 38,
      "metadata": {
        "id": "xFJ8EupeIvy8"
      },
      "outputs": [],
      "source": [
        "def compute_new_policy(mdp, vpi, gamma):\n",
        "    \"\"\"\n",
        "    Вычисляет жадно новую политику как argmax по функции ценности\n",
        "    :параметр vpi: словарь {state : V^pi(state) для всех state}\n",
        "    :возвращает: словарь {state : оптимальное действие для всех state}\n",
        "    \"\"\"\n",
        "    states = mdp.get_all_states()\n",
        "    num = len(states)\n",
        "    policy = {}\n",
        "    for state in states:\n",
        "      if mdp.is_terminal(state):\n",
        "        continue\n",
        "      \n",
        "      actions = mdp.get_possible_actions(state)\n",
        "      values = np.zeros(len(actions))\n",
        "      for i, action in enumerate(actions):\n",
        "        for next_state in mdp.get_next_states(state, action):\n",
        "          probability = mdp.get_transition_prob(state, action, next_state)\n",
        "          reward = mdp.get_reward(state, action, next_state)\n",
        "          values[i] += probability * (reward + gamma * vpi[next_state])\n",
        "      policy[state] = actions[np.argmax(values)]\n",
        "\n",
        "    return policy"
      ]
    },
    {
      "cell_type": "code",
      "source": [
        "# def compute_new_policy(mdp, vpi, gamma):\n",
        "#     \"\"\"\n",
        "#     Вычисляет жадно новую политику как argmax по функции ценности\n",
        "#     :параметр vpi: словарь {state : V^pi(state) для всех state}\n",
        "#     :возвращает: словарь {state : оптимальное действие для всех state}\n",
        "#     \"\"\"\n",
        "#     new_policy = {}\n",
        "    \n",
        "#     states = mdp.get_all_states()\n",
        "#     state_to_index = {state: index for index, state in enumerate(states)}\n",
        "#     num_states = len(states)\n",
        "    \n",
        "#     for state in states:\n",
        "#         if mdp.is_terminal(state):\n",
        "#             continue\n",
        "        \n",
        "#         q_values = []\n",
        "#         actions = mdp.get_possible_actions(state)\n",
        "#         for action in actions:\n",
        "#             q_value = 0\n",
        "#             for next_state in mdp.get_next_states(state, action):\n",
        "#                 prob = mdp.get_transition_prob(state, action, next_state)\n",
        "#                 reward = mdp.get_reward(state, action, next_state)\n",
        "#                 q_value += prob * (reward + gamma * vpi[next_state])\n",
        "#             q_values.append(q_value)\n",
        "            \n",
        "#         best_action = np.argmax(q_values)\n",
        "#         new_policy[state] = actions[best_action]\n",
        "\n",
        "\n",
        "\n",
        "#     return new_policy"
      ],
      "metadata": {
        "id": "-2EQW_LeP6sd"
      },
      "execution_count": 39,
      "outputs": []
    },
    {
      "cell_type": "code",
      "execution_count": 40,
      "metadata": {
        "id": "wOArqeM6Ivy9",
        "colab": {
          "base_uri": "https://localhost:8080/"
        },
        "outputId": "bd0105f9-15c3-419c-8ad7-05ced0d3ace7"
      },
      "outputs": [
        {
          "output_type": "stream",
          "name": "stdout",
          "text": [
            "{'s0': 'a0', 's1': 'a0', 's2': 'a0'}\n",
            "CPU times: user 1.05 ms, sys: 10 µs, total: 1.06 ms\n",
            "Wall time: 1.07 ms\n"
          ]
        }
      ],
      "source": [
        "%%time\n",
        "\n",
        "new_policy = compute_new_policy(mdp, new_vpi, gamma)\n",
        "\n",
        "print(new_policy)\n",
        "\n",
        "assert type(\n",
        "    new_policy) is dict, \"compute_new_policy должен возвращать словарь {состояние : оптимальное действие}\""
      ]
    },
    {
      "cell_type": "markdown",
      "metadata": {
        "id": "ByCCdXvVIvy9"
      },
      "source": [
        "__Основной цикл__"
      ]
    },
    {
      "cell_type": "code",
      "source": [
        "from random import randrange"
      ],
      "metadata": {
        "id": "gFkZRGRM_blB"
      },
      "execution_count": 41,
      "outputs": []
    },
    {
      "cell_type": "code",
      "execution_count": 42,
      "metadata": {
        "id": "JciFQax7Ivy9"
      },
      "outputs": [],
      "source": [
        "def policy_iteration(mdp, policy=None, gamma=0.9, num_iter=1000, min_difference=1e-5):\n",
        "    \"\"\" \n",
        "    Запуск итерационной оптимизации политики в цикле на num_iter итераций или пока max_s|V_new(s) - V_old(s)|\n",
        "    не станет меньше min_difference. Если начальная политика не дана, то инициализация случайная.\n",
        "    \"\"\"\n",
        "    states = mdp.get_all_states()\n",
        "    num = len(states)\n",
        "\n",
        "    #инициализация случайной политики\n",
        "    if policy is None:\n",
        "      policy = {}\n",
        "      for state in states:\n",
        "        if mdp.is_terminal(state):\n",
        "          policy[state] = None\n",
        "          continue\n",
        "        actions = mdp.get_possible_actions(state)\n",
        "        policy[state] = actions[randrange(len(actions))]\n",
        "    \n",
        "    vpi = compute_vpi(mdp, policy, gamma)\n",
        "    \n",
        "    for i in range(num_iter):\n",
        "      policy = compute_new_policy(mdp, vpi, gamma)\n",
        "      new_vpi = compute_vpi(mdp, policy, gamma)\n",
        "      \n",
        "      diff = max(abs(new_vpi[s] - vpi[s]) for s in states)\n",
        "      print(\"Итерация %4i   |   разность max_s|V_new(s) - V_old(s)|: %6.5f   |   \" % (i, diff), end=\"\")\n",
        "      print('   '.join(\"V(%s) = %.3f\" % (s, v) for s, v in vpi.items()))\n",
        "      \n",
        "      if diff < min_difference:\n",
        "        print(\"Остановка\")\n",
        "        break\n",
        "      vpi = new_vpi\n",
        "        \n",
        "    state_values = vpi\n",
        "\n",
        "    return state_values, policy"
      ]
    },
    {
      "cell_type": "markdown",
      "metadata": {
        "id": "-il-Io3WIvy9"
      },
      "source": [
        "__Ваши результаты экспериментирования с PI__"
      ]
    },
    {
      "cell_type": "code",
      "execution_count": 43,
      "metadata": {
        "id": "3NhSHxo-Ivy9",
        "colab": {
          "base_uri": "https://localhost:8080/"
        },
        "outputId": "d8cbb3d8-71a1-46c8-982d-d96f445cf59a"
      },
      "outputs": [
        {
          "output_type": "stream",
          "name": "stdout",
          "text": [
            "Results for value iteration:\n",
            "\n",
            "Итерация    0   |   разность max_s|V_new(s) - V_old(s)|: 3.50000   |   V(start): 0.000 \n",
            "Итерация    1   |   разность max_s|V_new(s) - V_old(s)|: 1.89000   |   V(start): 0.000 \n",
            "Итерация    2   |   разность max_s|V_new(s) - V_old(s)|: 1.70100   |   V(start): 1.701 \n",
            "Итерация    3   |   разность max_s|V_new(s) - V_old(s)|: 1.13542   |   V(start): 1.854 \n",
            "Итерация    4   |   разность max_s|V_new(s) - V_old(s)|: 0.73024   |   V(start): 2.584 \n",
            "Итерация    5   |   разность max_s|V_new(s) - V_old(s)|: 0.61135   |   V(start): 3.186 \n",
            "Итерация    6   |   разность max_s|V_new(s) - V_old(s)|: 0.54664   |   V(start): 3.590 \n",
            "Итерация    7   |   разность max_s|V_new(s) - V_old(s)|: 0.49198   |   V(start): 4.082 \n",
            "Итерация    8   |   разность max_s|V_new(s) - V_old(s)|: 0.42210   |   V(start): 4.463 \n",
            "Итерация    9   |   разность max_s|V_new(s) - V_old(s)|: 0.36513   |   V(start): 4.816 \n",
            "Итерация   10   |   разность max_s|V_new(s) - V_old(s)|: 0.32862   |   V(start): 5.145 \n",
            "Итерация   11   |   разность max_s|V_new(s) - V_old(s)|: 0.29262   |   V(start): 5.429 \n",
            "Итерация   12   |   разность max_s|V_new(s) - V_old(s)|: 0.26189   |   V(start): 5.691 \n",
            "Итерация   13   |   разность max_s|V_new(s) - V_old(s)|: 0.23503   |   V(start): 5.925 \n",
            "Итерация   14   |   разность max_s|V_new(s) - V_old(s)|: 0.21124   |   V(start): 6.135 \n",
            "Итерация   15   |   разность max_s|V_new(s) - V_old(s)|: 0.19012   |   V(start): 6.325 \n",
            "Итерация   16   |   разность max_s|V_new(s) - V_old(s)|: 0.17091   |   V(start): 6.496 \n",
            "Итерация   17   |   разность max_s|V_new(s) - V_old(s)|: 0.15366   |   V(start): 6.649 \n",
            "Итерация   18   |   разность max_s|V_new(s) - V_old(s)|: 0.13830   |   V(start): 6.788 \n",
            "Итерация   19   |   разность max_s|V_new(s) - V_old(s)|: 0.12445   |   V(start): 6.912 \n",
            "Итерация   20   |   разность max_s|V_new(s) - V_old(s)|: 0.11200   |   V(start): 7.024 \n",
            "Итерация   21   |   разность max_s|V_new(s) - V_old(s)|: 0.10079   |   V(start): 7.125 \n",
            "Итерация   22   |   разность max_s|V_new(s) - V_old(s)|: 0.09071   |   V(start): 7.216 \n",
            "Итерация   23   |   разность max_s|V_new(s) - V_old(s)|: 0.08164   |   V(start): 7.297 \n",
            "Итерация   24   |   разность max_s|V_new(s) - V_old(s)|: 0.07347   |   V(start): 7.371 \n",
            "Итерация   25   |   разность max_s|V_new(s) - V_old(s)|: 0.06612   |   V(start): 7.437 \n",
            "Итерация   26   |   разность max_s|V_new(s) - V_old(s)|: 0.05951   |   V(start): 7.496 \n",
            "Итерация   27   |   разность max_s|V_new(s) - V_old(s)|: 0.05356   |   V(start): 7.550 \n",
            "Итерация   28   |   разность max_s|V_new(s) - V_old(s)|: 0.04820   |   V(start): 7.598 \n",
            "Итерация   29   |   разность max_s|V_new(s) - V_old(s)|: 0.04338   |   V(start): 7.641 \n",
            "Итерация   30   |   разность max_s|V_new(s) - V_old(s)|: 0.03904   |   V(start): 7.681 \n",
            "Итерация   31   |   разность max_s|V_new(s) - V_old(s)|: 0.03514   |   V(start): 7.716 \n",
            "Итерация   32   |   разность max_s|V_new(s) - V_old(s)|: 0.03163   |   V(start): 7.747 \n",
            "Итерация   33   |   разность max_s|V_new(s) - V_old(s)|: 0.02846   |   V(start): 7.776 \n",
            "Итерация   34   |   разность max_s|V_new(s) - V_old(s)|: 0.02562   |   V(start): 7.801 \n",
            "Итерация   35   |   разность max_s|V_new(s) - V_old(s)|: 0.02306   |   V(start): 7.824 \n",
            "Итерация   36   |   разность max_s|V_new(s) - V_old(s)|: 0.02075   |   V(start): 7.845 \n",
            "Итерация   37   |   разность max_s|V_new(s) - V_old(s)|: 0.01867   |   V(start): 7.864 \n",
            "Итерация   38   |   разность max_s|V_new(s) - V_old(s)|: 0.01681   |   V(start): 7.881 \n",
            "Итерация   39   |   разность max_s|V_new(s) - V_old(s)|: 0.01513   |   V(start): 7.896 \n",
            "Итерация   40   |   разность max_s|V_new(s) - V_old(s)|: 0.01361   |   V(start): 7.909 \n",
            "Итерация   41   |   разность max_s|V_new(s) - V_old(s)|: 0.01225   |   V(start): 7.922 \n",
            "Итерация   42   |   разность max_s|V_new(s) - V_old(s)|: 0.01103   |   V(start): 7.933 \n",
            "Итерация   43   |   разность max_s|V_new(s) - V_old(s)|: 0.00992   |   V(start): 7.943 \n",
            "Итерация   44   |   разность max_s|V_new(s) - V_old(s)|: 0.00893   |   V(start): 7.952 \n",
            "Итерация   45   |   разность max_s|V_new(s) - V_old(s)|: 0.00804   |   V(start): 7.960 \n",
            "Итерация   46   |   разность max_s|V_new(s) - V_old(s)|: 0.00724   |   V(start): 7.967 \n",
            "Итерация   47   |   разность max_s|V_new(s) - V_old(s)|: 0.00651   |   V(start): 7.973 \n",
            "Итерация   48   |   разность max_s|V_new(s) - V_old(s)|: 0.00586   |   V(start): 7.979 \n",
            "Итерация   49   |   разность max_s|V_new(s) - V_old(s)|: 0.00527   |   V(start): 7.984 \n",
            "Итерация   50   |   разность max_s|V_new(s) - V_old(s)|: 0.00475   |   V(start): 7.989 \n",
            "Итерация   51   |   разность max_s|V_new(s) - V_old(s)|: 0.00427   |   V(start): 7.993 \n",
            "Итерация   52   |   разность max_s|V_new(s) - V_old(s)|: 0.00384   |   V(start): 7.997 \n",
            "Итерация   53   |   разность max_s|V_new(s) - V_old(s)|: 0.00346   |   V(start): 8.001 \n",
            "Итерация   54   |   разность max_s|V_new(s) - V_old(s)|: 0.00311   |   V(start): 8.004 \n",
            "Итерация   55   |   разность max_s|V_new(s) - V_old(s)|: 0.00280   |   V(start): 8.007 \n",
            "Итерация   56   |   разность max_s|V_new(s) - V_old(s)|: 0.00252   |   V(start): 8.009 \n",
            "Итерация   57   |   разность max_s|V_new(s) - V_old(s)|: 0.00227   |   V(start): 8.011 \n",
            "Итерация   58   |   разность max_s|V_new(s) - V_old(s)|: 0.00204   |   V(start): 8.014 \n",
            "Итерация   59   |   разность max_s|V_new(s) - V_old(s)|: 0.00184   |   V(start): 8.015 \n",
            "Итерация   60   |   разность max_s|V_new(s) - V_old(s)|: 0.00166   |   V(start): 8.017 \n",
            "Итерация   61   |   разность max_s|V_new(s) - V_old(s)|: 0.00149   |   V(start): 8.019 \n",
            "Итерация   62   |   разность max_s|V_new(s) - V_old(s)|: 0.00134   |   V(start): 8.020 \n",
            "Итерация   63   |   разность max_s|V_new(s) - V_old(s)|: 0.00121   |   V(start): 8.021 \n",
            "Итерация   64   |   разность max_s|V_new(s) - V_old(s)|: 0.00109   |   V(start): 8.022 \n",
            "Итерация   65   |   разность max_s|V_new(s) - V_old(s)|: 0.00098   |   V(start): 8.023 \n",
            "Итерация   66   |   разность max_s|V_new(s) - V_old(s)|: 0.00088   |   V(start): 8.024 \n",
            "Итерация   67   |   разность max_s|V_new(s) - V_old(s)|: 0.00079   |   V(start): 8.025 \n",
            "Итерация   68   |   разность max_s|V_new(s) - V_old(s)|: 0.00071   |   V(start): 8.026 \n",
            "Итерация   69   |   разность max_s|V_new(s) - V_old(s)|: 0.00064   |   V(start): 8.026 \n",
            "Итерация   70   |   разность max_s|V_new(s) - V_old(s)|: 0.00058   |   V(start): 8.027 \n",
            "Итерация   71   |   разность max_s|V_new(s) - V_old(s)|: 0.00052   |   V(start): 8.027 \n",
            "Итерация   72   |   разность max_s|V_new(s) - V_old(s)|: 0.00047   |   V(start): 8.028 \n",
            "Итерация   73   |   разность max_s|V_new(s) - V_old(s)|: 0.00042   |   V(start): 8.028 \n",
            "Итерация   74   |   разность max_s|V_new(s) - V_old(s)|: 0.00038   |   V(start): 8.029 \n",
            "Итерация   75   |   разность max_s|V_new(s) - V_old(s)|: 0.00034   |   V(start): 8.029 \n",
            "Итерация   76   |   разность max_s|V_new(s) - V_old(s)|: 0.00031   |   V(start): 8.029 \n",
            "Итерация   77   |   разность max_s|V_new(s) - V_old(s)|: 0.00028   |   V(start): 8.029 \n",
            "Итерация   78   |   разность max_s|V_new(s) - V_old(s)|: 0.00025   |   V(start): 8.030 \n",
            "Итерация   79   |   разность max_s|V_new(s) - V_old(s)|: 0.00022   |   V(start): 8.030 \n",
            "Итерация   80   |   разность max_s|V_new(s) - V_old(s)|: 0.00020   |   V(start): 8.030 \n",
            "Итерация   81   |   разность max_s|V_new(s) - V_old(s)|: 0.00018   |   V(start): 8.030 \n",
            "Итерация   82   |   разность max_s|V_new(s) - V_old(s)|: 0.00016   |   V(start): 8.030 \n",
            "Итерация   83   |   разность max_s|V_new(s) - V_old(s)|: 0.00015   |   V(start): 8.031 \n",
            "Итерация   84   |   разность max_s|V_new(s) - V_old(s)|: 0.00013   |   V(start): 8.031 \n",
            "Итерация   85   |   разность max_s|V_new(s) - V_old(s)|: 0.00012   |   V(start): 8.031 \n",
            "Итерация   86   |   разность max_s|V_new(s) - V_old(s)|: 0.00011   |   V(start): 8.031 \n",
            "Итерация   87   |   разность max_s|V_new(s) - V_old(s)|: 0.00010   |   V(start): 8.031 \n",
            "Итерация   88   |   разность max_s|V_new(s) - V_old(s)|: 0.00009   |   V(start): 8.031 \n",
            "Итерация   89   |   разность max_s|V_new(s) - V_old(s)|: 0.00008   |   V(start): 8.031 \n",
            "Итерация   90   |   разность max_s|V_new(s) - V_old(s)|: 0.00007   |   V(start): 8.031 \n",
            "Итерация   91   |   разность max_s|V_new(s) - V_old(s)|: 0.00006   |   V(start): 8.031 \n",
            "Итерация   92   |   разность max_s|V_new(s) - V_old(s)|: 0.00006   |   V(start): 8.031 \n",
            "Итерация   93   |   разность max_s|V_new(s) - V_old(s)|: 0.00005   |   V(start): 8.031 \n",
            "Итерация   94   |   разность max_s|V_new(s) - V_old(s)|: 0.00005   |   V(start): 8.032 \n",
            "Итерация   95   |   разность max_s|V_new(s) - V_old(s)|: 0.00004   |   V(start): 8.032 \n",
            "Итерация   96   |   разность max_s|V_new(s) - V_old(s)|: 0.00004   |   V(start): 8.032 \n",
            "Итерация   97   |   разность max_s|V_new(s) - V_old(s)|: 0.00003   |   V(start): 8.032 \n",
            "Итерация   98   |   разность max_s|V_new(s) - V_old(s)|: 0.00003   |   V(start): 8.032 \n",
            "Итерация   99   |   разность max_s|V_new(s) - V_old(s)|: 0.00003   |   V(start): 8.032 \n",
            "Итерация  100   |   разность max_s|V_new(s) - V_old(s)|: 0.00002   |   V(start): 8.032 \n",
            "Итерация  101   |   разность max_s|V_new(s) - V_old(s)|: 0.00002   |   V(start): 8.032 \n",
            "Итерация  102   |   разность max_s|V_new(s) - V_old(s)|: 0.00002   |   V(start): 8.032 \n",
            "Итерация  103   |   разность max_s|V_new(s) - V_old(s)|: 0.00002   |   V(start): 8.032 \n",
            "Итерация  104   |   разность max_s|V_new(s) - V_old(s)|: 0.00002   |   V(start): 8.032 \n",
            "Итерация  105   |   разность max_s|V_new(s) - V_old(s)|: 0.00001   |   V(start): 8.032 \n",
            "Итерация  106   |   разность max_s|V_new(s) - V_old(s)|: 0.00001   |   V(start): 8.032 \n",
            "Итерация  107   |   разность max_s|V_new(s) - V_old(s)|: 0.00001   |   V(start): 8.032 \n",
            "Итерация  108   |   разность max_s|V_new(s) - V_old(s)|: 0.00001   |   V(start): 8.032 \n",
            "Итерация  109   |   разность max_s|V_new(s) - V_old(s)|: 0.00001   |   V(start): 8.032 \n",
            "average reward:  0.9145\n",
            "--------------------\n",
            " Results for policy iteration:\n",
            "\n",
            "Итерация    0   |   разность max_s|V_new(s) - V_old(s)|: 9.54540   |   V(s0) = -0.732   V(s1) = -0.278   V(s2) = -0.895\n",
            "Итерация    1   |   разность max_s|V_new(s) - V_old(s)|: 2.22765   |   V(s0) = 5.804   V(s1) = 9.268   V(s2) = 7.094\n",
            "Итерация    2   |   разность max_s|V_new(s) - V_old(s)|: 0.00000   |   V(s0) = 8.032   V(s1) = 11.172   V(s2) = 8.924\n",
            "Остановка\n",
            "average reward:  0.948\n"
          ]
        }
      ],
      "source": [
        "# MDP\n",
        "gamma = 0.9\n",
        "\n",
        "transition_probs = {\n",
        "    's0': {\n",
        "        'a0': {'s0': 0.5, 's2': 0.5},\n",
        "        'a1': {'s2': 1}\n",
        "    },\n",
        "    's1': {\n",
        "        'a0': {'s0': 0.7, 's1': 0.1, 's2': 0.2},\n",
        "        'a1': {'s1': 0.95, 's2': 0.05}\n",
        "    },\n",
        "    's2': {\n",
        "        'a0': {'s0': 0.4, 's1': 0.6},\n",
        "        'a1': {'s0': 0.3, 's1': 0.3, 's2': 0.4}\n",
        "    }\n",
        "}\n",
        "rewards = {\n",
        "    's1': {'a0': {'s0': +5}},\n",
        "    's2': {'a1': {'s0': -1}}\n",
        "}\n",
        "\n",
        "from mdp import MDP\n",
        "mdp1 = MDP(transition_probs, rewards, initial_state='s0')\n",
        "\n",
        "print(\"Results for value iteration:\\n\")\n",
        "state_values = value_iteration(mdp1)\n",
        "\n",
        "s = mdp1.reset()\n",
        "rewards = []\n",
        "for _ in range(10000):\n",
        "    s, r, done, _ = mdp1.step(get_optimal_action(mdp1, state_values, s, gamma))\n",
        "    rewards.append(r)\n",
        "\n",
        "print(\"average reward: \", np.mean(rewards))\n",
        "\n",
        "\n",
        "print(\"--------------------\\n Results for policy iteration:\\n\")\n",
        "vpi, policy = policy_iteration(mdp1)\n",
        "\n",
        "s = mdp1.reset()\n",
        "rewards = []\n",
        "for _ in range(10000):\n",
        "    s, r, done, _ = mdp1.step(policy[s])\n",
        "    rewards.append(r)\n",
        "\n",
        "print(\"average reward: \", np.mean(rewards))"
      ]
    },
    {
      "cell_type": "code",
      "source": [
        "# Small frozen lake\n",
        "mdp2 = FrozenLakeEnv(map_name='4x4')\n",
        "print(\"Results for value iteration:\\n\")\n",
        "state_values = value_iteration(mdp2)\n",
        "\n",
        "total_rewards = []\n",
        "for game_i in range(1000):\n",
        "    s = mdp2.reset()\n",
        "    rewards = []\n",
        "    for t in range(100):\n",
        "        s, r, done, _ = mdp2.step(\n",
        "            get_optimal_action(mdp2, state_values, s, gamma))\n",
        "        rewards.append(r)\n",
        "        if done:\n",
        "            break\n",
        "    total_rewards.append(np.sum(rewards))\n",
        "\n",
        "print(\"average reward: \", np.mean(total_rewards))\n",
        "\n",
        "print(\"--------------------\\n Results for policy iteration:\\n\")\n",
        "mdp2 = FrozenLakeEnv(map_name='4x4')\n",
        "vpi, policy = policy_iteration(mdp2)\n",
        "\n",
        "total_rewards = []\n",
        "for game_i in range(1000):\n",
        "    s = mdp2.reset()\n",
        "    rewards = []\n",
        "    for t in range(100):\n",
        "        s, r, done, _ = mdp2.step(policy[s])\n",
        "        rewards.append(r)\n",
        "        if done:\n",
        "            break\n",
        "    total_rewards.append(np.sum(rewards))\n",
        "\n",
        "print(\"average reward: \", np.mean(total_rewards))"
      ],
      "metadata": {
        "colab": {
          "base_uri": "https://localhost:8080/"
        },
        "id": "MjryWb-NSY9Q",
        "outputId": "b241bb4d-39c8-499d-d24d-92ecbaf0e59a"
      },
      "execution_count": 44,
      "outputs": [
        {
          "output_type": "stream",
          "name": "stdout",
          "text": [
            "Results for value iteration:\n",
            "\n",
            "Итерация    0   |   разность max_s|V_new(s) - V_old(s)|: 0.80000   |   V(start): 0.000 \n",
            "Итерация    1   |   разность max_s|V_new(s) - V_old(s)|: 0.57600   |   V(start): 0.000 \n",
            "Итерация    2   |   разность max_s|V_new(s) - V_old(s)|: 0.46656   |   V(start): 0.000 \n",
            "Итерация    3   |   разность max_s|V_new(s) - V_old(s)|: 0.33592   |   V(start): 0.000 \n",
            "Итерация    4   |   разность max_s|V_new(s) - V_old(s)|: 0.24186   |   V(start): 0.000 \n",
            "Итерация    5   |   разность max_s|V_new(s) - V_old(s)|: 0.19349   |   V(start): 0.193 \n",
            "Итерация    6   |   разность max_s|V_new(s) - V_old(s)|: 0.07575   |   V(start): 0.260 \n",
            "Итерация    7   |   разность max_s|V_new(s) - V_old(s)|: 0.06614   |   V(start): 0.326 \n",
            "Итерация    8   |   разность max_s|V_new(s) - V_old(s)|: 0.02373   |   V(start): 0.350 \n",
            "Итерация    9   |   разность max_s|V_new(s) - V_old(s)|: 0.01704   |   V(start): 0.367 \n",
            "Итерация   10   |   разность max_s|V_new(s) - V_old(s)|: 0.00647   |   V(start): 0.373 \n",
            "Итерация   11   |   разность max_s|V_new(s) - V_old(s)|: 0.00406   |   V(start): 0.377 \n",
            "Итерация   12   |   разность max_s|V_new(s) - V_old(s)|: 0.00162   |   V(start): 0.379 \n",
            "Итерация   13   |   разность max_s|V_new(s) - V_old(s)|: 0.00094   |   V(start): 0.380 \n",
            "Итерация   14   |   разность max_s|V_new(s) - V_old(s)|: 0.00039   |   V(start): 0.380 \n",
            "Итерация   15   |   разность max_s|V_new(s) - V_old(s)|: 0.00022   |   V(start): 0.380 \n",
            "Итерация   16   |   разность max_s|V_new(s) - V_old(s)|: 0.00009   |   V(start): 0.380 \n",
            "Итерация   17   |   разность max_s|V_new(s) - V_old(s)|: 0.00005   |   V(start): 0.380 \n",
            "Итерация   18   |   разность max_s|V_new(s) - V_old(s)|: 0.00002   |   V(start): 0.380 \n",
            "Итерация   19   |   разность max_s|V_new(s) - V_old(s)|: 0.00001   |   V(start): 0.380 \n",
            "Итерация   20   |   разность max_s|V_new(s) - V_old(s)|: 0.00001   |   V(start): 0.380 \n",
            "average reward:  0.715\n",
            "--------------------\n",
            " Results for policy iteration:\n",
            "\n",
            "Итерация    0   |   разность max_s|V_new(s) - V_old(s)|: 0.81344   |   V((0, 0)) = 0.000   V((0, 1)) = 0.000   V((0, 2)) = 0.000   V((0, 3)) = 0.000   V((1, 0)) = 0.000   V((1, 1)) = 0.000   V((1, 2)) = 0.061   V((1, 3)) = 0.000   V((2, 0)) = 0.000   V((2, 1)) = 0.000   V((2, 2)) = 0.681   V((2, 3)) = 0.000   V((3, 0)) = 0.000   V((3, 1)) = 0.000   V((3, 2)) = 0.947   V((3, 3)) = 0.000\n",
            "Итерация    1   |   разность max_s|V_new(s) - V_old(s)|: 0.52820   |   V((0, 0)) = -0.000   V((0, 1)) = 0.000   V((0, 2)) = 0.413   V((0, 3)) = 0.327   V((1, 0)) = 0.000   V((1, 1)) = 0.000   V((1, 2)) = 0.533   V((1, 3)) = 0.000   V((2, 0)) = 0.000   V((2, 1)) = 0.606   V((2, 2)) = 0.740   V((2, 3)) = 0.000   V((3, 0)) = 0.000   V((3, 1)) = 0.813   V((3, 2)) = 0.952   V((3, 3)) = 0.000\n",
            "Итерация    2   |   разность max_s|V_new(s) - V_old(s)|: 0.23571   |   V((0, 0)) = 0.095   V((0, 1)) = 0.359   V((0, 2)) = 0.453   V((0, 3)) = 0.359   V((1, 0)) = 0.200   V((1, 1)) = 0.000   V((1, 2)) = 0.540   V((1, 3)) = 0.000   V((2, 0)) = 0.528   V((2, 1)) = 0.709   V((2, 2)) = 0.750   V((2, 3)) = 0.000   V((3, 0)) = 0.000   V((3, 1)) = 0.824   V((3, 2)) = 0.953   V((3, 3)) = 0.000\n",
            "Итерация    3   |   разность max_s|V_new(s) - V_old(s)|: 0.05337   |   V((0, 0)) = 0.327   V((0, 1)) = 0.359   V((0, 2)) = 0.454   V((0, 3)) = 0.359   V((1, 0)) = 0.436   V((1, 1)) = 0.000   V((1, 2)) = 0.540   V((1, 3)) = 0.000   V((2, 0)) = 0.551   V((2, 1)) = 0.711   V((2, 2)) = 0.750   V((2, 3)) = 0.000   V((3, 0)) = 0.000   V((3, 1)) = 0.825   V((3, 2)) = 0.953   V((3, 3)) = 0.000\n",
            "Итерация    4   |   разность max_s|V_new(s) - V_old(s)|: 0.00000   |   V((0, 0)) = 0.380   V((0, 1)) = 0.359   V((0, 2)) = 0.454   V((0, 3)) = 0.359   V((1, 0)) = 0.436   V((1, 1)) = 0.000   V((1, 2)) = 0.540   V((1, 3)) = 0.000   V((2, 0)) = 0.551   V((2, 1)) = 0.711   V((2, 2)) = 0.750   V((2, 3)) = 0.000   V((3, 0)) = 0.000   V((3, 1)) = 0.825   V((3, 2)) = 0.953   V((3, 3)) = 0.000\n",
            "Остановка\n",
            "average reward:  0.752\n"
          ]
        }
      ]
    },
    {
      "cell_type": "code",
      "source": [
        "# Large frozen lake\n",
        "mdp3 = FrozenLakeEnv(map_name='8x8')\n",
        "print(\"Results for value iteration:\\n\")\n",
        "state_values = value_iteration(mdp3)\n",
        "\n",
        "total_rewards = []\n",
        "for game_i in range(1000):\n",
        "    s = mdp3.reset()\n",
        "    rewards = []\n",
        "    for t in range(100):\n",
        "        s, r, done, _ = mdp3.step(\n",
        "            get_optimal_action(mdp3, state_values, s, gamma))\n",
        "        rewards.append(r)\n",
        "        if done:\n",
        "            break\n",
        "    total_rewards.append(np.sum(rewards))\n",
        "\n",
        "print(\"average reward: \", np.mean(total_rewards))\n",
        "\n",
        "print(\"--------------------\\n Results for policy iteration:\\n\")\n",
        "mdp3 = FrozenLakeEnv(map_name='8x8')\n",
        "vpi, policy = policy_iteration(mdp3)\n",
        "\n",
        "total_rewards = []\n",
        "for game_i in range(1000):\n",
        "    s = mdp3.reset()\n",
        "    rewards = []\n",
        "    for t in range(100):\n",
        "        s, r, done, _ = mdp3.step(policy[s])\n",
        "        rewards.append(r)\n",
        "        if done:\n",
        "            break\n",
        "    total_rewards.append(np.sum(rewards))\n",
        "\n",
        "print(\"average reward: \", np.mean(total_rewards))"
      ],
      "metadata": {
        "colab": {
          "base_uri": "https://localhost:8080/"
        },
        "id": "MmZeOsAVSdtn",
        "outputId": "2bf8974b-a267-488b-ea2c-09aeaedc7d7a"
      },
      "execution_count": 45,
      "outputs": [
        {
          "output_type": "stream",
          "name": "stdout",
          "text": [
            "Results for value iteration:\n",
            "\n",
            "Итерация    0   |   разность max_s|V_new(s) - V_old(s)|: 0.80000   |   V(start): 0.000 \n",
            "Итерация    1   |   разность max_s|V_new(s) - V_old(s)|: 0.57600   |   V(start): 0.000 \n",
            "Итерация    2   |   разность max_s|V_new(s) - V_old(s)|: 0.41472   |   V(start): 0.000 \n",
            "Итерация    3   |   разность max_s|V_new(s) - V_old(s)|: 0.29860   |   V(start): 0.000 \n",
            "Итерация    4   |   разность max_s|V_new(s) - V_old(s)|: 0.24186   |   V(start): 0.000 \n",
            "Итерация    5   |   разность max_s|V_new(s) - V_old(s)|: 0.19349   |   V(start): 0.000 \n",
            "Итерация    6   |   разность max_s|V_new(s) - V_old(s)|: 0.15325   |   V(start): 0.000 \n",
            "Итерация    7   |   разность max_s|V_new(s) - V_old(s)|: 0.12288   |   V(start): 0.000 \n",
            "Итерация    8   |   разность max_s|V_new(s) - V_old(s)|: 0.09930   |   V(start): 0.000 \n",
            "Итерация    9   |   разность max_s|V_new(s) - V_old(s)|: 0.08037   |   V(start): 0.000 \n",
            "Итерация   10   |   разность max_s|V_new(s) - V_old(s)|: 0.06426   |   V(start): 0.000 \n",
            "Итерация   11   |   разность max_s|V_new(s) - V_old(s)|: 0.05129   |   V(start): 0.000 \n",
            "Итерация   12   |   разность max_s|V_new(s) - V_old(s)|: 0.04330   |   V(start): 0.000 \n",
            "Итерация   13   |   разность max_s|V_new(s) - V_old(s)|: 0.03802   |   V(start): 0.033 \n",
            "Итерация   14   |   разность max_s|V_new(s) - V_old(s)|: 0.03332   |   V(start): 0.058 \n",
            "Итерация   15   |   разность max_s|V_new(s) - V_old(s)|: 0.02910   |   V(start): 0.087 \n",
            "Итерация   16   |   разность max_s|V_new(s) - V_old(s)|: 0.01855   |   V(start): 0.106 \n",
            "Итерация   17   |   разность max_s|V_new(s) - V_old(s)|: 0.01403   |   V(start): 0.120 \n",
            "Итерация   18   |   разность max_s|V_new(s) - V_old(s)|: 0.00810   |   V(start): 0.128 \n",
            "Итерация   19   |   разность max_s|V_new(s) - V_old(s)|: 0.00555   |   V(start): 0.133 \n",
            "Итерация   20   |   разность max_s|V_new(s) - V_old(s)|: 0.00321   |   V(start): 0.137 \n",
            "Итерация   21   |   разность max_s|V_new(s) - V_old(s)|: 0.00247   |   V(start): 0.138 \n",
            "Итерация   22   |   разность max_s|V_new(s) - V_old(s)|: 0.00147   |   V(start): 0.139 \n",
            "Итерация   23   |   разность max_s|V_new(s) - V_old(s)|: 0.00104   |   V(start): 0.140 \n",
            "Итерация   24   |   разность max_s|V_new(s) - V_old(s)|: 0.00058   |   V(start): 0.140 \n",
            "Итерация   25   |   разность max_s|V_new(s) - V_old(s)|: 0.00036   |   V(start): 0.141 \n",
            "Итерация   26   |   разность max_s|V_new(s) - V_old(s)|: 0.00024   |   V(start): 0.141 \n",
            "Итерация   27   |   разность max_s|V_new(s) - V_old(s)|: 0.00018   |   V(start): 0.141 \n",
            "Итерация   28   |   разность max_s|V_new(s) - V_old(s)|: 0.00012   |   V(start): 0.141 \n",
            "Итерация   29   |   разность max_s|V_new(s) - V_old(s)|: 0.00007   |   V(start): 0.141 \n",
            "Итерация   30   |   разность max_s|V_new(s) - V_old(s)|: 0.00004   |   V(start): 0.141 \n",
            "Итерация   31   |   разность max_s|V_new(s) - V_old(s)|: 0.00003   |   V(start): 0.141 \n",
            "Итерация   32   |   разность max_s|V_new(s) - V_old(s)|: 0.00001   |   V(start): 0.141 \n",
            "Итерация   33   |   разность max_s|V_new(s) - V_old(s)|: 0.00001   |   V(start): 0.141 \n",
            "average reward:  0.727\n",
            "--------------------\n",
            " Results for policy iteration:\n",
            "\n",
            "Итерация    0   |   разность max_s|V_new(s) - V_old(s)|: 0.59253   |   V((0, 0)) = 0.000   V((0, 1)) = 0.000   V((0, 2)) = 0.000   V((0, 3)) = 0.000   V((0, 4)) = 0.000   V((0, 5)) = -0.000   V((0, 6)) = 0.000   V((0, 7)) = 0.000   V((1, 0)) = 0.000   V((1, 1)) = 0.000   V((1, 2)) = 0.000   V((1, 3)) = 0.000   V((1, 4)) = 0.000   V((1, 5)) = -0.000   V((1, 6)) = 0.000   V((1, 7)) = -0.000   V((2, 0)) = 0.000   V((2, 1)) = 0.000   V((2, 2)) = 0.000   V((2, 3)) = 0.000   V((2, 4)) = -0.000   V((2, 5)) = 0.000   V((2, 6)) = 0.000   V((2, 7)) = 0.000   V((3, 0)) = 0.000   V((3, 1)) = 0.000   V((3, 2)) = 0.000   V((3, 3)) = 0.000   V((3, 4)) = 0.000   V((3, 5)) = 0.000   V((3, 6)) = 0.016   V((3, 7)) = 0.017   V((4, 0)) = 0.000   V((4, 1)) = 0.000   V((4, 2)) = 0.000   V((4, 3)) = 0.000   V((4, 4)) = 0.000   V((4, 5)) = 0.004   V((4, 6)) = 0.039   V((4, 7)) = 0.053   V((5, 0)) = 0.000   V((5, 1)) = 0.000   V((5, 2)) = 0.000   V((5, 3)) = 0.001   V((5, 4)) = 0.002   V((5, 5)) = 0.003   V((5, 6)) = 0.000   V((5, 7)) = 0.147   V((6, 0)) = 0.000   V((6, 1)) = 0.000   V((6, 2)) = 0.000   V((6, 3)) = 0.000   V((6, 4)) = 0.000   V((6, 5)) = 0.026   V((6, 6)) = 0.000   V((6, 7)) = 0.404   V((7, 0)) = 0.000   V((7, 1)) = 0.000   V((7, 2)) = 0.000   V((7, 3)) = 0.000   V((7, 4)) = 0.000   V((7, 5)) = 0.283   V((7, 6)) = 0.879   V((7, 7)) = 0.000\n",
            "Итерация    1   |   разность max_s|V_new(s) - V_old(s)|: 0.28071   |   V((0, 0)) = 0.076   V((0, 1)) = 0.077   V((0, 2)) = 0.086   V((0, 3)) = 0.076   V((0, 4)) = 0.068   V((0, 5)) = 0.061   V((0, 6)) = 0.057   V((0, 7)) = 0.056   V((1, 0)) = 0.086   V((1, 1)) = 0.096   V((1, 2)) = 0.100   V((1, 3)) = 0.079   V((1, 4)) = 0.080   V((1, 5)) = 0.076   V((1, 6)) = 0.089   V((1, 7)) = 0.108   V((2, 0)) = 0.097   V((2, 1)) = 0.110   V((2, 2)) = 0.117   V((2, 3)) = 0.000   V((2, 4)) = 0.190   V((2, 5)) = 0.143   V((2, 6)) = 0.325   V((2, 7)) = 0.435   V((3, 0)) = 0.109   V((3, 1)) = 0.127   V((3, 2)) = 0.148   V((3, 3)) = 0.177   V((3, 4)) = 0.246   V((3, 5)) = 0.000   V((3, 6)) = 0.379   V((3, 7)) = 0.509   V((4, 0)) = 0.096   V((4, 1)) = 0.110   V((4, 2)) = 0.117   V((4, 3)) = 0.000   V((4, 4)) = 0.319   V((4, 5)) = 0.371   V((4, 6)) = 0.463   V((4, 7)) = 0.596   V((5, 0)) = 0.076   V((5, 1)) = 0.000   V((5, 2)) = 0.000   V((5, 3)) = 0.255   V((5, 4)) = 0.330   V((5, 5)) = 0.418   V((5, 6)) = 0.000   V((5, 7)) = 0.696   V((6, 0)) = 0.060   V((6, 1)) = 0.000   V((6, 2)) = 0.152   V((6, 3)) = 0.197   V((6, 4)) = 0.000   V((6, 5)) = 0.539   V((6, 6)) = 0.000   V((6, 7)) = 0.879   V((7, 0)) = 0.052   V((7, 1)) = 0.041   V((7, 2)) = 0.113   V((7, 3)) = 0.000   V((7, 4)) = 0.593   V((7, 5)) = 0.749   V((7, 6)) = 0.879   V((7, 7)) = 0.000\n",
            "Итерация    2   |   разность max_s|V_new(s) - V_old(s)|: 0.13260   |   V((0, 0)) = 0.077   V((0, 1)) = 0.084   V((0, 2)) = 0.086   V((0, 3)) = 0.076   V((0, 4)) = 0.157   V((0, 5)) = 0.234   V((0, 6)) = 0.298   V((0, 7)) = 0.337   V((1, 0)) = 0.086   V((1, 1)) = 0.096   V((1, 2)) = 0.100   V((1, 3)) = 0.079   V((1, 4)) = 0.179   V((1, 5)) = 0.268   V((1, 6)) = 0.343   V((1, 7)) = 0.388   V((2, 0)) = 0.097   V((2, 1)) = 0.111   V((2, 2)) = 0.117   V((2, 3)) = 0.000   V((2, 4)) = 0.205   V((2, 5)) = 0.308   V((2, 6)) = 0.394   V((2, 7)) = 0.448   V((3, 0)) = 0.109   V((3, 1)) = 0.127   V((3, 2)) = 0.149   V((3, 3)) = 0.177   V((3, 4)) = 0.246   V((3, 5)) = 0.000   V((3, 6)) = 0.450   V((3, 7)) = 0.517   V((4, 0)) = 0.097   V((4, 1)) = 0.111   V((4, 2)) = 0.117   V((4, 3)) = 0.000   V((4, 4)) = 0.320   V((4, 5)) = 0.372   V((4, 6)) = 0.470   V((4, 7)) = 0.597   V((5, 0)) = 0.077   V((5, 1)) = 0.000   V((5, 2)) = 0.000   V((5, 3)) = 0.255   V((5, 4)) = 0.330   V((5, 5)) = 0.418   V((5, 6)) = 0.000   V((5, 7)) = 0.696   V((6, 0)) = 0.061   V((6, 1)) = 0.000   V((6, 2)) = 0.153   V((6, 3)) = 0.197   V((6, 4)) = 0.000   V((6, 5)) = 0.539   V((6, 6)) = 0.000   V((6, 7)) = 0.879   V((7, 0)) = 0.057   V((7, 1)) = 0.094   V((7, 2)) = 0.118   V((7, 3)) = 0.000   V((7, 4)) = 0.593   V((7, 5)) = 0.749   V((7, 6)) = 0.879   V((7, 7)) = 0.000\n",
            "Итерация    3   |   разность max_s|V_new(s) - V_old(s)|: 0.07602   |   V((0, 0)) = 0.078   V((0, 1)) = 0.088   V((0, 2)) = 0.108   V((0, 3)) = 0.209   V((0, 4)) = 0.238   V((0, 5)) = 0.268   V((0, 6)) = 0.301   V((0, 7)) = 0.337   V((1, 0)) = 0.087   V((1, 1)) = 0.099   V((1, 2)) = 0.113   V((1, 3)) = 0.208   V((1, 4)) = 0.262   V((1, 5)) = 0.301   V((1, 6)) = 0.346   V((1, 7)) = 0.388   V((2, 0)) = 0.098   V((2, 1)) = 0.112   V((2, 2)) = 0.118   V((2, 3)) = 0.000   V((2, 4)) = 0.270   V((2, 5)) = 0.311   V((2, 6)) = 0.394   V((2, 7)) = 0.448   V((3, 0)) = 0.110   V((3, 1)) = 0.128   V((3, 2)) = 0.150   V((3, 3)) = 0.179   V((3, 4)) = 0.249   V((3, 5)) = 0.000   V((3, 6)) = 0.450   V((3, 7)) = 0.517   V((4, 0)) = 0.098   V((4, 1)) = 0.112   V((4, 2)) = 0.118   V((4, 3)) = 0.000   V((4, 4)) = 0.323   V((4, 5)) = 0.376   V((4, 6)) = 0.470   V((4, 7)) = 0.597   V((5, 0)) = 0.078   V((5, 1)) = 0.000   V((5, 2)) = 0.000   V((5, 3)) = 0.255   V((5, 4)) = 0.330   V((5, 5)) = 0.418   V((5, 6)) = 0.000   V((5, 7)) = 0.696   V((6, 0)) = 0.061   V((6, 1)) = 0.000   V((6, 2)) = 0.153   V((6, 3)) = 0.198   V((6, 4)) = 0.000   V((6, 5)) = 0.539   V((6, 6)) = 0.000   V((6, 7)) = 0.879   V((7, 0)) = 0.080   V((7, 1)) = 0.094   V((7, 2)) = 0.119   V((7, 3)) = 0.000   V((7, 4)) = 0.593   V((7, 5)) = 0.749   V((7, 6)) = 0.879   V((7, 7)) = 0.000\n",
            "Итерация    4   |   разность max_s|V_new(s) - V_old(s)|: 0.04231   |   V((0, 0)) = 0.136   V((0, 1)) = 0.160   V((0, 2)) = 0.184   V((0, 3)) = 0.210   V((0, 4)) = 0.240   V((0, 5)) = 0.270   V((0, 6)) = 0.304   V((0, 7)) = 0.337   V((1, 0)) = 0.093   V((1, 1)) = 0.152   V((1, 2)) = 0.177   V((1, 3)) = 0.208   V((1, 4)) = 0.263   V((1, 5)) = 0.301   V((1, 6)) = 0.346   V((1, 7)) = 0.388   V((2, 0)) = 0.099   V((2, 1)) = 0.112   V((2, 2)) = 0.118   V((2, 3)) = 0.000   V((2, 4)) = 0.270   V((2, 5)) = 0.311   V((2, 6)) = 0.394   V((2, 7)) = 0.448   V((3, 0)) = 0.110   V((3, 1)) = 0.128   V((3, 2)) = 0.150   V((3, 3)) = 0.179   V((3, 4)) = 0.249   V((3, 5)) = 0.000   V((3, 6)) = 0.450   V((3, 7)) = 0.517   V((4, 0)) = 0.098   V((4, 1)) = 0.112   V((4, 2)) = 0.118   V((4, 3)) = 0.000   V((4, 4)) = 0.323   V((4, 5)) = 0.376   V((4, 6)) = 0.470   V((4, 7)) = 0.597   V((5, 0)) = 0.078   V((5, 1)) = 0.000   V((5, 2)) = 0.000   V((5, 3)) = 0.255   V((5, 4)) = 0.330   V((5, 5)) = 0.418   V((5, 6)) = 0.000   V((5, 7)) = 0.696   V((6, 0)) = 0.064   V((6, 1)) = 0.000   V((6, 2)) = 0.153   V((6, 3)) = 0.198   V((6, 4)) = 0.000   V((6, 5)) = 0.539   V((6, 6)) = 0.000   V((6, 7)) = 0.879   V((7, 0)) = 0.081   V((7, 1)) = 0.094   V((7, 2)) = 0.119   V((7, 3)) = 0.000   V((7, 4)) = 0.593   V((7, 5)) = 0.749   V((7, 6)) = 0.879   V((7, 7)) = 0.000\n",
            "Итерация    5   |   разность max_s|V_new(s) - V_old(s)|: 0.00056   |   V((0, 0)) = 0.141   V((0, 1)) = 0.161   V((0, 2)) = 0.184   V((0, 3)) = 0.210   V((0, 4)) = 0.240   V((0, 5)) = 0.270   V((0, 6)) = 0.304   V((0, 7)) = 0.337   V((1, 0)) = 0.136   V((1, 1)) = 0.156   V((1, 2)) = 0.179   V((1, 3)) = 0.208   V((1, 4)) = 0.263   V((1, 5)) = 0.301   V((1, 6)) = 0.346   V((1, 7)) = 0.388   V((2, 0)) = 0.120   V((2, 1)) = 0.136   V((2, 2)) = 0.141   V((2, 3)) = 0.000   V((2, 4)) = 0.270   V((2, 5)) = 0.311   V((2, 6)) = 0.394   V((2, 7)) = 0.448   V((3, 0)) = 0.115   V((3, 1)) = 0.132   V((3, 2)) = 0.152   V((3, 3)) = 0.179   V((3, 4)) = 0.249   V((3, 5)) = 0.000   V((3, 6)) = 0.450   V((3, 7)) = 0.517   V((4, 0)) = 0.103   V((4, 1)) = 0.115   V((4, 2)) = 0.120   V((4, 3)) = 0.000   V((4, 4)) = 0.323   V((4, 5)) = 0.376   V((4, 6)) = 0.470   V((4, 7)) = 0.597   V((5, 0)) = 0.081   V((5, 1)) = 0.000   V((5, 2)) = 0.000   V((5, 3)) = 0.255   V((5, 4)) = 0.330   V((5, 5)) = 0.418   V((5, 6)) = 0.000   V((5, 7)) = 0.696   V((6, 0)) = 0.064   V((6, 1)) = 0.000   V((6, 2)) = 0.153   V((6, 3)) = 0.198   V((6, 4)) = 0.000   V((6, 5)) = 0.539   V((6, 6)) = 0.000   V((6, 7)) = 0.879   V((7, 0)) = 0.081   V((7, 1)) = 0.094   V((7, 2)) = 0.119   V((7, 3)) = 0.000   V((7, 4)) = 0.593   V((7, 5)) = 0.749   V((7, 6)) = 0.879   V((7, 7)) = 0.000\n",
            "Итерация    6   |   разность max_s|V_new(s) - V_old(s)|: 0.00000   |   V((0, 0)) = 0.141   V((0, 1)) = 0.161   V((0, 2)) = 0.184   V((0, 3)) = 0.210   V((0, 4)) = 0.240   V((0, 5)) = 0.270   V((0, 6)) = 0.304   V((0, 7)) = 0.337   V((1, 0)) = 0.136   V((1, 1)) = 0.156   V((1, 2)) = 0.179   V((1, 3)) = 0.208   V((1, 4)) = 0.263   V((1, 5)) = 0.301   V((1, 6)) = 0.346   V((1, 7)) = 0.388   V((2, 0)) = 0.121   V((2, 1)) = 0.136   V((2, 2)) = 0.141   V((2, 3)) = 0.000   V((2, 4)) = 0.270   V((2, 5)) = 0.311   V((2, 6)) = 0.394   V((2, 7)) = 0.448   V((3, 0)) = 0.115   V((3, 1)) = 0.132   V((3, 2)) = 0.152   V((3, 3)) = 0.179   V((3, 4)) = 0.249   V((3, 5)) = 0.000   V((3, 6)) = 0.450   V((3, 7)) = 0.517   V((4, 0)) = 0.103   V((4, 1)) = 0.115   V((4, 2)) = 0.120   V((4, 3)) = 0.000   V((4, 4)) = 0.323   V((4, 5)) = 0.376   V((4, 6)) = 0.470   V((4, 7)) = 0.597   V((5, 0)) = 0.081   V((5, 1)) = 0.000   V((5, 2)) = 0.000   V((5, 3)) = 0.255   V((5, 4)) = 0.330   V((5, 5)) = 0.418   V((5, 6)) = 0.000   V((5, 7)) = 0.696   V((6, 0)) = 0.064   V((6, 1)) = 0.000   V((6, 2)) = 0.153   V((6, 3)) = 0.198   V((6, 4)) = 0.000   V((6, 5)) = 0.539   V((6, 6)) = 0.000   V((6, 7)) = 0.879   V((7, 0)) = 0.081   V((7, 1)) = 0.094   V((7, 2)) = 0.119   V((7, 3)) = 0.000   V((7, 4)) = 0.593   V((7, 5)) = 0.749   V((7, 6)) = 0.879   V((7, 7)) = 0.000\n",
            "Остановка\n",
            "average reward:  0.742\n"
          ]
        }
      ]
    },
    {
      "cell_type": "markdown",
      "metadata": {
        "id": "J059fWvNIvy-"
      },
      "source": [
        "# Поиск MDP, на котором Value Iteration работает достаточно долго (вплоть до 2 баллов)\n",
        "\n",
        "Когда запускали Value Iteration на небольшой задаче frozen lake, последняя итерация, на которой изменялась стратегия обучаемой политики, была под номером 6 &mdash; то есть Value Iteration находил оптимальную политику на итерации 6. Существуют ли какие-либо гарантии на то, что в общем случае поиск оптимальной политики сверху ограничен конечным числом в MDP с негораниченным горизонтом с дисконтированием? Ответ без дополнительных предположений отрицательный, более того, можно предложить пример MDP, в котором жадный алгоритм оптимизации политики будет работать произвольное наперёд заданное заданное количество итераций.\n",
        "\n",
        "Ваша задача: предъявить MDP с не более чем 3 состояниями и 2 действиями такой, что на нём алгоритм Value Iteration до останова требует, как минимум, 50 итераций. Используйте фактор дисконтирования, равный 0.95 (Однако, заметим, что величина дисконтирования тут не играет особой роли &mdash; в теории Вы можете предъявить MDP с произвольным дисконтированием, отвечающий требованиям выше.)\n",
        "\n",
        "Замечание: V-функция ценности должна измениться хотя бы одни раз после 50-ой итерации (включая 50-ую итерацию), не требуется изменение V-функции на каждой итерации."
      ]
    },
    {
      "cell_type": "code",
      "execution_count": 56,
      "metadata": {
        "id": "y1koZSehIvy-"
      },
      "outputs": [],
      "source": [
        "transition_probs = {\n",
        "    's0': {\n",
        "        'a0': {'s0': 1},\n",
        "        'a1': {'s1': 1}\n",
        "    },\n",
        "    's1': {\n",
        "        'a0': {'s1': 1}\n",
        "    }\n",
        "}\n",
        "rewards = {\n",
        "    's0': {'a1': {'s1': -18}},\n",
        "    's1': {'a0': {'s1': +1}}\n",
        "}\n",
        "\n",
        "from mdp import MDP\n",
        "from numpy import random\n",
        "mdp = MDP(transition_probs, rewards, initial_state=random.choice(tuple(transition_probs.keys())))\n",
        "# Не бойтесь изменять начальное состояние initial_state"
      ]
    },
    {
      "cell_type": "code",
      "execution_count": 57,
      "metadata": {
        "id": "gjAVFP1gIvy-",
        "colab": {
          "base_uri": "https://localhost:8080/"
        },
        "outputId": "b9ca1442-8c54-47da-fa03-5622ab1a356c"
      },
      "outputs": [
        {
          "output_type": "stream",
          "name": "stdout",
          "text": [
            "после итерации 0\n",
            "Итерация    0   |   разность max_s|V_new(s) - V_old(s)|: 1.00000   |   V(start): 0.000 \n",
            "Количество поменявшихся действий = 0 \n",
            "\n",
            "после итерации 1\n",
            "Итерация    0   |   разность max_s|V_new(s) - V_old(s)|: 0.95000   |   V(start): 0.000 \n",
            "Количество поменявшихся действий = 0 \n",
            "\n",
            "после итерации 2\n",
            "Итерация    0   |   разность max_s|V_new(s) - V_old(s)|: 0.90250   |   V(start): 0.000 \n",
            "Количество поменявшихся действий = 0 \n",
            "\n",
            "после итерации 3\n",
            "Итерация    0   |   разность max_s|V_new(s) - V_old(s)|: 0.85737   |   V(start): 0.000 \n",
            "Количество поменявшихся действий = 0 \n",
            "\n",
            "после итерации 4\n",
            "Итерация    0   |   разность max_s|V_new(s) - V_old(s)|: 0.81451   |   V(start): 0.000 \n",
            "Количество поменявшихся действий = 0 \n",
            "\n",
            "после итерации 5\n",
            "Итерация    0   |   разность max_s|V_new(s) - V_old(s)|: 0.77378   |   V(start): 0.000 \n",
            "Количество поменявшихся действий = 0 \n",
            "\n",
            "после итерации 6\n",
            "Итерация    0   |   разность max_s|V_new(s) - V_old(s)|: 0.73509   |   V(start): 0.000 \n",
            "Количество поменявшихся действий = 0 \n",
            "\n",
            "после итерации 7\n",
            "Итерация    0   |   разность max_s|V_new(s) - V_old(s)|: 0.69834   |   V(start): 0.000 \n",
            "Количество поменявшихся действий = 0 \n",
            "\n",
            "после итерации 8\n",
            "Итерация    0   |   разность max_s|V_new(s) - V_old(s)|: 0.66342   |   V(start): 0.000 \n",
            "Количество поменявшихся действий = 0 \n",
            "\n",
            "после итерации 9\n",
            "Итерация    0   |   разность max_s|V_new(s) - V_old(s)|: 0.63025   |   V(start): 0.000 \n",
            "Количество поменявшихся действий = 0 \n",
            "\n",
            "после итерации 10\n",
            "Итерация    0   |   разность max_s|V_new(s) - V_old(s)|: 0.59874   |   V(start): 0.000 \n",
            "Количество поменявшихся действий = 0 \n",
            "\n",
            "после итерации 11\n",
            "Итерация    0   |   разность max_s|V_new(s) - V_old(s)|: 0.56880   |   V(start): 0.000 \n",
            "Количество поменявшихся действий = 0 \n",
            "\n",
            "после итерации 12\n",
            "Итерация    0   |   разность max_s|V_new(s) - V_old(s)|: 0.54036   |   V(start): 0.000 \n",
            "Количество поменявшихся действий = 0 \n",
            "\n",
            "после итерации 13\n",
            "Итерация    0   |   разность max_s|V_new(s) - V_old(s)|: 0.51334   |   V(start): 0.000 \n",
            "Количество поменявшихся действий = 0 \n",
            "\n",
            "после итерации 14\n",
            "Итерация    0   |   разность max_s|V_new(s) - V_old(s)|: 0.48767   |   V(start): 0.000 \n",
            "Количество поменявшихся действий = 0 \n",
            "\n",
            "после итерации 15\n",
            "Итерация    0   |   разность max_s|V_new(s) - V_old(s)|: 0.46329   |   V(start): 0.000 \n",
            "Количество поменявшихся действий = 0 \n",
            "\n",
            "после итерации 16\n",
            "Итерация    0   |   разность max_s|V_new(s) - V_old(s)|: 0.44013   |   V(start): 0.000 \n",
            "Количество поменявшихся действий = 0 \n",
            "\n",
            "после итерации 17\n",
            "Итерация    0   |   разность max_s|V_new(s) - V_old(s)|: 0.41812   |   V(start): 0.000 \n",
            "Количество поменявшихся действий = 0 \n",
            "\n",
            "после итерации 18\n",
            "Итерация    0   |   разность max_s|V_new(s) - V_old(s)|: 0.39721   |   V(start): 0.000 \n",
            "Количество поменявшихся действий = 0 \n",
            "\n",
            "после итерации 19\n",
            "Итерация    0   |   разность max_s|V_new(s) - V_old(s)|: 0.37735   |   V(start): 0.000 \n",
            "Количество поменявшихся действий = 0 \n",
            "\n",
            "после итерации 20\n",
            "Итерация    0   |   разность max_s|V_new(s) - V_old(s)|: 0.35849   |   V(start): 0.000 \n",
            "Количество поменявшихся действий = 0 \n",
            "\n",
            "после итерации 21\n",
            "Итерация    0   |   разность max_s|V_new(s) - V_old(s)|: 0.34056   |   V(start): 0.000 \n",
            "Количество поменявшихся действий = 0 \n",
            "\n",
            "после итерации 22\n",
            "Итерация    0   |   разность max_s|V_new(s) - V_old(s)|: 0.32353   |   V(start): 0.000 \n",
            "Количество поменявшихся действий = 0 \n",
            "\n",
            "после итерации 23\n",
            "Итерация    0   |   разность max_s|V_new(s) - V_old(s)|: 0.30736   |   V(start): 0.000 \n",
            "Количество поменявшихся действий = 0 \n",
            "\n",
            "после итерации 24\n",
            "Итерация    0   |   разность max_s|V_new(s) - V_old(s)|: 0.29199   |   V(start): 0.000 \n",
            "Количество поменявшихся действий = 0 \n",
            "\n",
            "после итерации 25\n",
            "Итерация    0   |   разность max_s|V_new(s) - V_old(s)|: 0.27739   |   V(start): 0.000 \n",
            "Количество поменявшихся действий = 0 \n",
            "\n",
            "после итерации 26\n",
            "Итерация    0   |   разность max_s|V_new(s) - V_old(s)|: 0.26352   |   V(start): 0.000 \n",
            "Количество поменявшихся действий = 0 \n",
            "\n",
            "после итерации 27\n",
            "Итерация    0   |   разность max_s|V_new(s) - V_old(s)|: 0.25034   |   V(start): 0.000 \n",
            "Количество поменявшихся действий = 0 \n",
            "\n",
            "после итерации 28\n",
            "Итерация    0   |   разность max_s|V_new(s) - V_old(s)|: 0.23783   |   V(start): 0.000 \n",
            "Количество поменявшихся действий = 0 \n",
            "\n",
            "после итерации 29\n",
            "Итерация    0   |   разность max_s|V_new(s) - V_old(s)|: 0.22594   |   V(start): 0.000 \n",
            "Количество поменявшихся действий = 0 \n",
            "\n",
            "после итерации 30\n",
            "Итерация    0   |   разность max_s|V_new(s) - V_old(s)|: 0.21464   |   V(start): 0.000 \n",
            "Количество поменявшихся действий = 0 \n",
            "\n",
            "после итерации 31\n",
            "Итерация    0   |   разность max_s|V_new(s) - V_old(s)|: 0.20391   |   V(start): 0.000 \n",
            "Количество поменявшихся действий = 0 \n",
            "\n",
            "после итерации 32\n",
            "Итерация    0   |   разность max_s|V_new(s) - V_old(s)|: 0.19371   |   V(start): 0.000 \n",
            "Количество поменявшихся действий = 0 \n",
            "\n",
            "после итерации 33\n",
            "Итерация    0   |   разность max_s|V_new(s) - V_old(s)|: 0.18403   |   V(start): 0.000 \n",
            "Количество поменявшихся действий = 0 \n",
            "\n",
            "после итерации 34\n",
            "Итерация    0   |   разность max_s|V_new(s) - V_old(s)|: 0.17482   |   V(start): 0.000 \n",
            "Количество поменявшихся действий = 0 \n",
            "\n",
            "после итерации 35\n",
            "Итерация    0   |   разность max_s|V_new(s) - V_old(s)|: 0.16608   |   V(start): 0.000 \n",
            "Количество поменявшихся действий = 0 \n",
            "\n",
            "после итерации 36\n",
            "Итерация    0   |   разность max_s|V_new(s) - V_old(s)|: 0.15778   |   V(start): 0.000 \n",
            "Количество поменявшихся действий = 0 \n",
            "\n",
            "после итерации 37\n",
            "Итерация    0   |   разность max_s|V_new(s) - V_old(s)|: 0.14989   |   V(start): 0.000 \n",
            "Количество поменявшихся действий = 0 \n",
            "\n",
            "после итерации 38\n",
            "Итерация    0   |   разность max_s|V_new(s) - V_old(s)|: 0.14240   |   V(start): 0.000 \n",
            "Количество поменявшихся действий = 0 \n",
            "\n",
            "после итерации 39\n",
            "Итерация    0   |   разность max_s|V_new(s) - V_old(s)|: 0.13528   |   V(start): 0.000 \n",
            "Количество поменявшихся действий = 0 \n",
            "\n",
            "после итерации 40\n",
            "Итерация    0   |   разность max_s|V_new(s) - V_old(s)|: 0.12851   |   V(start): 0.000 \n",
            "Количество поменявшихся действий = 0 \n",
            "\n",
            "после итерации 41\n",
            "Итерация    0   |   разность max_s|V_new(s) - V_old(s)|: 0.12209   |   V(start): 0.000 \n",
            "Количество поменявшихся действий = 0 \n",
            "\n",
            "после итерации 42\n",
            "Итерация    0   |   разность max_s|V_new(s) - V_old(s)|: 0.11598   |   V(start): 0.000 \n",
            "Количество поменявшихся действий = 0 \n",
            "\n",
            "после итерации 43\n",
            "Итерация    0   |   разность max_s|V_new(s) - V_old(s)|: 0.11018   |   V(start): 0.000 \n",
            "Количество поменявшихся действий = 0 \n",
            "\n",
            "после итерации 44\n",
            "Итерация    0   |   разность max_s|V_new(s) - V_old(s)|: 0.10467   |   V(start): 0.000 \n",
            "Количество поменявшихся действий = 0 \n",
            "\n",
            "после итерации 45\n",
            "Итерация    0   |   разность max_s|V_new(s) - V_old(s)|: 0.09944   |   V(start): 0.000 \n",
            "Количество поменявшихся действий = 0 \n",
            "\n",
            "после итерации 46\n",
            "Итерация    0   |   разность max_s|V_new(s) - V_old(s)|: 0.09447   |   V(start): 0.000 \n",
            "Количество поменявшихся действий = 0 \n",
            "\n",
            "после итерации 47\n",
            "Итерация    0   |   разность max_s|V_new(s) - V_old(s)|: 0.08974   |   V(start): 0.000 \n",
            "Количество поменявшихся действий = 0 \n",
            "\n",
            "после итерации 48\n",
            "Итерация    0   |   разность max_s|V_new(s) - V_old(s)|: 0.08526   |   V(start): 0.000 \n",
            "Количество поменявшихся действий = 0 \n",
            "\n",
            "после итерации 49\n",
            "Итерация    0   |   разность max_s|V_new(s) - V_old(s)|: 0.08099   |   V(start): 0.000 \n",
            "Количество поменявшихся действий = 0 \n",
            "\n",
            "после итерации 50\n",
            "Итерация    0   |   разность max_s|V_new(s) - V_old(s)|: 0.07694   |   V(start): 0.000 \n",
            "Количество поменявшихся действий = 0 \n",
            "\n",
            "после итерации 51\n",
            "Итерация    0   |   разность max_s|V_new(s) - V_old(s)|: 0.07310   |   V(start): 0.000 \n",
            "Количество поменявшихся действий = 0 \n",
            "\n",
            "после итерации 52\n",
            "Итерация    0   |   разность max_s|V_new(s) - V_old(s)|: 0.06944   |   V(start): 0.000 \n",
            "Количество поменявшихся действий = 0 \n",
            "\n",
            "после итерации 53\n",
            "Итерация    0   |   разность max_s|V_new(s) - V_old(s)|: 0.06597   |   V(start): 0.000 \n",
            "Количество поменявшихся действий = 0 \n",
            "\n",
            "после итерации 54\n",
            "Итерация    0   |   разность max_s|V_new(s) - V_old(s)|: 0.06267   |   V(start): 0.000 \n",
            "Количество поменявшихся действий = 0 \n",
            "\n",
            "после итерации 55\n",
            "Итерация    0   |   разность max_s|V_new(s) - V_old(s)|: 0.05954   |   V(start): 0.000 \n",
            "Количество поменявшихся действий = 0 \n",
            "\n",
            "после итерации 56\n",
            "Итерация    0   |   разность max_s|V_new(s) - V_old(s)|: 0.05656   |   V(start): 0.000 \n",
            "Количество поменявшихся действий = 0 \n",
            "\n",
            "после итерации 57\n",
            "Итерация    0   |   разность max_s|V_new(s) - V_old(s)|: 0.05373   |   V(start): 0.000 \n",
            "Количество поменявшихся действий = 1 \n",
            "\n",
            "после итерации 58\n",
            "Итерация    0   |   разность max_s|V_new(s) - V_old(s)|: 0.05105   |   V(start): 0.030 \n",
            "Количество поменявшихся действий = 0 \n",
            "\n",
            "после итерации 59\n",
            "Итерация    0   |   разность max_s|V_new(s) - V_old(s)|: 0.04849   |   V(start): 0.079 \n",
            "Количество поменявшихся действий = 0 \n",
            "\n",
            "после итерации 60\n",
            "Итерация    0   |   разность max_s|V_new(s) - V_old(s)|: 0.04607   |   V(start): 0.125 \n",
            "Количество поменявшихся действий = 0 \n",
            "\n",
            "после итерации 61\n",
            "Итерация    0   |   разность max_s|V_new(s) - V_old(s)|: 0.04377   |   V(start): 0.168 \n",
            "Количество поменявшихся действий = 0 \n",
            "\n",
            "после итерации 62\n",
            "Итерация    0   |   разность max_s|V_new(s) - V_old(s)|: 0.04158   |   V(start): 0.210 \n",
            "Количество поменявшихся действий = 0 \n",
            "\n",
            "после итерации 63\n",
            "Итерация    0   |   разность max_s|V_new(s) - V_old(s)|: 0.03950   |   V(start): 0.250 \n",
            "Количество поменявшихся действий = 0 \n",
            "\n",
            "после итерации 64\n",
            "Итерация    0   |   разность max_s|V_new(s) - V_old(s)|: 0.03752   |   V(start): 0.287 \n",
            "Количество поменявшихся действий = 0 \n",
            "\n",
            "после итерации 65\n",
            "Итерация    0   |   разность max_s|V_new(s) - V_old(s)|: 0.03565   |   V(start): 0.323 \n",
            "Количество поменявшихся действий = 0 \n",
            "\n",
            "после итерации 66\n",
            "Итерация    0   |   разность max_s|V_new(s) - V_old(s)|: 0.03387   |   V(start): 0.357 \n",
            "Количество поменявшихся действий = 0 \n",
            "\n",
            "после итерации 67\n",
            "Итерация    0   |   разность max_s|V_new(s) - V_old(s)|: 0.03217   |   V(start): 0.389 \n",
            "Количество поменявшихся действий = 0 \n",
            "\n",
            "после итерации 68\n",
            "Итерация    0   |   разность max_s|V_new(s) - V_old(s)|: 0.03056   |   V(start): 0.419 \n",
            "Количество поменявшихся действий = 0 \n",
            "\n",
            "после итерации 69\n",
            "Итерация    0   |   разность max_s|V_new(s) - V_old(s)|: 0.02904   |   V(start): 0.448 \n",
            "Количество поменявшихся действий = 0 \n",
            "\n",
            "после итерации 70\n",
            "Итерация    0   |   разность max_s|V_new(s) - V_old(s)|: 0.02758   |   V(start): 0.476 \n",
            "Количество поменявшихся действий = 0 \n",
            "\n",
            "после итерации 71\n",
            "Итерация    0   |   разность max_s|V_new(s) - V_old(s)|: 0.02620   |   V(start): 0.502 \n",
            "Количество поменявшихся действий = 0 \n",
            "\n",
            "после итерации 72\n",
            "Итерация    0   |   разность max_s|V_new(s) - V_old(s)|: 0.02489   |   V(start): 0.527 \n",
            "Количество поменявшихся действий = 0 \n",
            "\n",
            "после итерации 73\n",
            "Итерация    0   |   разность max_s|V_new(s) - V_old(s)|: 0.02365   |   V(start): 0.551 \n",
            "Количество поменявшихся действий = 0 \n",
            "\n",
            "после итерации 74\n",
            "Итерация    0   |   разность max_s|V_new(s) - V_old(s)|: 0.02247   |   V(start): 0.573 \n",
            "Количество поменявшихся действий = 0 \n",
            "\n",
            "после итерации 75\n",
            "Итерация    0   |   разность max_s|V_new(s) - V_old(s)|: 0.02134   |   V(start): 0.594 \n",
            "Количество поменявшихся действий = 0 \n",
            "\n",
            "после итерации 76\n",
            "Итерация    0   |   разность max_s|V_new(s) - V_old(s)|: 0.02028   |   V(start): 0.615 \n",
            "Количество поменявшихся действий = 0 \n",
            "\n",
            "после итерации 77\n",
            "Итерация    0   |   разность max_s|V_new(s) - V_old(s)|: 0.01926   |   V(start): 0.634 \n",
            "Количество поменявшихся действий = 0 \n",
            "\n",
            "после итерации 78\n",
            "Итерация    0   |   разность max_s|V_new(s) - V_old(s)|: 0.01830   |   V(start): 0.652 \n",
            "Количество поменявшихся действий = 0 \n",
            "\n",
            "после итерации 79\n",
            "Итерация    0   |   разность max_s|V_new(s) - V_old(s)|: 0.01738   |   V(start): 0.670 \n",
            "Количество поменявшихся действий = 0 \n",
            "\n",
            "после итерации 80\n",
            "Итерация    0   |   разность max_s|V_new(s) - V_old(s)|: 0.01652   |   V(start): 0.686 \n",
            "Количество поменявшихся действий = 0 \n",
            "\n",
            "после итерации 81\n",
            "Итерация    0   |   разность max_s|V_new(s) - V_old(s)|: 0.01569   |   V(start): 0.702 \n",
            "Количество поменявшихся действий = 0 \n",
            "\n",
            "после итерации 82\n",
            "Итерация    0   |   разность max_s|V_new(s) - V_old(s)|: 0.01491   |   V(start): 0.717 \n",
            "Количество поменявшихся действий = 0 \n",
            "\n",
            "после итерации 83\n",
            "Итерация    0   |   разность max_s|V_new(s) - V_old(s)|: 0.01416   |   V(start): 0.731 \n",
            "Количество поменявшихся действий = 0 \n",
            "\n",
            "после итерации 84\n",
            "Итерация    0   |   разность max_s|V_new(s) - V_old(s)|: 0.01345   |   V(start): 0.744 \n",
            "Количество поменявшихся действий = 0 \n",
            "\n",
            "после итерации 85\n",
            "Итерация    0   |   разность max_s|V_new(s) - V_old(s)|: 0.01278   |   V(start): 0.757 \n",
            "Количество поменявшихся действий = 0 \n",
            "\n",
            "после итерации 86\n",
            "Итерация    0   |   разность max_s|V_new(s) - V_old(s)|: 0.01214   |   V(start): 0.769 \n",
            "Количество поменявшихся действий = 0 \n",
            "\n",
            "после итерации 87\n",
            "Итерация    0   |   разность max_s|V_new(s) - V_old(s)|: 0.01153   |   V(start): 0.781 \n",
            "Количество поменявшихся действий = 0 \n",
            "\n",
            "после итерации 88\n",
            "Итерация    0   |   разность max_s|V_new(s) - V_old(s)|: 0.01096   |   V(start): 0.792 \n",
            "Количество поменявшихся действий = 0 \n",
            "\n",
            "после итерации 89\n",
            "Итерация    0   |   разность max_s|V_new(s) - V_old(s)|: 0.01041   |   V(start): 0.802 \n",
            "Количество поменявшихся действий = 0 \n",
            "\n",
            "после итерации 90\n",
            "Итерация    0   |   разность max_s|V_new(s) - V_old(s)|: 0.00989   |   V(start): 0.812 \n",
            "Количество поменявшихся действий = 0 \n",
            "\n",
            "после итерации 91\n",
            "Итерация    0   |   разность max_s|V_new(s) - V_old(s)|: 0.00939   |   V(start): 0.822 \n",
            "Количество поменявшихся действий = 0 \n",
            "\n",
            "после итерации 92\n",
            "Итерация    0   |   разность max_s|V_new(s) - V_old(s)|: 0.00892   |   V(start): 0.830 \n",
            "Количество поменявшихся действий = 0 \n",
            "\n",
            "после итерации 93\n",
            "Итерация    0   |   разность max_s|V_new(s) - V_old(s)|: 0.00848   |   V(start): 0.839 \n",
            "Количество поменявшихся действий = 0 \n",
            "\n",
            "после итерации 94\n",
            "Итерация    0   |   разность max_s|V_new(s) - V_old(s)|: 0.00805   |   V(start): 0.847 \n",
            "Количество поменявшихся действий = 0 \n",
            "\n",
            "после итерации 95\n",
            "Итерация    0   |   разность max_s|V_new(s) - V_old(s)|: 0.00765   |   V(start): 0.855 \n",
            "Количество поменявшихся действий = 0 \n",
            "\n",
            "после итерации 96\n",
            "Итерация    0   |   разность max_s|V_new(s) - V_old(s)|: 0.00727   |   V(start): 0.862 \n",
            "Количество поменявшихся действий = 0 \n",
            "\n",
            "после итерации 97\n",
            "Итерация    0   |   разность max_s|V_new(s) - V_old(s)|: 0.00691   |   V(start): 0.869 \n",
            "Количество поменявшихся действий = 0 \n",
            "\n",
            "после итерации 98\n",
            "Итерация    0   |   разность max_s|V_new(s) - V_old(s)|: 0.00656   |   V(start): 0.875 \n",
            "Количество поменявшихся действий = 0 \n",
            "\n",
            "после итерации 99\n",
            "Итерация    0   |   разность max_s|V_new(s) - V_old(s)|: 0.00623   |   V(start): 0.882 \n",
            "Количество поменявшихся действий = 0 \n",
            "\n",
            "CPU times: user 120 ms, sys: 22.3 ms, total: 142 ms\n",
            "Wall time: 125 ms\n"
          ]
        }
      ],
      "source": [
        "%%time\n",
        "\n",
        "gamma = 0.95\n",
        "state_values = {s: 0 for s in mdp.get_all_states()}\n",
        "policy = np.array([get_optimal_action(mdp, state_values, state, gamma)\n",
        "                   for state in sorted(mdp.get_all_states())])\n",
        "\n",
        "for i in range(100):\n",
        "    print(\"после итерации %i\" % i)\n",
        "    state_values = value_iteration(mdp, state_values, num_iter=1, gamma=gamma)\n",
        "\n",
        "    new_policy = np.array([get_optimal_action(mdp, state_values, state, gamma)\n",
        "                           for state in sorted(mdp.get_all_states())])\n",
        "\n",
        "    n_changes = (policy != new_policy).sum()\n",
        "    print(\"Количество поменявшихся действий = %i \\n\" % n_changes)\n",
        "    policy = new_policy\n",
        "\n",
        "# просьба игнорировать отладочный вывод \"Итерация 0\" на каждом шаге"
      ]
    },
    {
      "cell_type": "code",
      "execution_count": 47,
      "metadata": {
        "id": "UUTjbySJIvy-"
      },
      "outputs": [],
      "source": []
    }
  ],
  "metadata": {
    "kernelspec": {
      "display_name": "Python 3",
      "language": "python",
      "name": "python3"
    },
    "language_info": {
      "codemirror_mode": {
        "name": "ipython",
        "version": 3
      },
      "file_extension": ".py",
      "mimetype": "text/x-python",
      "name": "python",
      "nbconvert_exporter": "python",
      "pygments_lexer": "ipython3",
      "version": "3.8.10"
    },
    "colab": {
      "provenance": []
    }
  },
  "nbformat": 4,
  "nbformat_minor": 0
}