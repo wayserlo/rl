{
  "cells": [
    {
      "cell_type": "markdown",
      "metadata": {
        "run_control": {
          "frozen": false,
          "read_only": false
        },
        "id": "ibVStes6G1R8"
      },
      "source": [
        "# Глубокий кросс-энтропийный метод\n",
        "\n",
        "#### дедлайн задания: 19 марта, 23:59 GMT+3\n",
        "\n",
        "В данной работе будет рассмотрено обобщение кросс-энтропийного метода на случай параметризации агента с помощью нейросети. Перед вами будет поставлена задача обучить многослойную нейронную сеть для решения простых игр в непрерывных пространствах состояний."
      ]
    },
    {
      "cell_type": "markdown",
      "metadata": {
        "id": "ifHSiIsKG1R-"
      },
      "source": [
        "# Работа выполнена: Астанова Камилла, Б05-903а."
      ]
    },
    {
      "cell_type": "code",
      "execution_count": 1,
      "metadata": {
        "id": "6DiSoss9G1R_"
      },
      "outputs": [],
      "source": [
        "# Для корректной работы ноутбука может понадобиться исполнение следующих команд\n",
        "# (инструкция для Unix-подобных систем):\n",
        "# !apt-get install -y xvfb x11-utils ffmpeg libav-tools python-opengl\n",
        "# !pip install piglet pyvirtualdisplay gym[all]==0.18.3"
      ]
    },
    {
      "cell_type": "code",
      "execution_count": 1,
      "metadata": {
        "ExecuteTime": {
          "end_time": "2019-09-18T14:49:08.272254Z",
          "start_time": "2019-09-18T14:49:08.268020Z"
        },
        "run_control": {
          "frozen": false,
          "read_only": false
        },
        "colab": {
          "base_uri": "https://localhost:8080/"
        },
        "id": "H-_vD7Y3G1SA",
        "outputId": "61b9f1cc-e8b6-49d2-a786-4af16122e2ea"
      },
      "outputs": [
        {
          "output_type": "stream",
          "name": "stdout",
          "text": [
            "--2023-04-20 11:07:55--  https://bit.ly/2FMJP5K\n",
            "Resolving bit.ly (bit.ly)... 67.199.248.11, 67.199.248.10\n",
            "Connecting to bit.ly (bit.ly)|67.199.248.11|:443... connected.\n",
            "HTTP request sent, awaiting response... 301 Moved Permanently\n",
            "Location: https://raw.githubusercontent.com/yandexdataschool/Practical_RL/spring19/setup_colab.sh [following]\n",
            "--2023-04-20 11:07:55--  https://raw.githubusercontent.com/yandexdataschool/Practical_RL/spring19/setup_colab.sh\n",
            "Resolving raw.githubusercontent.com (raw.githubusercontent.com)... 185.199.108.133, 185.199.109.133, 185.199.110.133, ...\n",
            "Connecting to raw.githubusercontent.com (raw.githubusercontent.com)|185.199.108.133|:443... connected.\n",
            "HTTP request sent, awaiting response... 200 OK\n",
            "Length: 262 [text/plain]\n",
            "Saving to: ‘setup.py’\n",
            "\n",
            "\rsetup.py              0%[                    ]       0  --.-KB/s               \rsetup.py            100%[===================>]     262  --.-KB/s    in 0s      \n",
            "\n",
            "2023-04-20 11:07:55 (10.0 MB/s) - ‘setup.py’ saved [262/262]\n",
            "\n",
            "Looking in indexes: https://pypi.org/simple, https://us-python.pkg.dev/colab-wheels/public/simple/\n",
            "Requirement already satisfied: gym in /usr/local/lib/python3.9/dist-packages (0.25.2)\n",
            "Requirement already satisfied: cloudpickle>=1.2.0 in /usr/local/lib/python3.9/dist-packages (from gym) (2.2.1)\n",
            "Requirement already satisfied: importlib-metadata>=4.8.0 in /usr/local/lib/python3.9/dist-packages (from gym) (6.4.1)\n",
            "Requirement already satisfied: gym-notices>=0.0.4 in /usr/local/lib/python3.9/dist-packages (from gym) (0.0.8)\n",
            "Requirement already satisfied: numpy>=1.18.0 in /usr/local/lib/python3.9/dist-packages (from gym) (1.22.4)\n",
            "Requirement already satisfied: zipp>=0.5 in /usr/local/lib/python3.9/dist-packages (from importlib-metadata>=4.8.0->gym) (3.15.0)\n",
            "Reading package lists... Done\n",
            "Building dependency tree       \n",
            "Reading state information... Done\n",
            "The following additional packages will be installed:\n",
            "  libfontenc1 libxfont2 libxkbfile1 x11-xkb-utils xfonts-base xfonts-encodings\n",
            "  xfonts-utils xserver-common\n",
            "The following NEW packages will be installed:\n",
            "  libfontenc1 libxfont2 libxkbfile1 x11-xkb-utils xfonts-base xfonts-encodings\n",
            "  xfonts-utils xserver-common xvfb\n",
            "0 upgraded, 9 newly installed, 0 to remove and 24 not upgraded.\n",
            "Need to get 7,697 kB of archives.\n",
            "After this operation, 11.9 MB of additional disk space will be used.\n",
            "Get:1 http://archive.ubuntu.com/ubuntu focal/main amd64 libfontenc1 amd64 1:1.1.4-0ubuntu1 [14.0 kB]\n",
            "Get:2 http://archive.ubuntu.com/ubuntu focal/main amd64 libxfont2 amd64 1:2.0.3-1 [91.7 kB]\n",
            "Get:3 http://archive.ubuntu.com/ubuntu focal/main amd64 libxkbfile1 amd64 1:1.1.0-1 [65.3 kB]\n",
            "Get:4 http://archive.ubuntu.com/ubuntu focal/main amd64 x11-xkb-utils amd64 7.7+5 [158 kB]\n",
            "Get:5 http://archive.ubuntu.com/ubuntu focal/main amd64 xfonts-encodings all 1:1.0.5-0ubuntu1 [573 kB]\n",
            "Get:6 http://archive.ubuntu.com/ubuntu focal/main amd64 xfonts-utils amd64 1:7.7+6 [91.5 kB]\n",
            "Get:7 http://archive.ubuntu.com/ubuntu focal/main amd64 xfonts-base all 1:1.0.5 [5,896 kB]\n",
            "Get:8 http://archive.ubuntu.com/ubuntu focal-updates/main amd64 xserver-common all 2:1.20.13-1ubuntu1~20.04.8 [27.2 kB]\n",
            "Get:9 http://archive.ubuntu.com/ubuntu focal-updates/universe amd64 xvfb amd64 2:1.20.13-1ubuntu1~20.04.8 [780 kB]\n",
            "Fetched 7,697 kB in 1s (6,609 kB/s)\n",
            "Selecting previously unselected package libfontenc1:amd64.\n",
            "(Reading database ... 122352 files and directories currently installed.)\n",
            "Preparing to unpack .../0-libfontenc1_1%3a1.1.4-0ubuntu1_amd64.deb ...\n",
            "Unpacking libfontenc1:amd64 (1:1.1.4-0ubuntu1) ...\n",
            "Selecting previously unselected package libxfont2:amd64.\n",
            "Preparing to unpack .../1-libxfont2_1%3a2.0.3-1_amd64.deb ...\n",
            "Unpacking libxfont2:amd64 (1:2.0.3-1) ...\n",
            "Selecting previously unselected package libxkbfile1:amd64.\n",
            "Preparing to unpack .../2-libxkbfile1_1%3a1.1.0-1_amd64.deb ...\n",
            "Unpacking libxkbfile1:amd64 (1:1.1.0-1) ...\n",
            "Selecting previously unselected package x11-xkb-utils.\n",
            "Preparing to unpack .../3-x11-xkb-utils_7.7+5_amd64.deb ...\n",
            "Unpacking x11-xkb-utils (7.7+5) ...\n",
            "Selecting previously unselected package xfonts-encodings.\n",
            "Preparing to unpack .../4-xfonts-encodings_1%3a1.0.5-0ubuntu1_all.deb ...\n",
            "Unpacking xfonts-encodings (1:1.0.5-0ubuntu1) ...\n",
            "Selecting previously unselected package xfonts-utils.\n",
            "Preparing to unpack .../5-xfonts-utils_1%3a7.7+6_amd64.deb ...\n",
            "Unpacking xfonts-utils (1:7.7+6) ...\n",
            "Selecting previously unselected package xfonts-base.\n",
            "Preparing to unpack .../6-xfonts-base_1%3a1.0.5_all.deb ...\n",
            "Unpacking xfonts-base (1:1.0.5) ...\n",
            "Selecting previously unselected package xserver-common.\n",
            "Preparing to unpack .../7-xserver-common_2%3a1.20.13-1ubuntu1~20.04.8_all.deb ...\n",
            "Unpacking xserver-common (2:1.20.13-1ubuntu1~20.04.8) ...\n",
            "Selecting previously unselected package xvfb.\n",
            "Preparing to unpack .../8-xvfb_2%3a1.20.13-1ubuntu1~20.04.8_amd64.deb ...\n",
            "Unpacking xvfb (2:1.20.13-1ubuntu1~20.04.8) ...\n",
            "Setting up libfontenc1:amd64 (1:1.1.4-0ubuntu1) ...\n",
            "Setting up xfonts-encodings (1:1.0.5-0ubuntu1) ...\n",
            "Setting up libxkbfile1:amd64 (1:1.1.0-1) ...\n",
            "Setting up libxfont2:amd64 (1:2.0.3-1) ...\n",
            "Setting up x11-xkb-utils (7.7+5) ...\n",
            "Setting up xfonts-utils (1:7.7+6) ...\n",
            "Setting up xfonts-base (1:1.0.5) ...\n",
            "Setting up xserver-common (2:1.20.13-1ubuntu1~20.04.8) ...\n",
            "Setting up xvfb (2:1.20.13-1ubuntu1~20.04.8) ...\n",
            "Processing triggers for man-db (2.9.1-1) ...\n",
            "Processing triggers for fontconfig (2.13.1-2ubuntu3) ...\n",
            "Processing triggers for libc-bin (2.31-0ubuntu9.9) ...\n",
            "--2023-04-20 11:08:28--  https://raw.githubusercontent.com/yandexdataschool/Practical_DL/fall18/xvfb\n",
            "Resolving raw.githubusercontent.com (raw.githubusercontent.com)... 185.199.108.133, 185.199.109.133, 185.199.110.133, ...\n",
            "Connecting to raw.githubusercontent.com (raw.githubusercontent.com)|185.199.108.133|:443... connected.\n",
            "HTTP request sent, awaiting response... 200 OK\n",
            "Length: 640 [text/plain]\n",
            "Saving to: ‘../xvfb’\n",
            "\n",
            "../xvfb             100%[===================>]     640  --.-KB/s    in 0s      \n",
            "\n",
            "2023-04-20 11:08:28 (30.7 MB/s) - ‘../xvfb’ saved [640/640]\n",
            "\n",
            "Reading package lists... Done\n",
            "Building dependency tree       \n",
            "Reading state information... Done\n",
            "ffmpeg is already the newest version (7:4.2.7-0ubuntu0.1).\n",
            "The following additional packages will be installed:\n",
            "  freeglut3 libpython2-stdlib python2 python2-minimal\n",
            "Suggested packages:\n",
            "  python-tk python-numpy libgle3 python2-doc\n",
            "The following NEW packages will be installed:\n",
            "  freeglut3 libpython2-stdlib python-opengl python2 python2-minimal\n",
            "0 upgraded, 5 newly installed, 0 to remove and 24 not upgraded.\n",
            "Need to get 621 kB of archives.\n",
            "After this operation, 6,059 kB of additional disk space will be used.\n",
            "Get:1 http://archive.ubuntu.com/ubuntu focal/universe amd64 python2-minimal amd64 2.7.17-2ubuntu4 [27.5 kB]\n",
            "Get:2 http://archive.ubuntu.com/ubuntu focal/universe amd64 libpython2-stdlib amd64 2.7.17-2ubuntu4 [7,072 B]\n",
            "Get:3 http://archive.ubuntu.com/ubuntu focal/universe amd64 python2 amd64 2.7.17-2ubuntu4 [26.5 kB]\n",
            "Get:4 http://archive.ubuntu.com/ubuntu focal/universe amd64 freeglut3 amd64 2.8.1-3 [73.6 kB]\n",
            "Get:5 http://archive.ubuntu.com/ubuntu focal/universe amd64 python-opengl all 3.1.0+dfsg-2build1 [486 kB]\n",
            "Fetched 621 kB in 1s (770 kB/s)\n",
            "Selecting previously unselected package python2-minimal.\n",
            "(Reading database ... 122915 files and directories currently installed.)\n",
            "Preparing to unpack .../python2-minimal_2.7.17-2ubuntu4_amd64.deb ...\n",
            "Unpacking python2-minimal (2.7.17-2ubuntu4) ...\n",
            "Selecting previously unselected package libpython2-stdlib:amd64.\n",
            "Preparing to unpack .../libpython2-stdlib_2.7.17-2ubuntu4_amd64.deb ...\n",
            "Unpacking libpython2-stdlib:amd64 (2.7.17-2ubuntu4) ...\n",
            "Setting up python2-minimal (2.7.17-2ubuntu4) ...\n",
            "Selecting previously unselected package python2.\n",
            "(Reading database ... 122944 files and directories currently installed.)\n",
            "Preparing to unpack .../python2_2.7.17-2ubuntu4_amd64.deb ...\n",
            "Unpacking python2 (2.7.17-2ubuntu4) ...\n",
            "Selecting previously unselected package freeglut3:amd64.\n",
            "Preparing to unpack .../freeglut3_2.8.1-3_amd64.deb ...\n",
            "Unpacking freeglut3:amd64 (2.8.1-3) ...\n",
            "Selecting previously unselected package python-opengl.\n",
            "Preparing to unpack .../python-opengl_3.1.0+dfsg-2build1_all.deb ...\n",
            "Unpacking python-opengl (3.1.0+dfsg-2build1) ...\n",
            "Setting up freeglut3:amd64 (2.8.1-3) ...\n",
            "Setting up libpython2-stdlib:amd64 (2.7.17-2ubuntu4) ...\n",
            "Setting up python2 (2.7.17-2ubuntu4) ...\n",
            "Setting up python-opengl (3.1.0+dfsg-2build1) ...\n",
            "Processing triggers for man-db (2.9.1-1) ...\n",
            "Processing triggers for libc-bin (2.31-0ubuntu9.9) ...\n",
            "Looking in indexes: https://pypi.org/simple, https://us-python.pkg.dev/colab-wheels/public/simple/\n",
            "Collecting pyglet==1.2.4\n",
            "  Downloading pyglet-1.2.4-py3-none-any.whl (964 kB)\n",
            "\u001b[2K     \u001b[90m━━━━━━━━━━━━━━━━━━━━━━━━━━━━━━━━━━━━━━\u001b[0m \u001b[32m964.6/964.6 kB\u001b[0m \u001b[31m14.9 MB/s\u001b[0m eta \u001b[36m0:00:00\u001b[0m\n",
            "\u001b[?25hInstalling collected packages: pyglet\n",
            "Successfully installed pyglet-1.2.4\n",
            "Starting virtual X frame buffer: Xvfb.\n"
          ]
        }
      ],
      "source": [
        "# В Google Colab раскомментируйте это:\n",
        "!wget https://bit.ly/2FMJP5K -O setup.py && bash setup.py\n",
        "#!pip install --upgrade gym[classic_control]==0.18.3\n",
        "\n",
        "# XVFB будет запущен в случае исполнения на сервере\n",
        "import os\n",
        "if type(os.environ.get(\"DISPLAY\")) is not str or len(os.environ.get(\"DISPLAY\")) == 0:\n",
        "    !bash ../xvfb start\n",
        "    os.environ['DISPLAY'] = ':1'"
      ]
    },
    {
      "cell_type": "code",
      "source": [
        "!pip uninstall gym -qq -y\n",
        "!pip install gym==0.22.0 -qq"
      ],
      "metadata": {
        "colab": {
          "base_uri": "https://localhost:8080/"
        },
        "id": "ww8lcFvTOmPU",
        "outputId": "1934a60d-c234-48be-b137-581344f98270"
      },
      "execution_count": 2,
      "outputs": [
        {
          "output_type": "stream",
          "name": "stdout",
          "text": [
            "\u001b[?25l     \u001b[90m━━━━━━━━━━━━━━━━━━━━━━━━━━━━━━━━━━━━━━━━\u001b[0m \u001b[32m0.0/631.1 kB\u001b[0m \u001b[31m?\u001b[0m eta \u001b[36m-:--:--\u001b[0m\r\u001b[2K     \u001b[91m━━━━━━━━━━━━━━\u001b[0m\u001b[91m╸\u001b[0m\u001b[90m━━━━━━━━━━━━━━━━━━━━━━━━\u001b[0m \u001b[32m235.5/631.1 kB\u001b[0m \u001b[31m7.0 MB/s\u001b[0m eta \u001b[36m0:00:01\u001b[0m\r\u001b[2K     \u001b[90m━━━━━━━━━━━━━━━━━━━━━━━━━━━━━━━━━━━━━━\u001b[0m \u001b[32m631.1/631.1 kB\u001b[0m \u001b[31m10.0 MB/s\u001b[0m eta \u001b[36m0:00:00\u001b[0m\n",
            "\u001b[?25h  Installing build dependencies ... \u001b[?25l\u001b[?25hdone\n",
            "  Getting requirements to build wheel ... \u001b[?25l\u001b[?25hdone\n",
            "  Preparing metadata (pyproject.toml) ... \u001b[?25l\u001b[?25hdone\n",
            "  Building wheel for gym (pyproject.toml) ... \u001b[?25l\u001b[?25hdone\n"
          ]
        }
      ]
    },
    {
      "cell_type": "code",
      "execution_count": 3,
      "metadata": {
        "ExecuteTime": {
          "end_time": "2019-09-18T14:49:15.992701Z",
          "start_time": "2019-09-18T14:49:08.275069Z"
        },
        "run_control": {
          "frozen": false,
          "read_only": false
        },
        "colab": {
          "base_uri": "https://localhost:8080/",
          "height": 455
        },
        "id": "ODN6UJrkG1SA",
        "outputId": "66518a32-8d05-4bf9-956c-da1d5091c412"
      },
      "outputs": [
        {
          "output_type": "stream",
          "name": "stderr",
          "text": [
            "\n"
          ]
        },
        {
          "output_type": "stream",
          "name": "stdout",
          "text": [
            "размерность вектора состояний dim = 4\n",
            "n_actions = 2\n"
          ]
        },
        {
          "output_type": "display_data",
          "data": {
            "text/plain": [
              "<Figure size 640x480 with 1 Axes>"
            ],
            "image/png": "[encoded data removed]"
          },
          "metadata": {}
        }
      ],
      "source": [
        "import gym\n",
        "import numpy as np\n",
        "import matplotlib.pyplot as plt\n",
        "%matplotlib inline\n",
        "import seaborn as sns\n",
        "sns.set(font_scale=1.)\n",
        "\n",
        "# если есть вывод \"<classname> has no attribute .env\", удалите .env или обновите gym\n",
        "env = gym.make(\"CartPole-v1\").env\n",
        "\n",
        "env.reset()\n",
        "n_actions = env.action_space.n\n",
        "state_dim = env.observation_space.shape[0]\n",
        "\n",
        "plt.imshow(env.render(\"rgb_array\"))\n",
        "print(\"размерность вектора состояний dim =\", state_dim)\n",
        "print(\"n_actions =\", n_actions)\n",
        "\n",
        "env.close()"
      ]
    },
    {
      "cell_type": "code",
      "execution_count": 4,
      "metadata": {
        "ExecuteTime": {
          "end_time": "2019-09-18T14:49:15.999558Z",
          "start_time": "2019-09-18T14:49:15.995465Z"
        },
        "run_control": {
          "frozen": false,
          "read_only": false
        },
        "id": "zaSOffNjG1SA",
        "colab": {
          "base_uri": "https://localhost:8080/"
        },
        "outputId": "6c8ffd7a-2657-49f4-a5f8-9dba27c86295"
      },
      "outputs": [
        {
          "output_type": "execute_result",
          "data": {
            "text/plain": [
              "(Box([-4.8000002e+00 -3.4028235e+38 -4.1887903e-01 -3.4028235e+38], [4.8000002e+00 3.4028235e+38 4.1887903e-01 3.4028235e+38], (4,), float32),\n",
              " Discrete(2))"
            ]
          },
          "metadata": {},
          "execution_count": 4
        }
      ],
      "source": [
        "env.observation_space, env.action_space"
      ]
    },
    {
      "cell_type": "markdown",
      "metadata": {
        "run_control": {
          "frozen": false,
          "read_only": false
        },
        "id": "Hq-Z_JgAG1SB"
      },
      "source": [
        "# Нейросетевая политика, основная задача (10 баллов)\n",
        "\n",
        "Для текущей задачи будет использована упрощённая нейронная сеть, реализованная в библиотеке __[Scikit-learn](https://scikit-learn.org/stable/modules/generated/sklearn.neural_network.MLPClassifier.html)__. Что для решения задачи понадобится:\n",
        "\n",
        "* `agent.partial_fit(states, actions)` - выполнение одного прохода (одной эпохи) по данным для настройки параметров. В ходе вызова данного метода происходит приближённая максимизация вероятности :actions: при условии :states:\n",
        "* `agent.predict_proba(states)` - оценка вероятностей всех действий, матрица формы __[len(states), n_actions]__\n"
      ]
    },
    {
      "cell_type": "code",
      "execution_count": 5,
      "metadata": {
        "ExecuteTime": {
          "end_time": "2019-09-18T14:49:18.770363Z",
          "start_time": "2019-09-18T14:49:16.001843Z"
        },
        "run_control": {
          "frozen": false,
          "read_only": false
        },
        "id": "eeuKnXP7G1SB",
        "colab": {
          "base_uri": "https://localhost:8080/",
          "height": 75
        },
        "outputId": "353a3e04-1061-4464-d46b-05219d30f2df"
      },
      "outputs": [
        {
          "output_type": "execute_result",
          "data": {
            "text/plain": [
              "MLPClassifier(activation='tanh', hidden_layer_sizes=(20, 20))"
            ],
            "text/html": [
              "<style>#sk-container-id-1 {color: black;background-color: white;}#sk-container-id-1 pre{padding: 0;}#sk-container-id-1 div.sk-toggleable {background-color: white;}#sk-container-id-1 label.sk-toggleable__label {cursor: pointer;display: block;width: 100%;margin-bottom: 0;padding: 0.3em;box-sizing: border-box;text-align: center;}#sk-container-id-1 label.sk-toggleable__label-arrow:before {content: \"▸\";float: left;margin-right: 0.25em;color: #696969;}#sk-container-id-1 label.sk-toggleable__label-arrow:hover:before {color: black;}#sk-container-id-1 div.sk-estimator:hover label.sk-toggleable__label-arrow:before {color: black;}#sk-container-id-1 div.sk-toggleable__content {max-height: 0;max-width: 0;overflow: hidden;text-align: left;background-color: #f0f8ff;}#sk-container-id-1 div.sk-toggleable__content pre {margin: 0.2em;color: black;border-radius: 0.25em;background-color: #f0f8ff;}#sk-container-id-1 input.sk-toggleable__control:checked~div.sk-toggleable__content {max-height: 200px;max-width: 100%;overflow: auto;}#sk-container-id-1 input.sk-toggleable__control:checked~label.sk-toggleable__label-arrow:before {content: \"▾\";}#sk-container-id-1 div.sk-estimator input.sk-toggleable__control:checked~label.sk-toggleable__label {background-color: #d4ebff;}#sk-container-id-1 div.sk-label input.sk-toggleable__control:checked~label.sk-toggleable__label {background-color: #d4ebff;}#sk-container-id-1 input.sk-hidden--visually {border: 0;clip: rect(1px 1px 1px 1px);clip: rect(1px, 1px, 1px, 1px);height: 1px;margin: -1px;overflow: hidden;padding: 0;position: absolute;width: 1px;}#sk-container-id-1 div.sk-estimator {font-family: monospace;background-color: #f0f8ff;border: 1px dotted black;border-radius: 0.25em;box-sizing: border-box;margin-bottom: 0.5em;}#sk-container-id-1 div.sk-estimator:hover {background-color: #d4ebff;}#sk-container-id-1 div.sk-parallel-item::after {content: \"\";width: 100%;border-bottom: 1px solid gray;flex-grow: 1;}#sk-container-id-1 div.sk-label:hover label.sk-toggleable__label {background-color: #d4ebff;}#sk-container-id-1 div.sk-serial::before {content: \"\";position: absolute;border-left: 1px solid gray;box-sizing: border-box;top: 0;bottom: 0;left: 50%;z-index: 0;}#sk-container-id-1 div.sk-serial {display: flex;flex-direction: column;align-items: center;background-color: white;padding-right: 0.2em;padding-left: 0.2em;position: relative;}#sk-container-id-1 div.sk-item {position: relative;z-index: 1;}#sk-container-id-1 div.sk-parallel {display: flex;align-items: stretch;justify-content: center;background-color: white;position: relative;}#sk-container-id-1 div.sk-item::before, #sk-container-id-1 div.sk-parallel-item::before {content: \"\";position: absolute;border-left: 1px solid gray;box-sizing: border-box;top: 0;bottom: 0;left: 50%;z-index: -1;}#sk-container-id-1 div.sk-parallel-item {display: flex;flex-direction: column;z-index: 1;position: relative;background-color: white;}#sk-container-id-1 div.sk-parallel-item:first-child::after {align-self: flex-end;width: 50%;}#sk-container-id-1 div.sk-parallel-item:last-child::after {align-self: flex-start;width: 50%;}#sk-container-id-1 div.sk-parallel-item:only-child::after {width: 0;}#sk-container-id-1 div.sk-dashed-wrapped {border: 1px dashed gray;margin: 0 0.4em 0.5em 0.4em;box-sizing: border-box;padding-bottom: 0.4em;background-color: white;}#sk-container-id-1 div.sk-label label {font-family: monospace;font-weight: bold;display: inline-block;line-height: 1.2em;}#sk-container-id-1 div.sk-label-container {text-align: center;}#sk-container-id-1 div.sk-container {/* jupyter's `normalize.less` sets `[hidden] { display: none; }` but bootstrap.min.css set `[hidden] { display: none !important; }` so we also need the `!important` here to be able to override the default hidden behavior on the sphinx rendered scikit-learn.org. See: https://github.com/scikit-learn/scikit-learn/issues/21755 */display: inline-block !important;position: relative;}#sk-container-id-1 div.sk-text-repr-fallback {display: none;}</style><div id=\"sk-container-id-1\" class=\"sk-top-container\"><div class=\"sk-text-repr-fallback\"><pre>MLPClassifier(activation=&#x27;tanh&#x27;, hidden_layer_sizes=(20, 20))</pre><b>In a Jupyter environment, please rerun this cell to show the HTML representation or trust the notebook. <br />On GitHub, the HTML representation is unable to render, please try loading this page with nbviewer.org.</b></div><div class=\"sk-container\" hidden><div class=\"sk-item\"><div class=\"sk-estimator sk-toggleable\"><input class=\"sk-toggleable__control sk-hidden--visually\" id=\"sk-estimator-id-1\" type=\"checkbox\" checked><label for=\"sk-estimator-id-1\" class=\"sk-toggleable__label sk-toggleable__label-arrow\">MLPClassifier</label><div class=\"sk-toggleable__content\"><pre>MLPClassifier(activation=&#x27;tanh&#x27;, hidden_layer_sizes=(20, 20))</pre></div></div></div></div></div>"
            ]
          },
          "metadata": {},
          "execution_count": 5
        }
      ],
      "source": [
        "from sklearn.neural_network import MLPClassifier, MLPRegressor\n",
        "\n",
        "agent = MLPClassifier(\n",
        "    hidden_layer_sizes=(20, 20),\n",
        "    activation='tanh',\n",
        ")\n",
        "\n",
        "# инициализация агента на размерности пространства состояний и пространства действий\n",
        "agent.partial_fit([env.reset()] * n_actions, range(n_actions), range(n_actions))"
      ]
    },
    {
      "cell_type": "code",
      "source": [
        "#s = env.reset()\n",
        "#probs = agent.predict_proba([s]).reshape(n_actions)\n",
        "#a = np.argmax(probs)\n",
        "#probs, a"
      ],
      "metadata": {
        "id": "pZ635QxjrwSI"
      },
      "execution_count": 7,
      "outputs": []
    },
    {
      "cell_type": "code",
      "execution_count": 6,
      "metadata": {
        "ExecuteTime": {
          "end_time": "2019-09-18T14:49:18.800907Z",
          "start_time": "2019-09-18T14:49:18.772874Z"
        },
        "run_control": {
          "frozen": false,
          "read_only": false
        },
        "id": "zb79yi3fG1SB"
      },
      "outputs": [],
      "source": [
        "def generate_session(agent, t_max=1000, test=False):\n",
        "    \"\"\"\n",
        "    Сыграть отдельный эпизод, используя нейросетевую параметризацию агента.\n",
        "    Останов после :t_max: шагов среды.\n",
        "    \"\"\"\n",
        "    states, actions = [], []\n",
        "    total_reward = 0\n",
        "\n",
        "    s = env.reset()\n",
        "\n",
        "    for t in range(t_max):\n",
        "        \n",
        "        # Используйте модель агента для оценки распределения на действия для текущего состояния :s:\n",
        "        probs = agent.predict_proba([s]).reshape(n_actions)\n",
        "\n",
        "        assert probs.shape == (n_actions,), \"Нужно получить вектор вероятностей (функция np.reshape в помощь)\"\n",
        "        \n",
        "        # Используйте текущую оценку политики для выбора действия\n",
        "        if test:\n",
        "            # на тестовом прогоне или на валидации используйте\n",
        "            # детерминированную стратегию\n",
        "            a = np.argmax(probs)\n",
        "            # ^-- подсказка: попробуйте функцию np.argmax\n",
        "        else:\n",
        "            # сэмплирование пропорционально политике $\\pi(a|s)$,\n",
        "            # не нужно выбирать детерминированно наиболее вероятное действие\n",
        "            a = np.random.choice(n_actions, p=probs)\n",
        "            # ^-- подсказка: попробуйте функцию np.random.choice\n",
        "\n",
        "        new_s, r, done, info = env.step(a)\n",
        "\n",
        "        # Запись статистики текущего эпизода\n",
        "        states.append(s)\n",
        "        actions.append(a)\n",
        "        total_reward += r\n",
        "\n",
        "        s = new_s\n",
        "        if done:\n",
        "            break\n",
        "    return states, actions, total_reward"
      ]
    },
    {
      "cell_type": "code",
      "execution_count": 7,
      "metadata": {
        "ExecuteTime": {
          "end_time": "2019-09-18T14:49:18.825783Z",
          "start_time": "2019-09-18T14:49:18.804175Z"
        },
        "run_control": {
          "frozen": false,
          "read_only": false
        },
        "id": "idQfnGUBG1SD",
        "colab": {
          "base_uri": "https://localhost:8080/"
        },
        "outputId": "9fabfe53-02a3-4625-ba6b-3d55a90c0547"
      },
      "outputs": [
        {
          "output_type": "stream",
          "name": "stdout",
          "text": [
            "states: [[-0.02158029  0.01688218 -0.02653488 -0.03064287]\n",
            " [-0.02124264 -0.1778494  -0.02714774  0.25355133]\n",
            " [-0.02479963  0.01764946 -0.02207671 -0.04756935]\n",
            " [-0.02444664  0.21308091 -0.0230281  -0.34713513]\n",
            " [-0.02018503  0.40852273 -0.0299708  -0.64698976]]\n",
            "actions: [0, 1, 1, 1, 0]\n",
            "reward: 5.0\n"
          ]
        }
      ],
      "source": [
        "dummy_states, dummy_actions, dummy_reward = generate_session(agent, t_max=5)\n",
        "print(\"states:\", np.stack(dummy_states))\n",
        "print(\"actions:\", dummy_actions)\n",
        "print(\"reward:\", dummy_reward)"
      ]
    },
    {
      "cell_type": "markdown",
      "metadata": {
        "run_control": {
          "frozen": false,
          "read_only": false
        },
        "id": "sehjM-PCG1SD"
      },
      "source": [
        "### Шаги кросс-энтропийного метода\n",
        "Общая схема кросс-энтропийного метода (CEM) приведена на странице 35 (параграф 2.2.4.) учебного [пособия](https://arxiv.org/pdf/2201.09746.pdf).\n",
        "\n",
        "Глубокий CEM использует точно такую же стратегию, что и обычный CEM.\n",
        "\n",
        "Главное отличие состоит в том, что теперь каждое наблюдение не число, а `float32` вектор."
      ]
    },
    {
      "cell_type": "code",
      "execution_count": 8,
      "metadata": {
        "ExecuteTime": {
          "end_time": "2019-09-18T14:49:18.845899Z",
          "start_time": "2019-09-18T14:49:18.827600Z"
        },
        "run_control": {
          "frozen": false,
          "read_only": false
        },
        "id": "9zRlp7RAG1SE"
      },
      "outputs": [],
      "source": [
        "def select_elites(states_batch, actions_batch, rewards_batch, percentile=50):\n",
        "    \"\"\"\n",
        "    Выбрать states и actions из игр с rewards >= percentile\n",
        "    :param states_batch: list of lists of states, states_batch[session_i][t]\n",
        "    :param actions_batch: list of lists of actions, actions_batch[session_i][t]\n",
        "    :param rewards_batch: list of rewards, rewards_batch[session_i]\n",
        "\n",
        "    :returns: elite_states,elite_actions, оба 1D lists of states и actions из наилучших эпизодов\n",
        "\n",
        "    Просьба сохранять порядок elite states и actions \n",
        "    [то есть сортированы по номерам эпизодов и в хронологическом порядке в каждом эпизоде]\n",
        "\n",
        "    Просьба не считать по умолчанию states как целочисленные значения\n",
        "    (они позже примут другой формат).\n",
        "    \"\"\"\n",
        "\n",
        "    reward_threshold = np.percentile(rewards_batch, q = percentile)\n",
        "    \n",
        "    elite_states = []\n",
        "    elite_actions = []\n",
        "\n",
        "    for s, a, r in zip(states_batch, actions_batch, rewards_batch):\n",
        "      if r >= reward_threshold:\n",
        "        elite_states.extend(s)\n",
        "        elite_actions.extend(a)\n",
        "        \n",
        "    # Заметим, что это отличается от табличного случая.\n",
        "    # Теперь наша нейронная сеть обучается на одном объекте с входной размерностью `(1, n_states)`.\n",
        "    # То есть следует использовать `np.squeeze`, чтобы избавиться от ведущего измерения в `select_elites`.\n",
        "    \n",
        "    return elite_states, elite_actions"
      ]
    },
    {
      "cell_type": "markdown",
      "metadata": {
        "run_control": {
          "frozen": false,
          "read_only": false
        },
        "id": "yWLyfEGWG1SE"
      },
      "source": [
        "# Цикл обучения\n",
        "Генерация эпизодов, выбор N лучших и обучение на них."
      ]
    },
    {
      "cell_type": "code",
      "execution_count": 9,
      "metadata": {
        "ExecuteTime": {
          "end_time": "2019-09-18T14:49:18.868655Z",
          "start_time": "2019-09-18T14:49:18.848299Z"
        },
        "run_control": {
          "frozen": false,
          "read_only": false
        },
        "id": "2b7ns3z2G1SE"
      },
      "outputs": [],
      "source": [
        "from IPython.display import clear_output\n",
        "\n",
        "def show_progress(rewards_batch, log, percentile, reward_range=[-990, +10]):\n",
        "    \"\"\"\n",
        "    Функция-помощник, которая визуализирует процесс обучения.\n",
        "    Никакой крутой математики здесь нет, только построение графиков.\n",
        "    \"\"\"\n",
        "\n",
        "    mean_reward = np.mean(rewards_batch)\n",
        "    threshold = np.percentile(rewards_batch, percentile)\n",
        "    log.append([mean_reward, threshold])\n",
        "\n",
        "    print(\"средняя награда = %.3f, порог=%.3f\" % (mean_reward, threshold))\n",
        "    plt.figure(figsize=[8, 4])\n",
        "    plt.subplot(1, 2, 1)\n",
        "    plt.plot(list(zip(*log))[0], label='Средние награды')\n",
        "    plt.plot(list(zip(*log))[1], label='Пороги наград')\n",
        "    plt.legend()\n",
        "    plt.grid()\n",
        "\n",
        "    plt.subplot(1, 2, 2)\n",
        "    plt.hist(rewards_batch, range=reward_range)\n",
        "    plt.vlines([np.percentile(rewards_batch, percentile)],\n",
        "               [0], [100], label=\"перцентиль\", color='red')\n",
        "    plt.legend()\n",
        "    plt.grid()\n",
        "\n",
        "    clear_output(True)\n",
        "    plt.show()"
      ]
    },
    {
      "cell_type": "code",
      "execution_count": 10,
      "metadata": {
        "ExecuteTime": {
          "end_time": "2019-09-18T15:04:30.103876Z",
          "start_time": "2019-09-18T14:49:18.873681Z"
        },
        "run_control": {
          "frozen": false,
          "read_only": false
        },
        "id": "pQOA0jgOG1SF",
        "colab": {
          "base_uri": "https://localhost:8080/",
          "height": 852
        },
        "outputId": "515b887f-3634-4291-ce99-c5548d05748e"
      },
      "outputs": [
        {
          "output_type": "display_data",
          "data": {
            "text/plain": [
              "<Figure size 800x400 with 2 Axes>"
            ],
            "image/png": "[encoded data removed]"
          },
          "metadata": {}
        },
        {
          "output_type": "stream",
          "name": "stdout",
          "text": [
            "Вы выиграли! Можете прервать процедуру обучения с помощью сигнала KeyboardInterrupt.\n",
            "Итерация метода № 37:\n"
          ]
        },
        {
          "output_type": "error",
          "ename": "KeyboardInterrupt",
          "evalue": "ignored",
          "traceback": [
            "\u001b[0;31m---------------------------------------------------------------------------\u001b[0m",
            "\u001b[0;31mKeyboardInterrupt\u001b[0m                         Traceback (most recent call last)",
            "\u001b[0;32m<timed exec>\u001b[0m in \u001b[0;36m<module>\u001b[0;34m\u001b[0m\n",
            "\u001b[0;32m<timed exec>\u001b[0m in \u001b[0;36m<listcomp>\u001b[0;34m(.0)\u001b[0m\n",
            "\u001b[0;32m<ipython-input-6-388ef6e04d78>\u001b[0m in \u001b[0;36mgenerate_session\u001b[0;34m(agent, t_max, test)\u001b[0m\n\u001b[1;32m     28\u001b[0m             \u001b[0;31m# ^-- подсказка: попробуйте функцию np.random.choice\u001b[0m\u001b[0;34m\u001b[0m\u001b[0;34m\u001b[0m\u001b[0m\n\u001b[1;32m     29\u001b[0m \u001b[0;34m\u001b[0m\u001b[0m\n\u001b[0;32m---> 30\u001b[0;31m         \u001b[0mnew_s\u001b[0m\u001b[0;34m,\u001b[0m \u001b[0mr\u001b[0m\u001b[0;34m,\u001b[0m \u001b[0mdone\u001b[0m\u001b[0;34m,\u001b[0m \u001b[0minfo\u001b[0m \u001b[0;34m=\u001b[0m \u001b[0menv\u001b[0m\u001b[0;34m.\u001b[0m\u001b[0mstep\u001b[0m\u001b[0;34m(\u001b[0m\u001b[0ma\u001b[0m\u001b[0;34m)\u001b[0m\u001b[0;34m\u001b[0m\u001b[0;34m\u001b[0m\u001b[0m\n\u001b[0m\u001b[1;32m     31\u001b[0m \u001b[0;34m\u001b[0m\u001b[0m\n\u001b[1;32m     32\u001b[0m         \u001b[0;31m# Запись статистики текущего эпизода\u001b[0m\u001b[0;34m\u001b[0m\u001b[0;34m\u001b[0m\u001b[0m\n",
            "\u001b[0;32m/usr/local/lib/python3.9/dist-packages/gym/wrappers/order_enforcing.py\u001b[0m in \u001b[0;36mstep\u001b[0;34m(self, action)\u001b[0m\n\u001b[1;32m     11\u001b[0m     \u001b[0;32mdef\u001b[0m \u001b[0mstep\u001b[0m\u001b[0;34m(\u001b[0m\u001b[0mself\u001b[0m\u001b[0;34m,\u001b[0m \u001b[0maction\u001b[0m\u001b[0;34m)\u001b[0m\u001b[0;34m:\u001b[0m\u001b[0;34m\u001b[0m\u001b[0;34m\u001b[0m\u001b[0m\n\u001b[1;32m     12\u001b[0m         \u001b[0;32massert\u001b[0m \u001b[0mself\u001b[0m\u001b[0;34m.\u001b[0m\u001b[0m_has_reset\u001b[0m\u001b[0;34m,\u001b[0m \u001b[0;34m\"Cannot call env.step() before calling reset()\"\u001b[0m\u001b[0;34m\u001b[0m\u001b[0;34m\u001b[0m\u001b[0m\n\u001b[0;32m---> 13\u001b[0;31m         \u001b[0mobservation\u001b[0m\u001b[0;34m,\u001b[0m \u001b[0mreward\u001b[0m\u001b[0;34m,\u001b[0m \u001b[0mdone\u001b[0m\u001b[0;34m,\u001b[0m \u001b[0minfo\u001b[0m \u001b[0;34m=\u001b[0m \u001b[0mself\u001b[0m\u001b[0;34m.\u001b[0m\u001b[0menv\u001b[0m\u001b[0;34m.\u001b[0m\u001b[0mstep\u001b[0m\u001b[0;34m(\u001b[0m\u001b[0maction\u001b[0m\u001b[0;34m)\u001b[0m\u001b[0;34m\u001b[0m\u001b[0;34m\u001b[0m\u001b[0m\n\u001b[0m\u001b[1;32m     14\u001b[0m         \u001b[0;32mreturn\u001b[0m \u001b[0mobservation\u001b[0m\u001b[0;34m,\u001b[0m \u001b[0mreward\u001b[0m\u001b[0;34m,\u001b[0m \u001b[0mdone\u001b[0m\u001b[0;34m,\u001b[0m \u001b[0minfo\u001b[0m\u001b[0;34m\u001b[0m\u001b[0;34m\u001b[0m\u001b[0m\n\u001b[1;32m     15\u001b[0m \u001b[0;34m\u001b[0m\u001b[0m\n",
            "\u001b[0;32m/usr/local/lib/python3.9/dist-packages/gym/envs/classic_control/cartpole.py\u001b[0m in \u001b[0;36mstep\u001b[0;34m(self, action)\u001b[0m\n\u001b[1;32m    118\u001b[0m         \u001b[0mforce\u001b[0m \u001b[0;34m=\u001b[0m \u001b[0mself\u001b[0m\u001b[0;34m.\u001b[0m\u001b[0mforce_mag\u001b[0m \u001b[0;32mif\u001b[0m \u001b[0maction\u001b[0m \u001b[0;34m==\u001b[0m \u001b[0;36m1\u001b[0m \u001b[0;32melse\u001b[0m \u001b[0;34m-\u001b[0m\u001b[0mself\u001b[0m\u001b[0;34m.\u001b[0m\u001b[0mforce_mag\u001b[0m\u001b[0;34m\u001b[0m\u001b[0;34m\u001b[0m\u001b[0m\n\u001b[1;32m    119\u001b[0m         \u001b[0mcostheta\u001b[0m \u001b[0;34m=\u001b[0m \u001b[0mmath\u001b[0m\u001b[0;34m.\u001b[0m\u001b[0mcos\u001b[0m\u001b[0;34m(\u001b[0m\u001b[0mtheta\u001b[0m\u001b[0;34m)\u001b[0m\u001b[0;34m\u001b[0m\u001b[0;34m\u001b[0m\u001b[0m\n\u001b[0;32m--> 120\u001b[0;31m         \u001b[0msintheta\u001b[0m \u001b[0;34m=\u001b[0m \u001b[0mmath\u001b[0m\u001b[0;34m.\u001b[0m\u001b[0msin\u001b[0m\u001b[0;34m(\u001b[0m\u001b[0mtheta\u001b[0m\u001b[0;34m)\u001b[0m\u001b[0;34m\u001b[0m\u001b[0;34m\u001b[0m\u001b[0m\n\u001b[0m\u001b[1;32m    121\u001b[0m \u001b[0;34m\u001b[0m\u001b[0m\n\u001b[1;32m    122\u001b[0m         \u001b[0;31m# For the interested reader:\u001b[0m\u001b[0;34m\u001b[0m\u001b[0;34m\u001b[0m\u001b[0m\n",
            "\u001b[0;31mKeyboardInterrupt\u001b[0m: "
          ]
        }
      ],
      "source": [
        "%%time\n",
        "\n",
        "sns.set(font_scale=1.)\n",
        "n_sessions = 100\n",
        "percentile = 70\n",
        "log = []\n",
        "\n",
        "for i in range(100):\n",
        "    print(\"Итерация метода № {}:\".format(i + 1))\n",
        "    # генерация новых эпизодов\n",
        "    sessions = [generate_session(agent, t_max=1000, test=False) for n in range(n_sessions)]\n",
        "\n",
        "    states_batch, actions_batch, rewards_batch = map(np.array, zip(*sessions))\n",
        "\n",
        "    elite_states, elite_actions =  select_elites(states_batch, actions_batch, rewards_batch, percentile)\n",
        "\n",
        "    agent.partial_fit(elite_states, elite_actions, range(n_actions))\n",
        "    \n",
        "\n",
        "    show_progress(rewards_batch, log, percentile, reward_range=[0, np.max(rewards_batch)])\n",
        "\n",
        "    if np.mean(rewards_batch) > 190:\n",
        "        print(\"Вы выиграли! Можете прервать процедуру обучения с помощью сигнала KeyboardInterrupt.\")"
      ]
    },
    {
      "cell_type": "markdown",
      "metadata": {
        "run_control": {
          "frozen": false,
          "read_only": false
        },
        "id": "kSPAkoNQG1SF"
      },
      "source": [
        "# Результаты"
      ]
    },
    {
      "cell_type": "code",
      "source": [
        "gym.__version__"
      ],
      "metadata": {
        "colab": {
          "base_uri": "https://localhost:8080/",
          "height": 35
        },
        "id": "Up_YOH2hNOb0",
        "outputId": "058a9581-a748-4f1f-b0b1-f8f22715fdc4"
      },
      "execution_count": 11,
      "outputs": [
        {
          "output_type": "execute_result",
          "data": {
            "text/plain": [
              "'0.22.0'"
            ],
            "application/vnd.google.colaboratory.intrinsic+json": {
              "type": "string"
            }
          },
          "metadata": {},
          "execution_count": 11
        }
      ]
    },
    {
      "cell_type": "code",
      "execution_count": 12,
      "metadata": {
        "ExecuteTime": {
          "end_time": "2019-09-18T15:04:43.484212Z",
          "start_time": "2019-09-18T15:04:30.106224Z"
        },
        "run_control": {
          "frozen": false,
          "read_only": false
        },
        "id": "YbLapm5_G1SF"
      },
      "outputs": [],
      "source": [
        "# запись эпизодов\n",
        "\n",
        "import gym.wrappers\n",
        "\n",
        "for kind, directory in [(True, \"test\"), (False, \"sample\")]:\n",
        "    env = gym.wrappers.Monitor(gym.make(\"CartPole-v1\"),\n",
        "                               directory=\"videos/CartPole-v1/{}\".format(directory), force=True)\n",
        "    sessions = [generate_session(agent, t_max=1000, test=kind) for _ in range(100)]\n",
        "    env.close()"
      ]
    },
    {
      "cell_type": "markdown",
      "metadata": {
        "id": "dwiXS5DvG1SG"
      },
      "source": [
        "Детерминированная политика:"
      ]
    },
    {
      "cell_type": "code",
      "execution_count": null,
      "metadata": {
        "ExecuteTime": {
          "end_time": "2019-09-18T15:04:43.508057Z",
          "start_time": "2019-09-18T15:04:43.498495Z"
        },
        "run_control": {
          "frozen": false,
          "read_only": false
        },
        "id": "LIJEkbQ-G1SG"
      },
      "outputs": [],
      "source": [
        "# # демонстрация видео\n",
        "# from IPython.display import HTML\n",
        "# import os\n",
        "\n",
        "# video_names = list(\n",
        "#     filter(lambda s: s.endswith(\".mp4\"), os.listdir(\"./videos/CartPole-v1/test\")))\n",
        "\n",
        "# HTML(\"\"\"\n",
        "# <video width=\"640\" height=\"480\" controls>\n",
        "#   <source src=\"{}\" type=\"video/mp4\">\n",
        "# </video>\n",
        "# \"\"\".format(\"./videos/CartPole-v1/test/\"+video_names[-1]))"
      ]
    },
    {
      "cell_type": "code",
      "source": [
        "from IPython.display import HTML\n",
        "from base64 import b64encode\n",
        "import os\n",
        "\n",
        "video_names = list(\n",
        "    filter(lambda s: s.endswith(\".mp4\"), os.listdir(\"./videos/CartPole-v1/test\")))\n",
        "\n",
        "mp4 = open(\"./videos/CartPole-v1/test/\"+video_names[-1], \"rb\").read()\n",
        "data_url = \"data:video/mp4;base64,\" + b64encode(mp4).decode()\n",
        "\n",
        "HTML(\"\"\"\n",
        "<video width=\"640\" height=\"480\" controls>\n",
        "  <source src=\"{}\" type=\"video/mp4\">\n",
        "</video>\n",
        "\"\"\".format(data_url))"
      ],
      "metadata": {
        "colab": {
          "base_uri": "https://localhost:8080/",
          "height": 501
        },
        "id": "9339zekGJCUO",
        "outputId": "06eb806c-a4af-4999-c24e-95336d50bb64"
      },
      "execution_count": 13,
      "outputs": [
        {
          "output_type": "execute_result",
          "data": {
            "text/plain": [
              "<IPython.core.display.HTML object>"
            ],
            "text/html": [
              "\n",
              "<video width=\"640\" height=\"480\" controls>\n",
              "  <source src=\"data:video/mp4;base64,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\" type=\"video/mp4\">\n",
              "</video>\n"
            ]
          },
          "metadata": {},
          "execution_count": 13
        }
      ]
    },
    {
      "cell_type": "markdown",
      "metadata": {
        "id": "Y5giwLTSG1SG"
      },
      "source": [
        "Стохастическая политика:"
      ]
    },
    {
      "cell_type": "code",
      "execution_count": null,
      "metadata": {
        "id": "g1sXOwarG1SG"
      },
      "outputs": [],
      "source": [
        "# video_names = list(\n",
        "#     filter(lambda s: s.endswith(\".mp4\"), os.listdir(\"./videos/CartPole-v1/sample\")))\n",
        "\n",
        "# HTML(\"\"\"\n",
        "# <video width=\"640\" height=\"480\" controls>\n",
        "#   <source src=\"{}\" type=\"video/mp4\">\n",
        "# </video>\n",
        "# \"\"\".format(\"./videos/CartPole-v1/sample/\"+video_names[-1]))"
      ]
    },
    {
      "cell_type": "code",
      "source": [
        "from IPython.display import HTML\n",
        "from base64 import b64encode\n",
        "import os\n",
        "\n",
        "video_names = list(\n",
        "    filter(lambda s: s.endswith(\".mp4\"), os.listdir(\"./videos/CartPole-v1/sample\")))\n",
        "\n",
        "mp4 = open(\"./videos/CartPole-v1/sample/\"+video_names[-1], \"rb\").read()\n",
        "data_url = \"data:video/mp4;base64,\" + b64encode(mp4).decode()\n",
        "\n",
        "HTML(\"\"\"\n",
        "<video width=\"640\" height=\"480\" controls>\n",
        "  <source src=\"{}\" type=\"video/mp4\">\n",
        "</video>\n",
        "\"\"\".format(data_url))"
      ],
      "metadata": {
        "colab": {
          "base_uri": "https://localhost:8080/",
          "height": 501
        },
        "id": "z_PaZtKjWS3U",
        "outputId": "5d3b46ff-3b0e-4c7a-a170-31f23503e0c8"
      },
      "execution_count": 15,
      "outputs": [
        {
          "output_type": "execute_result",
          "data": {
            "text/plain": [
              "<IPython.core.display.HTML object>"
            ],
            "text/html": [
              "\n",
              "<video width=\"640\" height=\"480\" controls>\n",
              "  <source src=\"data:video/mp4;base64,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\" type=\"video/mp4\">\n",
              "</video>\n"
            ]
          },
          "metadata": {},
          "execution_count": 15
        }
      ]
    },
    {
      "cell_type": "markdown",
      "metadata": {
        "run_control": {
          "frozen": false,
          "read_only": false
        },
        "id": "bB2NgeixG1SG"
      },
      "source": [
        "# Дополнительные задания\n",
        "\n",
        "#### дедлайн дополнительного задания: за две недели до официальной даты экзамена, 23:59 GMT+3\n",
        "\n",
        "### Глубокий кросс-энтропийный метод\n",
        "\n",
        "На данный момент у Вас должна быть достаточно хорошая награда в [CartPole-v1](https://www.gymlibrary.dev/environments/classic_control/cart_pole/), чтобы считать основное задание выполненным (см. ссылку). Время попробовать что-нибудь посложнее.\n",
        "\n",
        "### Задания (вплоть до 10 баллов)\n",
        "\n",
        "* __2.1__ Выбрать одну из сред: MountainCar-v0 или LunarLander-v2.\n",
        "  * Для MountainCar, получить среднее вознаграждение __как минимум -150__\n",
        "  * For LunarLander, получить среднее вознаграждение __как минимум +50__\n",
        "\n",
        "Рекомендуем обратить внимание на раздел с советами ниже, это важно.\n",
        "\n",
        "* __2.2__ Разработать способ ускорения обучения хотя бы в два раза по сравнению с версией по умолчанию\n",
        "  * Очевидное улучшение: использовать [joblib](https://www.google.com/search?client=ubuntu&channel=fs&q=joblib&ie=utf-8&oe=utf-8) или multiprocessing\n",
        "  * Попробовать переиспользовать сэмплы из 3-5 последних итераций при вычислении порога и при обучении\n",
        "  * Поэкспериментировать с количеством итераций обучения и шагом метода обучения (learning rate) нейронной сети (смотеть params)\n",
        "  \n",
        "  \n",
        "### Советы\n",
        "* Страница Gym: [MountainCar](https://www.gymlibrary.dev/environments/classic_control/mountain_car/), [LunarLander](https://www.gymlibrary.dev/environments/box2d/lunar_lander/)\n",
        "* Эпизоды в MountainCar могут длиться более 10k+ шагов. Убедитесь, что параметр ```t_max``` не меньше 10k.\n",
        " * Также может быть хорошей идеей строго отбирать награды через \">\", а не \">=\" (strictly_select_elites). Если 90% Ваших эпизодов имеют награду -10k и 20% лучше, тода если Вы используйте перцентиль 20% как порог, R >= порог __не может отклонить неуспешные эпизоды__, в то время как R > справляется с этим корректно.\n",
        "* _проблема сред gym_: некоторые версии gym ограничивают эпизод 200 шагами. Это ограничивает возможности CEM в обучении в большинстве случаев. Убедитесь, что Ваш агент способен симулировать эпизоды с заданным __t_max__, и если нет, то попробуйте `env = gym.make(\"MountainCar-v0\").env` или в ином случае избавьтесь от TimeLimit wrapper.\n",
        "* Если Вы пользуетесь старой _swig_ библиотекой для LunarLander-v2, у Вас может возникнуть ошибка. Детали по [ссылке](https://github.com/openai/gym/issues/100) с решением проблемы.\n",
        "* Если CEM не будет обучаться, то построение диаграмм распределения награды и запись видео эпизодов могут помочь: они Вас могут натолкнуть на идею исправления.\n",
        "* 20-нейронной сети может не хватить, не стесняйтесь экспериментировать.\n",
        "\n",
        "Ячейка с кодом ниже может оказаться полезной:"
      ]
    },
    {
      "cell_type": "code",
      "execution_count": null,
      "metadata": {
        "id": "s5xtjraxG1SH"
      },
      "outputs": [],
      "source": [
        "def visualize_mountain_car(env, agent):\n",
        "    xs = np.linspace(env.min_position, env.max_position, 100)\n",
        "    vs = np.linspace(-env.max_speed, env.max_speed, 100)\n",
        "    grid = np.dstack(np.meshgrid(xs, vs)).transpose(1, 0, 2)\n",
        "    grid_flat = grid.reshape(len(xs) * len(vs), 2)\n",
        "    probs = agent.predict_proba(grid_flat).reshape(len(xs), len(vs), 3)\n",
        "    return probs"
      ]
    },
    {
      "cell_type": "markdown",
      "metadata": {
        "id": "wTWRY1DVG1SH"
      },
      "source": [
        "Функции-помощники для инициализации среды:"
      ]
    },
    {
      "cell_type": "code",
      "execution_count": null,
      "metadata": {
        "ExecuteTime": {
          "end_time": "2019-09-18T12:21:17.631855Z",
          "start_time": "2019-09-18T12:21:17.626438Z"
        },
        "run_control": {
          "frozen": false,
          "read_only": false
        },
        "id": "zRSxiECeG1SH"
      },
      "outputs": [],
      "source": [
        "def get_env(name, classification=True):\n",
        "    env = gym.make(name).env\n",
        "    \n",
        "    env.reset()\n",
        "    if classification:\n",
        "        n_actions = env.action_space.n\n",
        "    else:\n",
        "        n_actions = sum(env.action_space.shape)\n",
        "    state_dim = env.observation_space.shape[0]\n",
        "    \n",
        "    plt.imshow(env.render(\"rgb_array\"))\n",
        "    print(\"state vector dim =\", state_dim)\n",
        "    print(\"n_actions =\", n_actions)\n",
        "    \n",
        "    env.close()\n",
        "    return env, n_actions, state_dim"
      ]
    },
    {
      "cell_type": "markdown",
      "metadata": {
        "id": "q-wkaZEHG1SH"
      },
      "source": [
        "Строгий отбор states и actions на основе перцентилей:"
      ]
    },
    {
      "cell_type": "code",
      "execution_count": null,
      "metadata": {
        "ExecuteTime": {
          "end_time": "2019-09-18T11:27:01.282729Z",
          "start_time": "2019-09-18T11:27:01.270077Z"
        },
        "run_control": {
          "frozen": false,
          "read_only": false
        },
        "id": "VVVjtGL9G1SI"
      },
      "outputs": [],
      "source": [
        "def strictly_select_elites(states_batch, actions_batch, rewards_batch, percentile=50, classification=True):\n",
        "    \"\"\"\n",
        "    Выбрать states и actions из игр с rewards >= percentile\n",
        "    :param states_batch: list of lists of states, states_batch[session_i][t]\n",
        "    :param actions_batch: list of lists of actions, actions_batch[session_i][t]\n",
        "    :param rewards_batch: list of rewards, rewards_batch[session_i]\n",
        "\n",
        "    :returns: elite_states,elite_actions, оба 1D lists of states и actions из наилучших эпизодов\n",
        "\n",
        "    Просьба сохранять порядок elite states и actions \n",
        "    [то есть сортированы по номерам эпизодов и в хронологическом порядке в каждом эпизоде]\n",
        "\n",
        "    Просьба не считать по умолчанию states как целочисленные значения\n",
        "    (они позже примут другой формат).\n",
        "    Отбор в случае решения задачи классификации и в случае решения задачи регрессии несколько отличаются.\n",
        "    \"\"\"\n",
        "\n",
        "    < Ваша имплементация >\n",
        "    \n",
        "    return elite_states, elite_actions"
      ]
    },
    {
      "cell_type": "markdown",
      "metadata": {
        "id": "iRG7lKlKG1SI"
      },
      "source": [
        "Обёртка для инициализации агента:"
      ]
    },
    {
      "cell_type": "code",
      "execution_count": null,
      "metadata": {
        "ExecuteTime": {
          "end_time": "2019-09-18T15:07:35.917489Z",
          "start_time": "2019-09-18T15:07:35.909155Z"
        },
        "run_control": {
          "frozen": false,
          "read_only": false
        },
        "id": "YlPyWSkGG1SI"
      },
      "outputs": [],
      "source": [
        "from sklearn.neural_network import MLPRegressor\n",
        "\n",
        "\n",
        "def init_agent(env, classification=True, **params):\n",
        "    if classification:\n",
        "        agent = MLPClassifier(\n",
        "            hidden_layer_sizes=(20, 20, 20, 20),\n",
        "            activation='tanh',\n",
        "        )\n",
        "    else:\n",
        "        agent = MLPRegressor(\n",
        "            hidden_layer_sizes=(20, 20, 20, 20),\n",
        "            activation='tanh',\n",
        "        )\n",
        "    \n",
        "    agent.set_params(**params)\n",
        "    \n",
        "    if classification:\n",
        "        n_actions = env.action_space.n\n",
        "        agent.partial_fit([env.reset()] * n_actions, range(n_actions), range(n_actions))\n",
        "    else:\n",
        "        n_actions = sum(env.action_space.shape)\n",
        "        if n_actions > 1:\n",
        "            agent.partial_fit([env.reset()], np.random.randn(1, n_actions))\n",
        "        else:\n",
        "            agent.partial_fit([env.reset()], np.random.randn(n_actions))\n",
        "    \n",
        "    return agent"
      ]
    },
    {
      "cell_type": "markdown",
      "metadata": {
        "id": "VcgHaC7wG1SI"
      },
      "source": [
        "Генератор эпизодов, приспособленный к параллелизации:"
      ]
    },
    {
      "cell_type": "code",
      "execution_count": null,
      "metadata": {
        "id": "PlTnHZAjG1SI"
      },
      "outputs": [],
      "source": [
        "import pickle as pkl\n",
        "\n",
        "\n",
        "def generate_parallel_session(agent, name='MountainCar-v0', t_max=10000, classification=True,\n",
        "                              epsilon=0.01, agent_mul_fac=1.0, test=False, env=None):\n",
        "    \"\"\"\n",
        "    Сыграть отдельный эпизод, используя нейросетевую параметризацию агента.\n",
        "    Останов после :t_max: шагов среды.\n",
        "    \"\"\"\n",
        "    \n",
        "    states, actions = [], []\n",
        "    total_reward = 0\n",
        "    \n",
        "    if env is None:\n",
        "        env = gym.make(name).env\n",
        "    if classification:\n",
        "        n_actions = env.action_space.n\n",
        "    else:\n",
        "        n_actions = sum(env.action_space.shape)\n",
        "    s = env.reset()\n",
        "\n",
        "    for t in range(t_max):\n",
        "        \n",
        "        if classification:\n",
        "            probs = < оценка вероятностей нейросетевой модели >\n",
        "\n",
        "            assert probs.shape == (n_actions,), \"Нужно получить вектор вероятностей\" +\\\n",
        "                \"(функция np.reshape в помощь)\"\n",
        "            \n",
        "            if test:\n",
        "                a = < наиболее вероятное действия относительно probs >\n",
        "            else:\n",
        "                a = < сэмпл действия из распределения probs >\n",
        "        else:\n",
        "            expected_action = < оценка с помощью модели среднего действия, помноженного на agent_mul_fac >\n",
        "            \n",
        "            if test:\n",
        "                a = < само expected_action >\n",
        "            else:\n",
        "                a = < сэмпл из Normal(expected_action, epsilon) >\n",
        "\n",
        "        new_s, r, done, info = env.step(a)\n",
        "\n",
        "        states.append(s)\n",
        "        actions.append(a)\n",
        "        total_reward += r\n",
        "\n",
        "        s = new_s\n",
        "        if done:\n",
        "            break\n",
        "    \n",
        "    del env, s, new_s, a\n",
        "    \n",
        "    return states, actions, total_reward"
      ]
    },
    {
      "cell_type": "markdown",
      "metadata": {
        "id": "7tDkbIZjG1SJ"
      },
      "source": [
        "Функция для обучения агента:"
      ]
    },
    {
      "cell_type": "code",
      "execution_count": null,
      "metadata": {
        "ExecuteTime": {
          "end_time": "2019-09-18T11:27:05.573082Z",
          "start_time": "2019-09-18T11:27:05.556702Z"
        },
        "run_control": {
          "frozen": false,
          "read_only": false
        },
        "id": "ziedz2zMG1SJ"
      },
      "outputs": [],
      "source": [
        "from collections import deque\n",
        "from multiprocessing import Pool\n",
        "from functools import partial\n",
        "\n",
        "\n",
        "def train_agent(classification=True, epsilon=0.01, name='MountainCar-v0', n_train_steps=100,\n",
        "                n_game_steps=10000, n_sessions=100, percentile=70, goal_score=-150, history_length=4,\n",
        "                n_jobs=16, verbose=True, agent_mul_fac=1.0, **params):\n",
        "    env = gym.make(name).env\n",
        "    if classification:\n",
        "        n_actions = env.action_space.n\n",
        "    else:\n",
        "        n_actions = sum(env.action_space.shape)\n",
        "    \n",
        "    agent = init_agent(env, classification, **params)\n",
        "    \n",
        "    if verbose:\n",
        "        print('Шаг агента = {}'.format(agent.learning_rate_init), flush=True)\n",
        "    \n",
        "    log = []\n",
        "    sessions = deque([], history_length * n_sessions)\n",
        "    \n",
        "    for i in range(n_train_steps):\n",
        "        if n_jobs > 1:\n",
        "            pool = Pool(processes=n_jobs, maxtasksperchild=10)\n",
        "            sessions.extend(pool.map(partial(generate_parallel_session, agent, name, n_game_steps,\n",
        "                                             classification, epsilon, agent_mul_fac), [False] * n_sessions))\n",
        "            pool.close()\n",
        "            pool.join()\n",
        "            del pool\n",
        "        else:\n",
        "            sessions.extend([generate_parallel_session(\n",
        "                agent, name, n_game_steps, classification, epsilon, agent_mul_fac,\n",
        "                False) for _ in range(n_sessions)])\n",
        "        \n",
        "        states_batch, actions_batch, rewards_batch = map(np.array, zip(*sessions))\n",
        "        elite_states, elite_actions = strictly_select_elites(\n",
        "            states_batch, actions_batch, rewards_batch, percentile, classification)\n",
        "        \n",
        "        if classification:\n",
        "            agent.partial_fit(elite_states, elite_actions)\n",
        "        else:\n",
        "            elite_actions = elite_actions if (len(elite_actions.shape) < 2) or (elite_actions.shape[1] > 1)\\\n",
        "                            else elite_actions.reshape(-1)\n",
        "            agent.partial_fit(elite_states, elite_actions / agent_mul_fac)\n",
        "        \n",
        "        if verbose:\n",
        "            inter_min = np.min(rewards_batch)\n",
        "            min_lim = -n_game_steps if -n_game_steps < inter_min else inter_min\n",
        "            inter_max = np.max(rewards_batch)\n",
        "            max_lim = goal_score if goal_score > inter_max else inter_max\n",
        "            show_progress(rewards_batch, log, percentile, reward_range=[min_lim, max_lim])\n",
        "            \n",
        "            if np.mean(rewards_batch) > goal_score:\n",
        "                print(\"Вы выиграли! Можете прервать процедуру обучения с помощью сигнала KeyboardInterrupt.\")\n",
        "    \n",
        "    if verbose:\n",
        "        mean_reward = np.mean(rewards_batch)\n",
        "        threshold = np.percentile(rewards_batch, percentile)\n",
        "        print(\"средняя награда = %.3f, порог=%.3f\" % (mean_reward, threshold))\n",
        "        del mean_reward, threshold\n",
        "    \n",
        "    del env, sessions, states_batch, actions_batch, rewards_batch, elite_states, elite_actions\n",
        "    \n",
        "    return agent, log"
      ]
    },
    {
      "cell_type": "markdown",
      "metadata": {
        "id": "1mvxZNtXG1SJ"
      },
      "source": [
        "Функция для постановки экспериментов, зависящих от набора гиперпараметров:"
      ]
    },
    {
      "cell_type": "code",
      "execution_count": null,
      "metadata": {
        "id": "LwjblzBAG1SK"
      },
      "outputs": [],
      "source": [
        "from time import time\n",
        "\n",
        "\n",
        "def training_experiment(n_jobs_list, history_length_list, learning_rate_init_list, n_train_steps_list,\n",
        "                        n_samples=5, name='MountainCar-v0', n_game_steps=10000, n_sessions=100, percentile=70,\n",
        "                        goal_score=-150, **params):\n",
        "    experiment_data = []\n",
        "    \n",
        "    for n_jobs in n_jobs_list:\n",
        "        for history_length in history_length_list:\n",
        "            for learning_rate_init in learning_rate_init_list:\n",
        "                params['learning_rate_init'] = learning_rate_init\n",
        "                for n_train_steps in n_train_steps_list:\n",
        "                    elapsed_time_list = []\n",
        "                    log_list = []\n",
        "                    \n",
        "                    for i in range(n_samples):\n",
        "                        print(\n",
        "                            'Запуск: n_jobs = {}, history_length = {},\\n'.format(\n",
        "                                n_jobs, history_length) +\\\n",
        "                            '                  learning_rate_init = {}, n_train_steps = {};\\n'.format(\n",
        "                                learning_rate_init, n_train_steps) +\\\n",
        "                            'сэмпл {} из {}.'.format(\n",
        "                                i + 1, n_samples), flush=True)\n",
        "                        \n",
        "                        elapsed_time = time()\n",
        "                        \n",
        "                        agent, log = train_agent(\n",
        "                            classification=True, epsilon=0.01, name=name, n_train_steps=n_train_steps,\n",
        "                            n_game_steps=n_game_steps, n_sessions=n_sessions, percentile=percentile,\n",
        "                            goal_score=goal_score, history_length=history_length, n_jobs=n_jobs, verbose=True,\n",
        "                            **params)\n",
        "                        \n",
        "                        elapsed_time_list.append(time() - elapsed_time)\n",
        "                        \n",
        "                        log_list.append(log)\n",
        "                        \n",
        "                        del log, agent\n",
        "                        \n",
        "                    results = {\n",
        "                               'name': name,\n",
        "                               'goal_score': goal_score,\n",
        "                               'n_jobs': n_jobs,\n",
        "                               'elapsed_time_list': elapsed_time_list,\n",
        "                               'history_length': history_length,\n",
        "                               'learning_rate_init': learning_rate_init,\n",
        "                               'n_train_steps': n_train_steps,\n",
        "                               'log_list': log_list\n",
        "                              }\n",
        "                        \n",
        "                    experiment_data.append(results)\n",
        "                    \n",
        "                    del elapsed_time_list, log_list\n",
        "    return experiment_data"
      ]
    },
    {
      "cell_type": "markdown",
      "metadata": {
        "id": "RpD7mfq-G1SK"
      },
      "source": [
        "Функция-помощник для визуализации эффектов от переиспользования сэмплов:"
      ]
    },
    {
      "cell_type": "code",
      "execution_count": null,
      "metadata": {
        "id": "-SfOab2vG1SK"
      },
      "outputs": [],
      "source": [
        "def plot_history_length_experiment_results(df_data):\n",
        "    history_length_vals = []\n",
        "    train_step_vals = []\n",
        "    reward_vals = []\n",
        "    mean_threshold_vals = []\n",
        "    \n",
        "    for config in df_data:\n",
        "        for log in config['log_list']:\n",
        "            mean_rewards, reward_thresholds = zip(*log)\n",
        "            mean_rewards, reward_thresholds = list(mean_rewards), list(reward_thresholds)\n",
        "            reward_vals.extend(mean_rewards)\n",
        "            reward_vals.extend(reward_thresholds)\n",
        "            train_steps_num = len(mean_rewards)\n",
        "            train_step_vals.extend(range(train_steps_num))\n",
        "            train_step_vals.extend(range(train_steps_num))\n",
        "            history_length_vals.extend([config['history_length']] * train_steps_num * 2)\n",
        "            mean_threshold_vals.extend(['mean'] * train_steps_num)\n",
        "            mean_threshold_vals.extend(['threshold'] * train_steps_num)\n",
        "    \n",
        "    df = pd.DataFrame({'Переиспользованных шагов': history_length_vals, 'Шаг №': train_step_vals,\n",
        "                       'Награда': reward_vals, 'Вид награды': mean_threshold_vals})\n",
        "    last_steps_count = np.sort(df.loc[:, 'Переиспользованных шагов'].unique())\n",
        "    max_n_colors = last_steps_count.size\n",
        "    palette = dict(zip(last_steps_count, sns.hls_palette(max_n_colors, l=.45, s=.8)))\n",
        "    \n",
        "    sns.set(font_scale=1.35)\n",
        "    g = sns.relplot(x='Шаг №', y='Награда', hue='Переиспользованных шагов', style='Вид награды', kind='line',\n",
        "                    data=df, height=8, aspect=1.5, palette=palette)\n",
        "    g.fig.suptitle('Влияние количества переиспользованных шагов при обучении {}'.format(df_data[0]['name']))\n",
        "    clear_output(True)\n",
        "    plt.show()"
      ]
    },
    {
      "cell_type": "markdown",
      "metadata": {
        "id": "s1mC4muGG1SK"
      },
      "source": [
        "Функция-помощник для визуализации влияния шага обучения и количества итераций при обучении агента:"
      ]
    },
    {
      "cell_type": "code",
      "execution_count": null,
      "metadata": {
        "id": "jz_p_bt-G1SL"
      },
      "outputs": [],
      "source": [
        "def plot_lrt_experiment_results(df_data):\n",
        "    learning_rate_vals = []\n",
        "    max_train_steps_vals = []\n",
        "    train_step_vals = []\n",
        "    reward_vals = []\n",
        "    mean_threshold_vals = []\n",
        "    \n",
        "    for config in df_data:\n",
        "        for log in config['log_list']:\n",
        "            mean_rewards, reward_thresholds = zip(*log)\n",
        "            mean_rewards, reward_thresholds = list(mean_rewards), list(reward_thresholds)\n",
        "            reward_vals.extend(mean_rewards)\n",
        "            reward_vals.extend(reward_thresholds)\n",
        "            train_steps_num = len(mean_rewards)\n",
        "            train_step_vals.extend(range(train_steps_num))\n",
        "            train_step_vals.extend(range(train_steps_num))\n",
        "            learning_rate_vals.extend([config['learning_rate_init']] * train_steps_num * 2)\n",
        "            max_train_steps_vals.extend([config['n_train_steps']] * train_steps_num * 2)\n",
        "            mean_threshold_vals.extend(['mean'] * train_steps_num)\n",
        "            mean_threshold_vals.extend(['threshold'] * train_steps_num)\n",
        "                \n",
        "    df = pd.DataFrame({'Шаг метода': learning_rate_vals, 'Максимум шагов': max_train_steps_vals,\n",
        "                       'Шаг №': train_step_vals, 'Награда': reward_vals,\n",
        "                       'Вид награды': mean_threshold_vals})\n",
        "    lr_vals = np.sort(df.loc[:, 'Learning rate'].unique())\n",
        "    max_n_colors = lr_vals.size\n",
        "    palette = dict(zip(lr_vals, sns.hls_palette(max_n_colors, l=.45, s=.8)))\n",
        "    \n",
        "    sns.set(font_scale=1.35)\n",
        "    g = sns.relplot(x='Шаг №', y='Награда', hue='Шаг метода', style='Вид награды', kind='line',\n",
        "                    row='Максимум шагов', data=df, height=6, aspect=1.8, palette=palette)\n",
        "    g.fig.suptitle('Влияние шага метода и количества итераций на {}'.format(df_data[0]['name']),\n",
        "                   x=0.8, y=1.05)\n",
        "    leg = g._legend\n",
        "    for lr, label in zip(lr_vals, leg.texts[1:]):\n",
        "        label.set_text(\"{:.4f}\".format(lr))\n",
        "    clear_output(True)\n",
        "    plt.show()"
      ]
    },
    {
      "cell_type": "markdown",
      "metadata": {
        "id": "9p3RogwZG1SL"
      },
      "source": [
        "Функция для записи сэмплированных игровых эпизодов:"
      ]
    },
    {
      "cell_type": "code",
      "execution_count": null,
      "metadata": {
        "id": "cLonGAPfG1SL"
      },
      "outputs": [],
      "source": [
        "def record_sessions(agent, name, t_max=10000, classification=True, epsilon=0.01, agent_mul_fac=1.0):\n",
        "    for kind, directory in [(True, \"test\"), (False, \"sample\")]:\n",
        "        env = gym.wrappers.Monitor(gym.make(name),\n",
        "                                   directory=\"videos/{}/{}\".format(name, directory), force=True)\n",
        "        sessions = [generate_parallel_session(agent, name=name, t_max=t_max, classification=classification,\n",
        "                                              epsilon=epsilon, agent_mul_fac=agent_mul_fac, test=kind,\n",
        "                                              env=env) for _ in range(100)]\n",
        "        env.close()"
      ]
    },
    {
      "cell_type": "markdown",
      "metadata": {
        "id": "_wOsu_0WG1SM"
      },
      "source": [
        "Функция, позволяющая вставить запись игрового эпизода в ноутбук:"
      ]
    },
    {
      "cell_type": "code",
      "execution_count": null,
      "metadata": {
        "id": "_W6Qz3RrG1SM"
      },
      "outputs": [],
      "source": [
        "def show_video(name, directory):\n",
        "    path = \"./videos/{}/{}\".format(name, directory)\n",
        "    video_names = list(\n",
        "        filter(lambda s: s.endswith(\".mp4\"), os.listdir(path)))\n",
        "    return HTML(\"\"\"\n",
        "    <video width=\"640\" height=\"480\" controls>\n",
        "    <source src=\"{}\" type=\"video/mp4\">\n",
        "    </video>\n",
        "    \"\"\".format(path + \"/\" + video_names[-1]))"
      ]
    },
    {
      "cell_type": "markdown",
      "metadata": {
        "id": "WTBhOG1aG1SM"
      },
      "source": [
        "Сетка параметров для проведения экспериментов:"
      ]
    },
    {
      "cell_type": "code",
      "execution_count": null,
      "metadata": {
        "id": "8qaewKncG1SM"
      },
      "outputs": [],
      "source": [
        "< n_jobs_list = сетка на количество процессов\n",
        "history_length_list = сетка на размер истории\n",
        "learning_rate_init_list = сетка на шаги метода\n",
        "n_train_steps_list = сетка на количество итераций метода >"
      ]
    },
    {
      "cell_type": "markdown",
      "metadata": {
        "id": "XttypSyvG1SM"
      },
      "source": [
        "## Глубокий кросс-энтропийный метод в среде MountainCar-v0"
      ]
    },
    {
      "cell_type": "code",
      "execution_count": null,
      "metadata": {
        "ExecuteTime": {
          "end_time": "2019-09-18T11:26:58.566980Z",
          "start_time": "2019-09-18T11:26:58.237111Z"
        },
        "run_control": {
          "frozen": false,
          "read_only": false
        },
        "id": "mLngWjLQG1SN"
      },
      "outputs": [],
      "source": [
        "sns.set(font_scale=1.)\n",
        "env, n_actions, _ = get_env(\"MountainCar-v0\")"
      ]
    },
    {
      "cell_type": "code",
      "execution_count": null,
      "metadata": {
        "ExecuteTime": {
          "end_time": "2019-09-18T11:26:59.458476Z",
          "start_time": "2019-09-18T11:26:59.453077Z"
        },
        "run_control": {
          "frozen": false,
          "read_only": false
        },
        "id": "gmEmKPm1G1SN"
      },
      "outputs": [],
      "source": [
        "env.observation_space, env.action_space"
      ]
    },
    {
      "cell_type": "markdown",
      "metadata": {
        "id": "V1cUiSkxG1SN"
      },
      "source": [
        "Поиск оптимального количества параллельных легковесных процессов (нитей) на конечной машине:"
      ]
    },
    {
      "cell_type": "code",
      "execution_count": null,
      "metadata": {
        "id": "RVo93APpG1SN"
      },
      "outputs": [],
      "source": [
        "%%time\n",
        "\n",
        "n_jobs_experiment_data = < запуск перебора на сетке с помощью training_experiment >\n",
        "\n",
        "sns.set(font_scale=1.)\n",
        "pkl.dump(n_jobs_experiment_data, open('MountainCar-v0_n_jobs_experiment_data.pkl', 'wb'))\n",
        "clear_output(True)"
      ]
    },
    {
      "cell_type": "markdown",
      "metadata": {
        "id": "NxsXJbkTG1SN"
      },
      "source": [
        "Визуализация результатов эксперимента:"
      ]
    },
    {
      "cell_type": "code",
      "execution_count": null,
      "metadata": {
        "id": "7B3zZha7G1SN"
      },
      "outputs": [],
      "source": [
        "import seaborn as sns\n",
        "from matplotlib import pyplot as plt\n",
        "import pandas as pd\n",
        "\n",
        "\n",
        "n_jobs_vals = []\n",
        "elapsed_time_vals = []\n",
        "elapsed_time_vars = []\n",
        "\n",
        "for config in n_jobs_experiment_data:\n",
        "    n_jobs_vals.append(config['n_jobs'])\n",
        "    elapsed_time_vals.append(np.mean(config['elapsed_time_list']))\n",
        "    elapsed_time_vars.append(np.std(config['elapsed_time_list']))\n",
        "\n",
        "df = pd.DataFrame({'Количество нитей': n_jobs_vals, 'Средний ETA, сек.': elapsed_time_vals,\n",
        "                   'Стандартное отклонение ETA': elapsed_time_vars})\n",
        "\n",
        "plt.figure(figsize=(12, 6))\n",
        "sns.set(font_scale=1.35)\n",
        "plt.title('Производительность 5 итераций обучения на {}'.format(n_jobs_experiment_data[0]['name']),\n",
        "          fontsize=16)\n",
        "ax = sns.scatterplot(x='Количество нитей', y='Средний ETA, сек.', size='Стандартное отклонение ETA',\n",
        "                     sizes=(40, 400), data=df)\n",
        "min_val = np.min(elapsed_time_vals)\n",
        "ax.axhline(min_val, color='red', ls='--', linewidth=2, label='{:.2f} сек.'.format(min_val))\n",
        "plt.legend()\n",
        "clear_output(True)\n",
        "plt.show()"
      ]
    },
    {
      "cell_type": "markdown",
      "metadata": {
        "id": "PuA72h8MG1SO"
      },
      "source": [
        "Исследование влияния переиспользования сэмплов в процессе обучения:"
      ]
    },
    {
      "cell_type": "code",
      "execution_count": null,
      "metadata": {
        "id": "KyAs84U0G1SO"
      },
      "outputs": [],
      "source": [
        "%%time\n",
        "\n",
        "history_length_experiment_data = < запуск перебора на сетке с помощью training_experiment >\n",
        "\n",
        "sns.set(font_scale=1.)\n",
        "pkl.dump(history_length_experiment_data, open('MountainCar-v0_history_length_experiment_data.pkl', 'wb'))\n",
        "clear_output(True)"
      ]
    },
    {
      "cell_type": "markdown",
      "metadata": {
        "id": "bZf4oEPLG1SO"
      },
      "source": [
        "Результаты текущего эксперимента:"
      ]
    },
    {
      "cell_type": "code",
      "execution_count": null,
      "metadata": {
        "id": "r1n0Hda2G1SO"
      },
      "outputs": [],
      "source": [
        "plot_history_length_experiment_results(history_length_experiment_data)"
      ]
    },
    {
      "cell_type": "markdown",
      "metadata": {
        "id": "j7IFMxxeG1SO"
      },
      "source": [
        "Поиск оптимального шага обучения для многослойного перцептрона (MLP) вместе c подбором количества шагов обучения:"
      ]
    },
    {
      "cell_type": "code",
      "execution_count": null,
      "metadata": {
        "id": "an18WAacG1SO"
      },
      "outputs": [],
      "source": [
        "%%time\n",
        "\n",
        "lrt_experiment_data = < запуск перебора на сетке с помощью training_experiment >\n",
        "\n",
        "sns.set(font_scale=1.)\n",
        "pkl.dump(lrt_experiment_data, open('MountainCar-v0_lrt_experiment_data.pkl', 'wb'))\n",
        "clear_output(True)"
      ]
    },
    {
      "cell_type": "markdown",
      "metadata": {
        "id": "Yg7bNMtGG1SP"
      },
      "source": [
        "Результаты текущего эксперимента:"
      ]
    },
    {
      "cell_type": "code",
      "execution_count": null,
      "metadata": {
        "id": "wbOb7xxaG1SP"
      },
      "outputs": [],
      "source": [
        "plot_lrt_experiment_results(lrt_experiment_data)"
      ]
    },
    {
      "cell_type": "markdown",
      "metadata": {
        "id": "RZZJsSsKG1SP"
      },
      "source": [
        "Обучение агента на задаче MountainCar-v0 с использованием подобранных ранее гиперпараметров:"
      ]
    },
    {
      "cell_type": "code",
      "execution_count": null,
      "metadata": {
        "id": "qAHP-gG3G1SP"
      },
      "outputs": [],
      "source": [
        "%%time\n",
        "\n",
        "sns.set(font_scale=1.)\n",
        "agent, _ = < запуск функции train_agent для обучения агента >"
      ]
    },
    {
      "cell_type": "markdown",
      "metadata": {
        "id": "fpRM2T2FG1SP"
      },
      "source": [
        "Визуализация действий обученного агента в зависимости скорости и положения:"
      ]
    },
    {
      "cell_type": "code",
      "execution_count": null,
      "metadata": {
        "ExecuteTime": {
          "end_time": "2019-09-18T11:55:31.581377Z",
          "start_time": "2019-09-18T11:55:31.311601Z"
        },
        "run_control": {
          "frozen": false,
          "read_only": false
        },
        "id": "4mAzb7c-G1SP"
      },
      "outputs": [],
      "source": [
        "sns.set(font_scale=1.)\n",
        "plt.imshow(visualize_mountain_car(env, agent))"
      ]
    },
    {
      "cell_type": "markdown",
      "metadata": {
        "id": "nTLk36VmG1SQ"
      },
      "source": [
        "Сэмпл детерминированной стратегии по въезду на холм:"
      ]
    },
    {
      "cell_type": "code",
      "execution_count": null,
      "metadata": {
        "id": "iPzfuBItG1SQ"
      },
      "outputs": [],
      "source": [
        "record_sessions(agent, \"MountainCar-v0\")\n",
        "show_video(\"MountainCar-v0\", \"test\")"
      ]
    },
    {
      "cell_type": "markdown",
      "metadata": {
        "id": "A4Ea1oz1G1SQ"
      },
      "source": [
        "Сэмпл стохастической стратегии по въезду на холм:"
      ]
    },
    {
      "cell_type": "code",
      "execution_count": null,
      "metadata": {
        "id": "Yq9Eo_UbG1SQ"
      },
      "outputs": [],
      "source": [
        "show_video(\"MountainCar-v0\", \"sample\")"
      ]
    },
    {
      "cell_type": "markdown",
      "metadata": {
        "id": "xD0s60rOG1SQ"
      },
      "source": [
        "## Обучение агента в среде LunarLander-v2"
      ]
    },
    {
      "cell_type": "code",
      "execution_count": null,
      "metadata": {
        "ExecuteTime": {
          "end_time": "2019-09-18T12:12:40.985701Z",
          "start_time": "2019-09-18T12:12:40.844112Z"
        },
        "run_control": {
          "frozen": false,
          "read_only": false
        },
        "id": "iu_TG3VMG1SQ"
      },
      "outputs": [],
      "source": [
        "sns.set(font_scale=1.)\n",
        "env, n_actions, _ = get_env(\"LunarLander-v2\")"
      ]
    },
    {
      "cell_type": "code",
      "execution_count": null,
      "metadata": {
        "id": "wn8lI2_KG1SR"
      },
      "outputs": [],
      "source": [
        "env.observation_space, env.action_space"
      ]
    },
    {
      "cell_type": "markdown",
      "metadata": {
        "id": "WLUFxZuWG1SR"
      },
      "source": [
        "Обучение агента:"
      ]
    },
    {
      "cell_type": "code",
      "execution_count": null,
      "metadata": {
        "id": "mayo3ZTUG1SR"
      },
      "outputs": [],
      "source": [
        "%%time\n",
        "\n",
        "agent, _ = < запуск функции train_agent для обучения агента >"
      ]
    },
    {
      "cell_type": "markdown",
      "metadata": {
        "id": "6Md7GT9mG1SR"
      },
      "source": [
        "Детерминированная стратегия:"
      ]
    },
    {
      "cell_type": "code",
      "execution_count": null,
      "metadata": {
        "id": "Kt5cLiVpG1SR"
      },
      "outputs": [],
      "source": [
        "record_sessions(agent, 'LunarLander-v2', t_max=1000)\n",
        "show_video('LunarLander-v2', 'test')"
      ]
    },
    {
      "cell_type": "markdown",
      "metadata": {
        "id": "o2JH-4gRG1SR"
      },
      "source": [
        "Стохастическая стратегия:"
      ]
    },
    {
      "cell_type": "code",
      "execution_count": null,
      "metadata": {
        "id": "_QQf3C-GG1SS"
      },
      "outputs": [],
      "source": [
        "show_video('LunarLander-v2', 'sample')"
      ]
    },
    {
      "cell_type": "markdown",
      "metadata": {
        "run_control": {
          "frozen": false,
          "read_only": false
        },
        "id": "GZCRgAl4G1SS"
      },
      "source": [
        "### Ещё дополнительное задание (вплоть до 5 баллов)\n",
        "\n",
        "* __2.3 дополнительное__ Обучить агента в среде с непрерывным пространством действий с помощью `MLPRegressor` или похожим образом.\n",
        "  * Начните с [\"Pendulum-v0\"](https://www.gymlibrary.dev/environments/classic_control/pendulum/), попробуйте получить среднее вознаграждение **как минимум -300**.\n",
        "  * Поскольку Ваш агент оценивает \"среднее\" действие, полезно добавить небольшой шум для исследования среды.\n",
        "  * Обучить агентов в [MountainCarContinuous-v0](https://mgoulao.github.io/gym-docs/environments/classic_control/mountain_car_continuous/), [LunarLanderContinuous-v2](https://www.gymlibrary.dev/environments/box2d/lunar_lander/). За достижение награды ниже порогового значения будет начислено меньше баллов. Помните, что дискретные и непрерывные среды могут отличаться не только в пространстве действий. Требования на среднее вознаграждение такие же, как и в случае сред **MountainCar** и **LunarLander** ранее.\n",
        "  * __Просьба при сдаче задания перечислить, что было сделано__"
      ]
    },
    {
      "cell_type": "markdown",
      "metadata": {
        "id": "FnA4e7pgG1SS"
      },
      "source": [
        "## Обучение в Pendulum-v0"
      ]
    },
    {
      "cell_type": "code",
      "execution_count": null,
      "metadata": {
        "id": "YTm1LidoG1SS"
      },
      "outputs": [],
      "source": [
        "sns.set(font_scale=1.)\n",
        "env, n_actions, _ = get_env('Pendulum-v0', False)"
      ]
    },
    {
      "cell_type": "code",
      "execution_count": null,
      "metadata": {
        "id": "Y9iBjXewG1SS"
      },
      "outputs": [],
      "source": [
        "env.observation_space, env.action_space"
      ]
    },
    {
      "cell_type": "markdown",
      "metadata": {
        "id": "omVZGDvfG1SS"
      },
      "source": [
        "Обучение агента:"
      ]
    },
    {
      "cell_type": "code",
      "execution_count": null,
      "metadata": {
        "id": "trJvFim6G1ST"
      },
      "outputs": [],
      "source": [
        "%%time\n",
        "\n",
        "agent, _ = < запуск функции train_agent для обучения агента >"
      ]
    },
    {
      "cell_type": "markdown",
      "metadata": {
        "id": "HDKhc9zWG1ST"
      },
      "source": [
        "Детерминированная стратегия:"
      ]
    },
    {
      "cell_type": "code",
      "execution_count": null,
      "metadata": {
        "id": "VVXDIbOSG1ST"
      },
      "outputs": [],
      "source": [
        "record_sessions(agent, 'Pendulum-v0', t_max=1000, classification=False, epsilon=.5, agent_mul_fac=2.)\n",
        "show_video('Pendulum-v0', 'test')"
      ]
    },
    {
      "cell_type": "markdown",
      "metadata": {
        "id": "SbfFf3MXG1ST"
      },
      "source": [
        "Стохастическая стратегия:"
      ]
    },
    {
      "cell_type": "code",
      "execution_count": null,
      "metadata": {
        "id": "Kwi766UKG1SU"
      },
      "outputs": [],
      "source": [
        "show_video('Pendulum-v0', 'sample')"
      ]
    },
    {
      "cell_type": "markdown",
      "metadata": {
        "id": "3pniby-1G1SU"
      },
      "source": [
        "## Обучение MountainCarContinuous-v0"
      ]
    },
    {
      "cell_type": "code",
      "execution_count": null,
      "metadata": {
        "id": "qB7aeBpRG1SU"
      },
      "outputs": [],
      "source": [
        "sns.set(font_scale=1.)\n",
        "env, n_actions, _ = get_env('MountainCarContinuous-v0', False)"
      ]
    },
    {
      "cell_type": "code",
      "execution_count": null,
      "metadata": {
        "id": "fZcGNnZgG1SU"
      },
      "outputs": [],
      "source": [
        "env.observation_space, env.action_space"
      ]
    },
    {
      "cell_type": "markdown",
      "metadata": {
        "id": "gE4j4f9dG1SU"
      },
      "source": [
        "Обучение агента:"
      ]
    },
    {
      "cell_type": "code",
      "execution_count": null,
      "metadata": {
        "id": "Qd9OSa8fG1SU"
      },
      "outputs": [],
      "source": [
        "%%time\n",
        "\n",
        "agent, _ = < запуск функции train_agent для обучения агента >"
      ]
    },
    {
      "cell_type": "markdown",
      "metadata": {
        "id": "oLctQFwcG1SV"
      },
      "source": [
        "Детерминированная стратегия:"
      ]
    },
    {
      "cell_type": "code",
      "execution_count": null,
      "metadata": {
        "id": "_uBEx_QMG1SV"
      },
      "outputs": [],
      "source": [
        "record_sessions(agent, 'MountainCarContinuous-v0', t_max=10000, classification=False, epsilon=1.0,\n",
        "                agent_mul_fac=1.0)\n",
        "show_video('MountainCarContinuous-v0', 'test')"
      ]
    },
    {
      "cell_type": "markdown",
      "metadata": {
        "id": "SqFiJZzkG1SV"
      },
      "source": [
        "Стохастическая стратегия:"
      ]
    },
    {
      "cell_type": "code",
      "execution_count": null,
      "metadata": {
        "id": "BIWtn6EMG1SV"
      },
      "outputs": [],
      "source": [
        "show_video('MountainCarContinuous-v0', 'sample')"
      ]
    },
    {
      "cell_type": "markdown",
      "metadata": {
        "id": "_xvUOm-xG1SV"
      },
      "source": [
        "## Обучение LunarLanderContinuous-v2"
      ]
    },
    {
      "cell_type": "code",
      "execution_count": null,
      "metadata": {
        "id": "U4zlWxE_G1SV"
      },
      "outputs": [],
      "source": [
        "sns.set(font_scale=1.)\n",
        "env, n_actions, _ = get_env('LunarLanderContinuous-v2', False)"
      ]
    },
    {
      "cell_type": "code",
      "execution_count": null,
      "metadata": {
        "id": "wppQmw5tG1SW"
      },
      "outputs": [],
      "source": [
        "env.observation_space, env.action_space"
      ]
    },
    {
      "cell_type": "markdown",
      "metadata": {
        "id": "ctkjlfREG1SW"
      },
      "source": [
        "Обучение агента:"
      ]
    },
    {
      "cell_type": "code",
      "execution_count": null,
      "metadata": {
        "id": "KVmUPOrgG1SW"
      },
      "outputs": [],
      "source": [
        "%%time\n",
        "\n",
        "agent, _ = < запуск функции train_agent для обучения агента >"
      ]
    },
    {
      "cell_type": "markdown",
      "metadata": {
        "id": "Zhvxxk7kG1SW"
      },
      "source": [
        "Детерминированная стратегия:"
      ]
    },
    {
      "cell_type": "code",
      "execution_count": null,
      "metadata": {
        "id": "kpZ8AsPnG1SW"
      },
      "outputs": [],
      "source": [
        "record_sessions(agent, 'LunarLanderContinuous-v2', t_max=1000, classification=False, epsilon=1.0,\n",
        "                agent_mul_fac=1.0)\n",
        "show_video('LunarLanderContinuous-v2', 'test')"
      ]
    },
    {
      "cell_type": "markdown",
      "metadata": {
        "id": "Qp_KwlBLG1SW"
      },
      "source": [
        "Стохастическая стратегия:"
      ]
    },
    {
      "cell_type": "code",
      "execution_count": null,
      "metadata": {
        "id": "tRImNkfAG1SW"
      },
      "outputs": [],
      "source": [
        "show_video('LunarLanderContinuous-v2', 'sample')"
      ]
    },
    {
      "cell_type": "code",
      "execution_count": null,
      "metadata": {
        "id": "gnL_yUVBG1SX"
      },
      "outputs": [],
      "source": []
    }
  ],
  "metadata": {
    "kernelspec": {
      "display_name": "Python 3",
      "language": "python",
      "name": "python3"
    },
    "language_info": {
      "codemirror_mode": {
        "name": "ipython",
        "version": 3
      },
      "file_extension": ".py",
      "mimetype": "text/x-python",
      "name": "python",
      "nbconvert_exporter": "python",
      "pygments_lexer": "ipython3",
      "version": "3.8.10"
    },
    "colab": {
      "provenance": []
    },
    "gpuClass": "standard"
  },
  "nbformat": 4,
  "nbformat_minor": 0
}